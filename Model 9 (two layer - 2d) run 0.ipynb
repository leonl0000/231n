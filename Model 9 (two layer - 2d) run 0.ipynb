{
 "cells": [
  {
   "cell_type": "code",
   "execution_count": 6,
   "metadata": {},
   "outputs": [
    {
     "name": "stdout",
     "output_type": "stream",
     "text": [
      "The autoreload extension is already loaded. To reload it, use:\n",
      "  %reload_ext autoreload\n"
     ]
    }
   ],
   "source": [
    "%load_ext autoreload\n",
    "%autoreload 2\n",
    "%matplotlib inline\n",
    "\n",
    "import torch\n",
    "import numpy as np\n",
    "import torch.nn as nn\n",
    "import torch.optim as optim\n",
    "import torch.nn.functional as F \n",
    "\n",
    "import utils.tavr_torch as tavr_torch\n",
    "from utils.tavr_torch import TAVR_3_Frame, TAVR_1_Frame, TAVR_Sequence, tavr_dataloader\n",
    "from utils.visualization import display_grid, z_stretch, visualize_frame, set_figsize, get_central_slices\n",
    "from utils.loss_functions import batch_l2_loss\n",
    "from utils.run_model import train, test, save, load, get_loss_history\n",
    "from Models.basic_models import average_model, two_layer_basic, post_process, two_d_three_layer, two_d_two_layer\n",
    "\n",
    "set_figsize(20, 15)"
   ]
  },
  {
   "cell_type": "code",
   "execution_count": 7,
   "metadata": {},
   "outputs": [
    {
     "name": "stdout",
     "output_type": "stream",
     "text": [
      "using device: cpu\n"
     ]
    }
   ],
   "source": [
    "USE_GPU = False\n",
    "dtype = torch.float32 # we will be using float throughout this tutorial\n",
    "if USE_GPU and torch.cuda.is_available():\n",
    "    device = torch.device('cuda')\n",
    "else:\n",
    "    device = torch.device('cpu')\n",
    "print('using device:', device)\n",
    "\n",
    "# \"Pixl\", \"Slice\", or \"None\"\n",
    "preproc_type = \"pixel\"\n",
    "\n",
    "validation = TAVR_3_Frame(\"__valid\", preproc=preproc_type)\n",
    "val_loader = tavr_dataloader(validation, batch_size=4, shuffle=True, num_workers=2)\n",
    "training = TAVR_3_Frame(\"__train\", preproc=preproc_type)\n",
    "train_loader = tavr_dataloader(training,batch_size=8, shuffle=True, num_workers=2)\n",
    "\n",
    "\n",
    "ave_model = average_model()\n",
    "model = two_d_two_layer()\n",
    "post_proc = post_process(kind=preproc_type).to(device=device)\n",
    "loss_fn = batch_l2_loss()\n",
    "\n",
    "# CHANGE TO NAME OF JUPYTER NOTEBOOK\n",
    "model_name = \"Model 9 (two layer - 2d) run 0\""
   ]
  },
  {
   "cell_type": "code",
   "execution_count": 8,
   "metadata": {},
   "outputs": [],
   "source": [
    "learning_rate = 3e-3\n",
    "momentum = 0.90\n",
    "reg = 1e-7\n",
    "\n",
    "optimizer = optim.Adam(model.parameters())"
   ]
  },
  {
   "cell_type": "code",
   "execution_count": 9,
   "metadata": {},
   "outputs": [],
   "source": [
    "# Run cell to load model\n",
    "LOAD = False\n",
    "iteration_num = -1\n",
    "\n",
    "if LOAD:\n",
    "    \n",
    "    load(model_name, iteration_num, model, optimizer)\n",
    "    loss_history = get_loss_history(model_name)\n",
    "    model.to(device=device)\n",
    "else:\n",
    "    loss_history = None"
   ]
  },
  {
   "cell_type": "code",
   "execution_count": null,
   "metadata": {},
   "outputs": [
    {
     "name": "stdout",
     "output_type": "stream",
     "text": [
      "\n",
      "Iteration 0, loss = 1.4486, corrected loss = 674.0837\n",
      "Validation loss 541.7087 over 81 frames\n",
      "model saved to model_checkpoints/Model 9 (two layer - 2d) run 0/Model 9 (two layer - 2d) run 0-0\n",
      "conv_a1.weight,   \tnorm: 3.5520e+00, \tupdate norm: 1.4141e-02 \tUpdate/norm: 3.9812e-03\n",
      "conv_a1.bias,   \tnorm: 3.7717e-01, \tupdate norm: 2.8283e-03 \tUpdate/norm: 7.4989e-03\n",
      "conv_b1.weight,   \tnorm: 3.4165e+00, \tupdate norm: 1.4141e-02 \tUpdate/norm: 4.1391e-03\n",
      "conv_b1.bias,   \tnorm: 3.1589e-01, \tupdate norm: 2.8281e-03 \tUpdate/norm: 8.9529e-03\n",
      "conv_a2.weight,   \tnorm: 3.9256e+00, \tupdate norm: 2.3986e-02 \tUpdate/norm: 6.1100e-03\n",
      "conv_a2.bias,   \tnorm: 2.0069e-01, \tupdate norm: 2.8258e-03 \tUpdate/norm: 1.4081e-02\n",
      "conv_b2.weight,   \tnorm: 4.1074e+00, \tupdate norm: 2.3906e-02 \tUpdate/norm: 5.8202e-03\n",
      "conv_b2.bias,   \tnorm: 1.9154e-01, \tupdate norm: 2.8259e-03 \tUpdate/norm: 1.4754e-02\n",
      "final.weight,   \tnorm: 1.3548e+00, \tupdate norm: 3.9996e-03 \tUpdate/norm: 2.9522e-03\n",
      "final.bias,   \tnorm: 8.0200e-02, \tupdate norm: 1.0000e-03 \tUpdate/norm: 1.2469e-02\n",
      "\n",
      "... 0.7406... 0.4129... 0.3541\n",
      "Iter 10... 0.4028... 0.3563... 0.2563\n",
      "Iter 20... 0.2701... 0.2832... 0.2233\n",
      "Iteration 30, loss = 0.2525, corrected loss = 117.4833\n",
      "Validation loss 111.6461 over 81 frames\n",
      "model saved to model_checkpoints/Model 9 (two layer - 2d) run 0/Model 9 (two layer - 2d) run 0-30\n",
      "conv_a1.weight,   \tnorm: 3.5217e+00, \tupdate norm: 4.7539e-03 \tUpdate/norm: 1.3499e-03\n",
      "conv_a1.bias,   \tnorm: 3.8162e-01, \tupdate norm: 7.8919e-04 \tUpdate/norm: 2.0680e-03\n",
      "conv_b1.weight,   \tnorm: 3.4017e+00, \tupdate norm: 6.0497e-03 \tUpdate/norm: 1.7784e-03\n",
      "conv_b1.bias,   \tnorm: 3.1276e-01, \tupdate norm: 9.3356e-04 \tUpdate/norm: 2.9849e-03\n",
      "conv_a2.weight,   \tnorm: 3.9307e+00, \tupdate norm: 1.3445e-02 \tUpdate/norm: 3.4206e-03\n",
      "conv_a2.bias,   \tnorm: 2.1881e-01, \tupdate norm: 1.3983e-03 \tUpdate/norm: 6.3905e-03\n",
      "conv_b2.weight,   \tnorm: 4.1125e+00, \tupdate norm: 9.4200e-03 \tUpdate/norm: 2.2906e-03\n",
      "conv_b2.bias,   \tnorm: 1.9399e-01, \tupdate norm: 5.3818e-04 \tUpdate/norm: 2.7742e-03\n",
      "final.weight,   \tnorm: 1.3380e+00, \tupdate norm: 1.8519e-03 \tUpdate/norm: 1.3841e-03\n",
      "final.bias,   \tnorm: 7.3199e-02, \tupdate norm: 1.9504e-04 \tUpdate/norm: 2.6645e-03\n",
      "\n",
      "... 0.2493... 0.2589... 0.2119\n",
      "Iter 40... 0.2262.... 0.2178\n",
      "Iter 50... 0.2028... 0.2080... 0.2064\n",
      "Iteration 60, loss = 0.2009, corrected loss = 93.4696\n",
      "Validation loss 88.6223 over 81 frames\n",
      "model saved to model_checkpoints/Model 9 (two layer - 2d) run 0/Model 9 (two layer - 2d) run 0-60\n",
      "conv_a1.weight,   \tnorm: 3.5053e+00, \tupdate norm: 3.5026e-03 \tUpdate/norm: 9.9923e-04\n",
      "conv_a1.bias,   \tnorm: 3.8601e-01, \tupdate norm: 7.0299e-04 \tUpdate/norm: 1.8212e-03\n",
      "conv_b1.weight,   \tnorm: 3.3901e+00, \tupdate norm: 4.7897e-03 \tUpdate/norm: 1.4128e-03\n",
      "conv_b1.bias,   \tnorm: 3.0794e-01, \tupdate norm: 6.1091e-04 \tUpdate/norm: 1.9839e-03\n",
      "conv_a2.weight,   \tnorm: 3.9330e+00, \tupdate norm: 8.0670e-03 \tUpdate/norm: 2.0511e-03\n",
      "conv_a2.bias,   \tnorm: 2.3327e-01, \tupdate norm: 1.2048e-03 \tUpdate/norm: 5.1649e-03\n",
      "conv_b2.weight,   \tnorm: 4.1169e+00, \tupdate norm: 7.7960e-03 \tUpdate/norm: 1.8937e-03\n",
      "conv_b2.bias,   \tnorm: 1.9275e-01, \tupdate norm: 2.2766e-04 \tUpdate/norm: 1.1811e-03\n",
      "final.weight,   \tnorm: 1.3296e+00, \tupdate norm: 1.5218e-03 \tUpdate/norm: 1.1446e-03\n",
      "final.bias,   \tnorm: 7.3587e-02, \tupdate norm: 8.9884e-05 \tUpdate/norm: 1.2215e-03\n",
      "\n",
      "... 0.1872... 0.1715... 0.1867\n",
      "Iter 70... 0.1749... 0.1792... 0.1787\n",
      "Iter 80\n",
      "model saved to model_checkpoints/Model 9 (two layer - 2d) run 0/Model 9 (two layer - 2d) run 0-81\n",
      "(Epoch time: 84.04 minutes. Total epochs: 1)\n",
      "... 0.1690... 0.1713.\n",
      "Iteration 90, loss = 0.1531, corrected loss = 71.2413\n",
      "Validation loss 73.8735 over 81 frames\n",
      "model saved to model_checkpoints/Model 9 (two layer - 2d) run 0/Model 9 (two layer - 2d) run 0-90\n",
      "conv_a1.weight,   \tnorm: 3.4927e+00, \tupdate norm: 3.0439e-03 \tUpdate/norm: 8.7149e-04\n",
      "conv_a1.bias,   \tnorm: 3.9364e-01, \tupdate norm: 1.1317e-03 \tUpdate/norm: 2.8749e-03\n",
      "conv_b1.weight,   \tnorm: 3.3911e+00, \tupdate norm: 4.5444e-03 \tUpdate/norm: 1.3401e-03\n",
      "conv_b1.bias,   \tnorm: 3.0288e-01, \tupdate norm: 6.1487e-04 \tUpdate/norm: 2.0301e-03\n",
      "conv_a2.weight,   \tnorm: 3.9320e+00, \tupdate norm: 6.2335e-03 \tUpdate/norm: 1.5853e-03\n",
      "conv_a2.bias,   \tnorm: 2.3981e-01, \tupdate norm: 7.3209e-04 \tUpdate/norm: 3.0527e-03\n",
      "conv_b2.weight,   \tnorm: 4.1256e+00, \tupdate norm: 7.4995e-03 \tUpdate/norm: 1.8178e-03\n",
      "conv_b2.bias,   \tnorm: 1.8859e-01, \tupdate norm: 5.0980e-04 \tUpdate/norm: 2.7032e-03\n",
      "final.weight,   \tnorm: 1.3248e+00, \tupdate norm: 1.2425e-03 \tUpdate/norm: 9.3791e-04\n",
      "final.bias,   \tnorm: 7.1510e-02, \tupdate norm: 8.6494e-05 \tUpdate/norm: 1.2095e-03\n",
      "\n",
      "... 0.1702... 0.1587... 0.1572\n",
      "Iter 100... 0.1592... 0.1437... 0.1548"
     ]
    }
   ],
   "source": [
    "train(model, post_proc, optimizer, train_loader, val_loader, loss_fn, device, \n",
    "         model_name, loss_history, epochs=3, print_every=30, print_level=4, lr_decay=1)"
   ]
  },
  {
   "cell_type": "code",
   "execution_count": null,
   "metadata": {},
   "outputs": [],
   "source": [
    "# One last test + visualize results on 1 validation sequence\n",
    "val_seq = TAVR_Sequence(\"__valid\")\n",
    "test(ave_model, post_proc, val_loader, loss_fn, device)\n",
    "print('finished average')\n",
    "test(model, post_proc, val_loader, loss_fn, device)"
   ]
  },
  {
   "cell_type": "code",
   "execution_count": null,
   "metadata": {
    "scrolled": true
   },
   "outputs": [],
   "source": [
    "with torch.no_grad():\n",
    "    model.eval()\n",
    "    ave_frames = [post_proc(val_seq[0][0])]\n",
    "    for i in range(2,9,2):\n",
    "        ave_frame = model((val_seq[0][i-2][None,:], val_seq[0][i][None,:]))\n",
    "        print(ave_frame.shape)\n",
    "        ave_frames += [post_proc(ave_frame[0]),  post_proc(val_seq[0][i])]\n",
    "    ave_frames += [post_proc(val_seq[0][9])]\n",
    "    ave_frames_slices = []\n",
    "    for f in ave_frames:\n",
    "        print(f.shape)\n",
    "        ave_frames_slices += get_central_slices(f)\n",
    "    set_figsize(6,20)\n",
    "    display_grid(10, 3, ave_frames_slices)"
   ]
  },
  {
   "cell_type": "code",
   "execution_count": null,
   "metadata": {},
   "outputs": [],
   "source": [
    "print((ave_frames[0][0] - ave_frames[1][0])**2)"
   ]
  },
  {
   "cell_type": "code",
   "execution_count": null,
   "metadata": {},
   "outputs": [],
   "source": [
    "optimizer.param_groups[0]['lr']"
   ]
  },
  {
   "cell_type": "code",
   "execution_count": null,
   "metadata": {},
   "outputs": [],
   "source": [
    "for p in model.parameters():\n",
    "    print(p.norm())"
   ]
  }
 ],
 "metadata": {
  "kernelspec": {
   "display_name": "Python 3",
   "language": "python",
   "name": "python3"
  },
  "language_info": {
   "codemirror_mode": {
    "name": "ipython",
    "version": 3
   },
   "file_extension": ".py",
   "mimetype": "text/x-python",
   "name": "python",
   "nbconvert_exporter": "python",
   "pygments_lexer": "ipython3",
   "version": "3.6.4"
  }
 },
 "nbformat": 4,
 "nbformat_minor": 2
}
