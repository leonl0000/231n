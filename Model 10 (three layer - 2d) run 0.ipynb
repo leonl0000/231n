{
 "cells": [
  {
   "cell_type": "code",
   "execution_count": 12,
   "metadata": {},
   "outputs": [
    {
     "name": "stdout",
     "output_type": "stream",
     "text": [
      "The autoreload extension is already loaded. To reload it, use:\n",
      "  %reload_ext autoreload\n"
     ]
    }
   ],
   "source": [
    "%load_ext autoreload\n",
    "%autoreload 2\n",
    "%matplotlib inline\n",
    "\n",
    "import torch\n",
    "import numpy as np\n",
    "import torch.nn as nn\n",
    "import torch.optim as optim\n",
    "import torch.nn.functional as F \n",
    "\n",
    "import utils.tavr_torch as tavr_torch\n",
    "from utils.tavr_torch import TAVR_3_Frame, TAVR_1_Frame, TAVR_Sequence, tavr_dataloader\n",
    "from utils.visualization import display_grid, z_stretch, visualize_frame, set_figsize, get_central_slices\n",
    "from utils.loss_functions import batch_l2_loss\n",
    "from utils.run_model import train, test, save, load, get_loss_history\n",
    "from Models.basic_models import average_model, two_layer_basic, post_process, two_d_two_layer, two_d_three_layer\n",
    "\n",
    "set_figsize(20, 15)"
   ]
  },
  {
   "cell_type": "code",
   "execution_count": 13,
   "metadata": {},
   "outputs": [
    {
     "name": "stdout",
     "output_type": "stream",
     "text": [
      "using device: cpu\n"
     ]
    }
   ],
   "source": [
    "USE_GPU = False\n",
    "dtype = torch.float32 # we will be using float throughout this tutorial\n",
    "if USE_GPU and torch.cuda.is_available():\n",
    "    device = torch.device('cuda')\n",
    "else:\n",
    "    device = torch.device('cpu')\n",
    "print('using device:', device)\n",
    "\n",
    "# \"Pixl\", \"Slice\", or \"None\"\n",
    "preproc_type = \"pixel\"\n",
    "\n",
    "validation = TAVR_3_Frame(\"__valid\", preproc=preproc_type)\n",
    "val_loader = tavr_dataloader(validation, batch_size=4, shuffle=True, num_workers=2)\n",
    "training = TAVR_3_Frame(\"__train\", preproc=preproc_type)\n",
    "train_loader = tavr_dataloader(training,batch_size=8, shuffle=True, num_workers=2)\n",
    "\n",
    "\n",
    "ave_model = average_model()\n",
    "model = two_d_three_layer()\n",
    "post_proc = post_process(kind=preproc_type).to(device=device)\n",
    "loss_fn = batch_l2_loss()\n",
    "\n",
    "# CHANGE TO NAME OF JUPYTER NOTEBOOK\n",
    "model_name = \"Model 10 (three layer - 2d) Run 0\" # Forgot to change this"
   ]
  },
  {
   "cell_type": "code",
   "execution_count": 14,
   "metadata": {},
   "outputs": [],
   "source": [
    "learning_rate = 3e-3\n",
    "momentum = 0.90\n",
    "reg = 1e-7\n",
    "\n",
    "optimizer = optim.Adam(model.parameters())"
   ]
  },
  {
   "cell_type": "code",
   "execution_count": 15,
   "metadata": {},
   "outputs": [],
   "source": [
    "# Run cell to load model\n",
    "LOAD = False\n",
    "iteration_num = -1\n",
    "\n",
    "if LOAD:\n",
    "    \n",
    "    load(model_name, iteration_num, model, optimizer)\n",
    "    loss_history = get_loss_history(model_name)\n",
    "    model.to(device=device)\n",
    "else:\n",
    "    loss_history = None"
   ]
  },
  {
   "cell_type": "code",
   "execution_count": null,
   "metadata": {},
   "outputs": [
    {
     "name": "stdout",
     "output_type": "stream",
     "text": [
      "\n",
      "Iteration 0, loss = 0.9672, corrected loss = 450.0585\n",
      "Validation loss 402.8865 over 81 frames\n",
      "model saved to model_checkpoints/Model 10 (three layer - 2d) Run 0/Model 10 (three layer - 2d) Run 0-0\n",
      "conv_a1.weight,   \tnorm: 3.6168e+00, \tupdate norm: 1.4142e-02 \tUpdate/norm: 3.9100e-03\n",
      "conv_a1.bias,   \tnorm: 2.0042e-01, \tupdate norm: 2.8284e-03 \tUpdate/norm: 1.4112e-02\n",
      "conv_b1.weight,   \tnorm: 3.9876e+00, \tupdate norm: 1.4142e-02 \tUpdate/norm: 3.5465e-03\n",
      "conv_b1.bias,   \tnorm: 3.6043e-01, \tupdate norm: 2.8284e-03 \tUpdate/norm: 7.8473e-03\n",
      "conv_a2.weight,   \tnorm: 3.9018e+00, \tupdate norm: 2.3946e-02 \tUpdate/norm: 6.1372e-03\n",
      "conv_a2.bias,   \tnorm: 2.1735e-01, \tupdate norm: 2.8279e-03 \tUpdate/norm: 1.3010e-02\n",
      "conv_b2.weight,   \tnorm: 4.0361e+00, \tupdate norm: 2.3871e-02 \tUpdate/norm: 5.9145e-03\n",
      "conv_b2.bias,   \tnorm: 2.0664e-01, \tupdate norm: 2.8268e-03 \tUpdate/norm: 1.3680e-02\n",
      "conv_a3.weight,   \tnorm: 4.0054e+00, \tupdate norm: 2.2948e-02 \tUpdate/norm: 5.7291e-03\n",
      "conv_a3.bias,   \tnorm: 8.1349e-02, \tupdate norm: 2.8085e-03 \tUpdate/norm: 3.4524e-02\n",
      "conv_b3.weight,   \tnorm: 3.9369e+00, \tupdate norm: 2.3444e-02 \tUpdate/norm: 5.9548e-03\n",
      "conv_b3.bias,   \tnorm: 1.7444e-01, \tupdate norm: 2.8284e-03 \tUpdate/norm: 1.6215e-02\n",
      "final.weight,   \tnorm: 1.1730e+00, \tupdate norm: 3.9237e-03 \tUpdate/norm: 3.3449e-03\n",
      "final.bias,   \tnorm: 1.4800e-02, \tupdate norm: 1.0000e-03 \tUpdate/norm: 6.7569e-02\n",
      "\n",
      "... 0.7417... 0.5206... 0.3154\n",
      "Iter 10... 0.3049... 0.2992\n",
      "Iteration 30, loss = 0.2164, corrected loss = 100.6978\n",
      "Validation loss 89.9593 over 81 frames\n",
      "model saved to model_checkpoints/Model 10 (three layer - 2d) Run 0/Model 10 (three layer - 2d) Run 0-30\n",
      "conv_a1.weight,   \tnorm: 3.6136e+00, \tupdate norm: 3.9270e-03 \tUpdate/norm: 1.0867e-03\n",
      "conv_a1.bias,   \tnorm: 2.3982e-01, \tupdate norm: 3.9598e-04 \tUpdate/norm: 1.6511e-03\n",
      "conv_b1.weight,   \tnorm: 3.9804e+00, \tupdate norm: 3.1150e-03 \tUpdate/norm: 7.8258e-04\n",
      "conv_b1.bias,   \tnorm: 3.7758e-01, \tupdate norm: 3.6662e-04 \tUpdate/norm: 9.7097e-04\n",
      "conv_a2.weight,   \tnorm: 3.9067e+00, \tupdate norm: 1.2429e-02 \tUpdate/norm: 3.1813e-03\n",
      "conv_a2.bias,   \tnorm: 2.1500e-01, \tupdate norm: 3.2980e-04 \tUpdate/norm: 1.5340e-03\n",
      "conv_b2.weight,   \tnorm: 4.0523e+00, \tupdate norm: 1.3506e-02 \tUpdate/norm: 3.3329e-03\n",
      "conv_b2.bias,   \tnorm: 1.9551e-01, \tupdate norm: 1.3224e-03 \tUpdate/norm: 6.7640e-03\n",
      "conv_a3.weight,   \tnorm: 4.0281e+00, \tupdate norm: 1.2145e-02 \tUpdate/norm: 3.0151e-03\n",
      "conv_a3.bias,   \tnorm: 1.0489e-01, \tupdate norm: 9.8274e-04 \tUpdate/norm: 9.3694e-03\n",
      "conv_b3.weight,   \tnorm: 3.9483e+00, \tupdate norm: 1.3858e-02 \tUpdate/norm: 3.5098e-03\n",
      "conv_b3.bias,   \tnorm: 1.8253e-01, \tupdate norm: 8.5161e-04 \tUpdate/norm: 4.6657e-03\n",
      "final.weight,   \tnorm: 1.1955e+00, \tupdate norm: 1.7612e-03 \tUpdate/norm: 1.4732e-03\n",
      "final.bias,   \tnorm: 2.8688e-02, \tupdate norm: 2.8823e-04 \tUpdate/norm: 1.0047e-02\n",
      "\n",
      "... 0.2038... 0.1935... 0.1834\n",
      "Iter 40.. 0.1898... 0.1851... 0.1769\n",
      "Iter 50... 0.1717... 0.1621"
     ]
    }
   ],
   "source": [
    "train(model, post_proc, optimizer, train_loader, val_loader, loss_fn, device, \n",
    "         model_name, loss_history, epochs=3, print_every=30, print_level=4, lr_decay=1)"
   ]
  },
  {
   "cell_type": "code",
   "execution_count": null,
   "metadata": {},
   "outputs": [],
   "source": [
    "no_post_proc = post_process(kind=\"None\").to(device=device)"
   ]
  },
  {
   "cell_type": "code",
   "execution_count": null,
   "metadata": {},
   "outputs": [],
   "source": [
    "# One last test + visualize results on 1 validation sequence\n",
    "val_seq = TAVR_Sequence(\"__valid\")\n",
    "test(ave_model, post_proc, val_loader, loss_fn, device)\n",
    "print('finished average')\n",
    "test(model, post_proc, val_loader, loss_fn, device)"
   ]
  },
  {
   "cell_type": "code",
   "execution_count": null,
   "metadata": {
    "scrolled": true
   },
   "outputs": [],
   "source": [
    "with torch.no_grad():\n",
    "    model.eval()\n",
    "    ave_frames = [post_proc(val_seq[0][0])]\n",
    "    for i in range(2,9,2):\n",
    "        ave_frame = model((val_seq[0][i-2][None,:], val_seq[0][i][None,:]))\n",
    "        print(ave_frame.shape)\n",
    "        ave_frames += [post_proc(ave_frame[0]),  post_proc(val_seq[0][i])]\n",
    "    ave_frames += [post_proc(val_seq[0][9])]\n",
    "    ave_frames_slices = []\n",
    "    for f in ave_frames:\n",
    "        print(f.shape)\n",
    "        ave_frames_slices += get_central_slices(f)\n",
    "    set_figsize(6,20)\n",
    "    display_grid(10, 3, ave_frames_slices)"
   ]
  },
  {
   "cell_type": "code",
   "execution_count": null,
   "metadata": {},
   "outputs": [],
   "source": [
    "optimizer.param_groups[0]['lr']"
   ]
  },
  {
   "cell_type": "code",
   "execution_count": null,
   "metadata": {},
   "outputs": [],
   "source": [
    "for p in model.parameters():\n",
    "    print(p.norm())"
   ]
  }
 ],
 "metadata": {
  "kernelspec": {
   "display_name": "Python 3",
   "language": "python",
   "name": "python3"
  },
  "language_info": {
   "codemirror_mode": {
    "name": "ipython",
    "version": 3
   },
   "file_extension": ".py",
   "mimetype": "text/x-python",
   "name": "python",
   "nbconvert_exporter": "python",
   "pygments_lexer": "ipython3",
   "version": "3.6.4"
  }
 },
 "nbformat": 4,
 "nbformat_minor": 2
}
