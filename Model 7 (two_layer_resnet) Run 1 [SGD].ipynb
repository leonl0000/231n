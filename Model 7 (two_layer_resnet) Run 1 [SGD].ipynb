{
 "cells": [
  {
   "cell_type": "code",
   "execution_count": 1,
   "metadata": {},
   "outputs": [
    {
     "name": "stdout",
     "output_type": "stream",
     "text": [
      "Training directory found, 36 series\n",
      "Validation directory found, 6 series\n",
      "Testing directory found, 10 series\n"
     ]
    }
   ],
   "source": [
    "%load_ext autoreload\n",
    "%autoreload 2\n",
    "%matplotlib inline\n",
    "\n",
    "import torch\n",
    "import numpy as np\n",
    "import torch.nn as nn\n",
    "import torch.optim as optim\n",
    "import torch.nn.functional as F \n",
    "\n",
    "import utils.tavr_torch as tavr_torch\n",
    "from utils.tavr_torch import TAVR_3_Frame, TAVR_1_Frame, TAVR_Sequence, tavr_dataloader\n",
    "from utils.visualization import display_grid, z_stretch, visualize_frame, set_figsize, get_central_slices\n",
    "from utils.loss_functions import batch_l2_loss\n",
    "from utils.run_model import train, test, save, load, get_loss_history\n",
    "from Models.basic_models import average_model, post_process\n",
    "from Models.two_layer_resnet import two_layer_resnet\n",
    "\n",
    "set_figsize(20, 15)"
   ]
  },
  {
   "cell_type": "code",
   "execution_count": 4,
   "metadata": {},
   "outputs": [
    {
     "name": "stdout",
     "output_type": "stream",
     "text": [
      "using device: cpu\n"
     ]
    }
   ],
   "source": [
    "USE_GPU = True\n",
    "dtype = torch.float32 # we will be using float throughout this tutorial\n",
    "if USE_GPU and torch.cuda.is_available():\n",
    "    device = torch.device('cuda')\n",
    "else:\n",
    "    device = torch.device('cpu')\n",
    "print('using device:', device)\n",
    "\n",
    "# \"Pixl\", \"Slice\", or \"None\"\n",
    "preproc_type = \"pixel\"\n",
    "\n",
    "validation = TAVR_3_Frame(\"__valid\", preproc=preproc_type)\n",
    "val_loader = tavr_dataloader(validation, batch_size=4, shuffle=True, num_workers=2)\n",
    "training = TAVR_3_Frame(\"__train\", preproc=preproc_type)\n",
    "train_loader = tavr_dataloader(training,batch_size=8, shuffle=True, num_workers=2)\n",
    "\n",
    "\n",
    "ave_model = average_model()\n",
    "model = two_layer_resnet()\n",
    "post_proc = post_process(kind=preproc_type).to(device=device)\n",
    "loss_fn = batch_l2_loss()\n",
    "\n",
    "# CHANGE TO NAME OF JUPYTER NOTEBOOK\n",
    "model_name = \"Model 7 (two_layer_resnet) Run 1 [SGD]\""
   ]
  },
  {
   "cell_type": "code",
   "execution_count": 5,
   "metadata": {},
   "outputs": [],
   "source": [
    "learning_rate = 3e-3\n",
    "reg = 1e-7\n",
    "\n",
    "optimizer = optim.SGD(model.parameters(), lr=learning_rate, weight_decay=reg)"
   ]
  },
  {
   "cell_type": "code",
   "execution_count": 6,
   "metadata": {},
   "outputs": [],
   "source": [
    "# Run cell to load model\n",
    "LOAD = False\n",
    "iteration_num = -1\n",
    "\n",
    "if LOAD:\n",
    "    \n",
    "    load(model_name, iteration_num, model, optimizer)\n",
    "    loss_history = get_loss_history(model_name)\n",
    "    model.to(device=device)\n",
    "else:\n",
    "    loss_history = None"
   ]
  },
  {
   "cell_type": "code",
   "execution_count": 7,
   "metadata": {},
   "outputs": [
    {
     "name": "stdout",
     "output_type": "stream",
     "text": [
      "\n",
      "Iteration 0, loss = 1.1833, corrected loss = 550.5978\n",
      "Validation loss 509.7789 over 81 frames\n",
      "model saved to model_checkpoints/Model 7 (two_layer_resnet) Run 1 [SGD]/Model 7 (two_layer_resnet) Run 1 [SGD]-0\n",
      "conv_a1.weight,   \tnorm: 4.0602e+00, \tupdate norm: 7.9647e-03 \tUpdate/norm: 1.9616e-03\n",
      "conv_a1.bias,   \tnorm: 2.3213e-01, \tupdate norm: 1.8233e-03 \tUpdate/norm: 7.8547e-03\n",
      "conv_b1.weight,   \tnorm: 3.8010e+00, \tupdate norm: 1.0327e-02 \tUpdate/norm: 2.7168e-03\n",
      "conv_b1.bias,   \tnorm: 3.4081e-01, \tupdate norm: 2.0960e-03 \tUpdate/norm: 6.1500e-03\n",
      "final.weight,   \tnorm: 1.9068e+00, \tupdate norm: 8.9602e-03 \tUpdate/norm: 4.6991e-03\n",
      "final.bias,   \tnorm: 1.6076e-01, \tupdate norm: 2.6465e-03 \tUpdate/norm: 1.6462e-02\n",
      "\n",
      "... 0.9694... 0.6587... 0.5389\n",
      "Iter 10... 0.3828... 0.3581... 0.3485\n",
      "Iter 20... 0.3705... 0.3388... 0.3508\n",
      "Iteration 30, loss = 0.3076, corrected loss = 143.1405\n",
      "Validation loss 154.7427 over 81 frames\n",
      "model saved to model_checkpoints/Model 7 (two_layer_resnet) Run 1 [SGD]/Model 7 (two_layer_resnet) Run 1 [SGD]-30\n",
      "conv_a1.weight,   \tnorm: 4.0662e+00, \tupdate norm: 6.3824e-04 \tUpdate/norm: 1.5696e-04\n",
      "conv_a1.bias,   \tnorm: 2.1758e-01, \tupdate norm: 2.6195e-04 \tUpdate/norm: 1.2039e-03\n",
      "conv_b1.weight,   \tnorm: 3.7825e+00, \tupdate norm: 6.6074e-04 \tUpdate/norm: 1.7468e-04\n",
      "conv_b1.bias,   \tnorm: 3.3586e-01, \tupdate norm: 1.7219e-04 \tUpdate/norm: 5.1268e-04\n",
      "final.weight,   \tnorm: 1.8798e+00, \tupdate norm: 8.0983e-04 \tUpdate/norm: 4.3082e-04\n",
      "final.bias,   \tnorm: 1.9700e-01, \tupdate norm: 1.9217e-04 \tUpdate/norm: 9.7547e-04\n",
      "\n",
      "... 0.3165... 0.3016... 0.3434\n",
      "Iter 40... 0.3361... 0.3124... 0.3371\n",
      "Iter 50... 0.3312... 0.3032... 0.3033\n",
      "Iteration 60, loss = 0.3263, corrected loss = 151.8520\n",
      "Validation loss 147.2002 over 81 frames\n",
      "model saved to model_checkpoints/Model 7 (two_layer_resnet) Run 1 [SGD]/Model 7 (two_layer_resnet) Run 1 [SGD]-60\n",
      "conv_a1.weight,   \tnorm: 4.0628e+00, \tupdate norm: 9.2637e-04 \tUpdate/norm: 2.2802e-04\n",
      "conv_a1.bias,   \tnorm: 2.1263e-01, \tupdate norm: 1.4215e-04 \tUpdate/norm: 6.6854e-04\n",
      "conv_b1.weight,   \tnorm: 3.7792e+00, \tupdate norm: 6.3688e-04 \tUpdate/norm: 1.6852e-04\n",
      "conv_b1.bias,   \tnorm: 3.3415e-01, \tupdate norm: 8.3167e-05 \tUpdate/norm: 2.4889e-04\n",
      "final.weight,   \tnorm: 1.8647e+00, \tupdate norm: 8.4349e-04 \tUpdate/norm: 4.5235e-04\n",
      "final.bias,   \tnorm: 2.0215e-01, \tupdate norm: 1.0136e-04 \tUpdate/norm: 5.0141e-04\n",
      "\n",
      "... 0.3316... 0.3266... 0.2942\n",
      "Iter 70... 0.3021... 0.3133... 0.2961\n",
      "Iter 80\n",
      "model saved to model_checkpoints/Model 7 (two_layer_resnet) Run 1 [SGD]/Model 7 (two_layer_resnet) Run 1 [SGD]-81\n",
      "(Epoch time: 58.45 minutes. Total epochs: 1)\n",
      "... 0.3053... 0.3263... 0.2895\n",
      "Iteration 90, loss = 0.3238, corrected loss = 150.6545\n",
      "Validation loss 140.1850 over 81 frames\n",
      "model saved to model_checkpoints/Model 7 (two_layer_resnet) Run 1 [SGD]/Model 7 (two_layer_resnet) Run 1 [SGD]-90\n",
      "conv_a1.weight,   \tnorm: 4.0596e+00, \tupdate norm: 6.4885e-04 \tUpdate/norm: 1.5983e-04\n",
      "conv_a1.bias,   \tnorm: 2.0839e-01, \tupdate norm: 1.8745e-04 \tUpdate/norm: 8.9952e-04\n",
      "conv_b1.weight,   \tnorm: 3.7758e+00, \tupdate norm: 7.4675e-04 \tUpdate/norm: 1.9777e-04\n",
      "conv_b1.bias,   \tnorm: 3.3256e-01, \tupdate norm: 1.2758e-04 \tUpdate/norm: 3.8364e-04\n",
      "final.weight,   \tnorm: 1.8501e+00, \tupdate norm: 7.2814e-04 \tUpdate/norm: 3.9356e-04\n",
      "final.bias,   \tnorm: 2.0637e-01, \tupdate norm: 1.5821e-04 \tUpdate/norm: 7.6663e-04\n",
      "\n",
      "... 0.3082... 0.2993... 0.3158\n",
      "Iter 100... 0.3157... 0.2869... 0.2794\n",
      "Iter 110... 0.2680... 0.2936... 0.2805\n",
      "Iteration 120, loss = 0.3002, corrected loss = 139.6784\n",
      "Validation loss 133.7645 over 81 frames\n",
      "model saved to model_checkpoints/Model 7 (two_layer_resnet) Run 1 [SGD]/Model 7 (two_layer_resnet) Run 1 [SGD]-120\n",
      "conv_a1.weight,   \tnorm: 4.0568e+00, \tupdate norm: 8.7555e-04 \tUpdate/norm: 2.1582e-04\n",
      "conv_a1.bias,   \tnorm: 2.0464e-01, \tupdate norm: 1.1113e-04 \tUpdate/norm: 5.4308e-04\n",
      "conv_b1.weight,   \tnorm: 3.7724e+00, \tupdate norm: 4.7788e-04 \tUpdate/norm: 1.2668e-04\n",
      "conv_b1.bias,   \tnorm: 3.3103e-01, \tupdate norm: 5.7164e-05 \tUpdate/norm: 1.7268e-04\n",
      "final.weight,   \tnorm: 1.8364e+00, \tupdate norm: 7.7986e-04 \tUpdate/norm: 4.2467e-04\n",
      "final.bias,   \tnorm: 2.0984e-01, \tupdate norm: 3.0145e-05 \tUpdate/norm: 1.4366e-04\n",
      "\n",
      "... 0.2589... 0.2751... 0.3053\n",
      "Iter 130... 0.2825... 0.2582... 0.2982\n",
      "Iter 140... 0.2620... 0.2664... 0.2666\n",
      "Iteration 150, loss = 0.2595, corrected loss = 120.7557\n",
      "Validation loss 128.1731 over 81 frames\n",
      "model saved to model_checkpoints/Model 7 (two_layer_resnet) Run 1 [SGD]/Model 7 (two_layer_resnet) Run 1 [SGD]-150\n",
      "conv_a1.weight,   \tnorm: 4.0543e+00, \tupdate norm: 6.1634e-04 \tUpdate/norm: 1.5202e-04\n",
      "conv_a1.bias,   \tnorm: 2.0148e-01, \tupdate norm: 1.1561e-04 \tUpdate/norm: 5.7379e-04\n",
      "conv_b1.weight,   \tnorm: 3.7691e+00, \tupdate norm: 5.3546e-04 \tUpdate/norm: 1.4207e-04\n",
      "conv_b1.bias,   \tnorm: 3.2991e-01, \tupdate norm: 7.5520e-05 \tUpdate/norm: 2.2891e-04\n",
      "final.weight,   \tnorm: 1.8234e+00, \tupdate norm: 6.3003e-04 \tUpdate/norm: 3.4553e-04\n",
      "final.bias,   \tnorm: 2.1253e-01, \tupdate norm: 2.8402e-05 \tUpdate/norm: 1.3364e-04\n",
      "\n",
      "... 0.2936... 0.2823... 0.2748\n",
      "Iter 160.\n",
      "model saved to model_checkpoints/Model 7 (two_layer_resnet) Run 1 [SGD]/Model 7 (two_layer_resnet) Run 1 [SGD]-162\n",
      "(Epoch time: 41.92 minutes. Total epochs: 2)\n",
      ".. 0.2752... 0.2937... 0.2508\n",
      "Iter 170... 0.2651... 0.2756... 0.2679\n",
      "Iteration 180, loss = 0.2735, corrected loss = 127.2653\n",
      "Validation loss 122.8224 over 81 frames\n",
      "model saved to model_checkpoints/Model 7 (two_layer_resnet) Run 1 [SGD]/Model 7 (two_layer_resnet) Run 1 [SGD]-180\n",
      "conv_a1.weight,   \tnorm: 4.0519e+00, \tupdate norm: 5.3018e-04 \tUpdate/norm: 1.3085e-04\n",
      "conv_a1.bias,   \tnorm: 1.9868e-01, \tupdate norm: 1.1091e-04 \tUpdate/norm: 5.5823e-04\n",
      "conv_b1.weight,   \tnorm: 3.7659e+00, \tupdate norm: 5.9232e-04 \tUpdate/norm: 1.5728e-04\n",
      "conv_b1.bias,   \tnorm: 3.2896e-01, \tupdate norm: 7.8523e-05 \tUpdate/norm: 2.3870e-04\n",
      "final.weight,   \tnorm: 1.8110e+00, \tupdate norm: 6.5069e-04 \tUpdate/norm: 3.5930e-04\n",
      "final.bias,   \tnorm: 2.1480e-01, \tupdate norm: 3.6359e-05 \tUpdate/norm: 1.6927e-04\n",
      "\n",
      "... 0.2769... 0.2614... 0.2389\n",
      "Iter 190... 0.2445..... 0.2703... 0.2327.. 0.2477\n",
      "Iteration 210, loss = 0.2626, corrected loss = 122.1888\n",
      "Validation loss 117.4448 over 81 frames\n",
      "model saved to model_checkpoints/Model 7 (two_layer_resnet) Run 1 [SGD]/Model 7 (two_layer_resnet) Run 1 [SGD]-210\n",
      "conv_a1.weight,   \tnorm: 4.0498e+00, \tupdate norm: 4.6015e-04 \tUpdate/norm: 1.1362e-04\n",
      "conv_a1.bias,   \tnorm: 1.9621e-01, \tupdate norm: 9.3413e-05 \tUpdate/norm: 4.7608e-04\n",
      "conv_b1.weight,   \tnorm: 3.7627e+00, \tupdate norm: 6.7347e-04 \tUpdate/norm: 1.7898e-04\n",
      "conv_b1.bias,   \tnorm: 3.2823e-01, \tupdate norm: 6.8481e-05 \tUpdate/norm: 2.0864e-04\n",
      "final.weight,   \tnorm: 1.7990e+00, \tupdate norm: 5.9872e-04 \tUpdate/norm: 3.3280e-04\n",
      "final.bias,   \tnorm: 2.1675e-01, \tupdate norm: 5.7578e-05 \tUpdate/norm: 2.6564e-04\n",
      "\n",
      "... 0.2562... 0.2661... 0.2680\n",
      "Iter 220... 0.2640... 0.2601.. 0.2405... 0.2466... 0.2422\n",
      "Iteration 240, loss = 0.2368, corrected loss = 110.1979\n",
      "Validation loss 112.9272 over 81 frames\n",
      "model saved to model_checkpoints/Model 7 (two_layer_resnet) Run 1 [SGD]/Model 7 (two_layer_resnet) Run 1 [SGD]-240\n",
      "conv_a1.weight,   \tnorm: 4.0476e+00, \tupdate norm: 5.1294e-04 \tUpdate/norm: 1.2673e-04\n",
      "conv_a1.bias,   \tnorm: 1.9414e-01, \tupdate norm: 8.3763e-05 \tUpdate/norm: 4.3146e-04\n",
      "conv_b1.weight,   \tnorm: 3.7597e+00, \tupdate norm: 6.4596e-04 \tUpdate/norm: 1.7181e-04\n",
      "conv_b1.bias,   \tnorm: 3.2775e-01, \tupdate norm: 9.7185e-05 \tUpdate/norm: 2.9652e-04\n",
      "final.weight,   \tnorm: 1.7876e+00, \tupdate norm: 6.9509e-04 \tUpdate/norm: 3.8884e-04\n",
      "final.bias,   \tnorm: 2.1809e-01, \tupdate norm: 4.1157e-05 \tUpdate/norm: 1.8871e-04\n",
      "\n",
      "..\n",
      "model saved to model_checkpoints/Model 7 (two_layer_resnet) Run 1 [SGD]/Model 7 (two_layer_resnet) Run 1 [SGD]-243\n"
     ]
    }
   ],
   "source": [
    "train(model, post_proc, optimizer, train_loader, val_loader, loss_fn, device, \n",
    "         model_name, loss_history, epochs=3, print_every=30, print_level=4, lr_decay=1)"
   ]
  },
  {
   "cell_type": "code",
   "execution_count": null,
   "metadata": {},
   "outputs": [],
   "source": [
    "# One last test + visualize results on 1 validation sequence\n",
    "val_seq = TAVR_Sequence(\"__valid\")\n",
    "test(model, val_loader, loss_fn, device)\n",
    "test(ave_model, val_loader, loss_fn, device)\n",
    "\n",
    "with torch.no_grad():\n",
    "    model.eval()\n",
    "    ave_frames = [val_seq[0][0]]\n",
    "    for i in range(2,9,2):\n",
    "        ave_frame = model((val_seq[0][i-2][None,:], val_seq[0][i][None,:]))\n",
    "        ave_frames += [ave_frame[0][0],  val_seq[0][i]]\n",
    "    ave_frames += [val_seq[0][9]]\n",
    "    ave_frames_slices = []\n",
    "    for f in ave_frames:\n",
    "        ave_frames_slices += get_central_slices(f)\n",
    "    set_figsize(6,20)\n",
    "    display_grid(10, 3, ave_frames_slices)"
   ]
  },
  {
   "cell_type": "code",
   "execution_count": null,
   "metadata": {},
   "outputs": [],
   "source": [
    "optimizer.param_groups[0]['lr']"
   ]
  },
  {
   "cell_type": "code",
   "execution_count": null,
   "metadata": {},
   "outputs": [],
   "source": [
    "for p in model.parameters():\n",
    "    print(p.norm())"
   ]
  }
 ],
 "metadata": {
  "kernelspec": {
   "display_name": "Python 3",
   "language": "python",
   "name": "python3"
  },
  "language_info": {
   "codemirror_mode": {
    "name": "ipython",
    "version": 3
   },
   "file_extension": ".py",
   "mimetype": "text/x-python",
   "name": "python",
   "nbconvert_exporter": "python",
   "pygments_lexer": "ipython3",
   "version": "3.6.4"
  }
 },
 "nbformat": 4,
 "nbformat_minor": 2
}
