{
 "cells": [
  {
   "cell_type": "code",
   "execution_count": 1,
   "metadata": {},
   "outputs": [
    {
     "name": "stdout",
     "output_type": "stream",
     "text": [
      "Training directory found, 36 series\n",
      "Validation directory found, 6 series\n",
      "Testing directory found, 10 series\n"
     ]
    }
   ],
   "source": [
    "%load_ext autoreload\n",
    "%autoreload 2\n",
    "%matplotlib inline\n",
    "\n",
    "import torch\n",
    "import numpy as np\n",
    "import torch.nn as nn\n",
    "import torch.optim as optim\n",
    "import torch.nn.functional as F \n",
    "\n",
    "import utils.tavr_torch as tavr_torch\n",
    "from utils.tavr_torch import TAVR_3_Frame, TAVR_1_Frame, TAVR_Sequence, tavr_dataloader\n",
    "from utils.visualization import display_grid, z_stretch, visualize_frame, set_figsize, get_central_slices\n",
    "from utils.loss_functions import batch_l2_loss\n",
    "from utils.run_model import train, test\n",
    "from Models.basic_models import average_model\n",
    "from Models.two_layer_concat import two_layer_concat\n",
    "\n",
    "set_figsize(20, 15)"
   ]
  },
  {
   "cell_type": "code",
   "execution_count": 2,
   "metadata": {},
   "outputs": [
    {
     "name": "stdout",
     "output_type": "stream",
     "text": [
      "using device: cpu\n"
     ]
    }
   ],
   "source": [
    "USE_GPU = True\n",
    "dtype = torch.float32 # we will be using float throughout this tutorial\n",
    "if USE_GPU and torch.cuda.is_available():\n",
    "    device = torch.device('cuda')\n",
    "else:\n",
    "    device = torch.device('cpu')\n",
    "print('using device:', device)\n",
    "\n",
    "\n",
    "validation = TAVR_3_Frame(\"__valid\")\n",
    "val_loader = tavr_dataloader(validation, batch_size=4, shuffle=True, num_workers=2)\n",
    "training = TAVR_3_Frame(\"__train\")\n",
    "train_loader = tavr_dataloader(training, batch_size=8, shuffle=True, num_workers=2)\n",
    "\n",
    "\n",
    "ave_model = average_model()\n",
    "model = two_layer_concat(standardize_slice=True)\n",
    "loss_fn = batch_l2_loss()"
   ]
  },
  {
   "cell_type": "code",
   "execution_count": null,
   "metadata": {},
   "outputs": [],
   "source": [
    "learning_rate = 1e-5\n",
    "momentum = 0.90\n",
    "reg = 1e-7\n",
    "\n",
    "optimizer = optim.SGD(model.parameters(), lr=learning_rate, momentum=momentum, weight_decay=reg, nesterov=True)"
   ]
  },
  {
   "cell_type": "code",
   "execution_count": null,
   "metadata": {},
   "outputs": [
    {
     "name": "stdout",
     "output_type": "stream",
     "text": [
      "\n",
      "****Epoch 0 Iteration 0, loss = 304.7264\n",
      "Validation loss 250.0459 over 81 frames\n",
      "conv_a1.weight,   \tnorm: 3.9261e+00, \tupdate norm: 2.1340e-02 \tUpdate/norm: 5.4355e-03\n",
      "conv_a1.bias,   \tnorm: 2.9904e-01, \tupdate norm: 1.4460e-04 \tUpdate/norm: 4.8354e-04\n",
      "conv_b1.weight,   \tnorm: 3.7868e+00, \tupdate norm: 1.2698e-02 \tUpdate/norm: 3.3531e-03\n",
      "conv_b1.bias,   \tnorm: 2.9479e-01, \tupdate norm: 9.7706e-05 \tUpdate/norm: 3.3144e-04\n",
      "final.weight,   \tnorm: 1.5098e+00, \tupdate norm: 1.5807e-02 \tUpdate/norm: 1.0470e-02\n",
      "final.bias,   \tnorm: 9.5120e-02, \tupdate norm: 2.5293e-04 \tUpdate/norm: 2.6591e-03\n",
      "\n",
      "Iter 0... ... ... \n",
      "Iter 10... ... ... \n",
      "Iter 20... ... ... \n",
      "Iteration 30, loss = 75.6211\n",
      "Validation loss 74.6139 over 81 frames\n",
      "conv_a1.weight,   \tnorm: 3.8945e+00, \tupdate norm: 4.6399e-03 \tUpdate/norm: 1.1914e-03\n",
      "conv_a1.bias,   \tnorm: 2.9987e-01, \tupdate norm: 7.7487e-05 \tUpdate/norm: 2.5841e-04\n",
      "conv_b1.weight,   \tnorm: 3.7779e+00, \tupdate norm: 4.3268e-03 \tUpdate/norm: 1.1453e-03\n",
      "conv_b1.bias,   \tnorm: 2.9534e-01, \tupdate norm: 3.1506e-05 \tUpdate/norm: 1.0668e-04\n",
      "final.weight,   \tnorm: 1.4009e+00, \tupdate norm: 5.7772e-03 \tUpdate/norm: 4.1239e-03\n",
      "final.bias,   \tnorm: 9.9959e-02, \tupdate norm: 8.3566e-05 \tUpdate/norm: 8.3600e-04\n",
      "\n",
      "Iter 30... ... ... \n",
      "Iter 40... .."
     ]
    }
   ],
   "source": [
    "train(model, optimizer, train_loader, val_loader, loss_fn, device, \n",
    "         epochs=3, print_every=30, print_level=3, lr_decay=0.8)"
   ]
  },
  {
   "cell_type": "code",
   "execution_count": null,
   "metadata": {},
   "outputs": [],
   "source": [
    "# One last test + visualize results on 1 validation sequence\n",
    "val_seq = TAVR_Sequence(\"__valid\")\n",
    "test(model, val_loader, loss_fn, device)\n",
    "test(ave_model, val_loader, loss_fn, device)\n",
    "\n",
    "with torch.no_grad():\n",
    "    model.eval()\n",
    "    ave_frames = [val_seq[0][0]]\n",
    "    for i in range(2,9,2):\n",
    "        ave_frame = model((val_seq[0][i-2][None,:], val_seq[0][i][None,:]))\n",
    "        ave_frames += [ave_frame[0][0],  val_seq[0][i]]\n",
    "    ave_frames += [val_seq[0][9]]\n",
    "    ave_frames_slices = []\n",
    "    for f in ave_frames:\n",
    "        ave_frames_slices += get_central_slices(f)\n",
    "    set_figsize(6,20)\n",
    "    display_grid(10, 3, ave_frames_slices)"
   ]
  }
 ],
 "metadata": {
  "kernelspec": {
   "display_name": "Python 3",
   "language": "python",
   "name": "python3"
  },
  "language_info": {
   "codemirror_mode": {
    "name": "ipython",
    "version": 3
   },
   "file_extension": ".py",
   "mimetype": "text/x-python",
   "name": "python",
   "nbconvert_exporter": "python",
   "pygments_lexer": "ipython3",
   "version": "3.6.4"
  }
 },
 "nbformat": 4,
 "nbformat_minor": 2
}
