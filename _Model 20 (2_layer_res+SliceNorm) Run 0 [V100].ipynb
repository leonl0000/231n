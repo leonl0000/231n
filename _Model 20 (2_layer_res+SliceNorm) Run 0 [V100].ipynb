{
 "cells": [
  {
   "cell_type": "code",
   "execution_count": 1,
   "metadata": {},
   "outputs": [
    {
     "name": "stdout",
     "output_type": "stream",
     "text": [
      "Training directory found, 36 series\n",
      "Validation directory found, 6 series\n",
      "Testing directory found, 10 series\n"
     ]
    }
   ],
   "source": [
    "%load_ext autoreload\n",
    "%autoreload 2\n",
    "%matplotlib inline\n",
    "\n",
    "import torch\n",
    "import numpy as np\n",
    "import torch.nn as nn\n",
    "import torch.optim as optim\n",
    "import torch.nn.functional as F \n",
    "\n",
    "import utils.tavr_torch as tavr_torch\n",
    "from utils.tavr_torch import TAVR_3_Frame, TAVR_1_Frame, TAVR_Sequence, tavr_dataloader\n",
    "from utils.visualization import display_grid, z_stretch, visualize_frame, set_figsize, get_central_slices\n",
    "from utils.loss_functions import batch_l2_loss\n",
    "from utils.run_model import train, test, save, load, get_loss_history\n",
    "from Models.basic_models import average_model, two_layer_basic, post_process\n",
    "\n",
    "set_figsize(20, 15)"
   ]
  },
  {
   "cell_type": "code",
   "execution_count": 2,
   "metadata": {},
   "outputs": [
    {
     "name": "stdout",
     "output_type": "stream",
     "text": [
      "using device: cuda\n"
     ]
    }
   ],
   "source": [
    "USE_GPU = True\n",
    "dtype = torch.float32 # we will be using float throughout this tutorial\n",
    "if USE_GPU and torch.cuda.is_available():\n",
    "    device = torch.device('cuda')\n",
    "else:\n",
    "    device = torch.device('cpu')\n",
    "print('using device:', device)\n",
    "\n",
    "# \"Pixl\", \"Slice\", or \"None\"\n",
    "preproc_type = \"pixel\"\n",
    "\n",
    "validation = TAVR_3_Frame(\"__valid\", preproc=preproc_type, preload=False)\n",
    "val_loader = tavr_dataloader(validation, batch_size=4, shuffle=True, num_workers=2)\n",
    "training = TAVR_3_Frame(\"__train\", preproc=preproc_type, preload=False)\n",
    "train_loader = tavr_dataloader(training,batch_size=6, shuffle=True, num_workers=2)\n",
    "\n",
    "\n",
    "ave_model = average_model()\n",
    "model = two_layer_basic()\n",
    "post_proc = post_process(kind=preproc_type).to(device=device)\n",
    "loss_fn = batch_l2_loss()\n",
    "\n",
    "# CHANGE TO NAME OF JUPYTER NOTEBOOK\n",
    "model_name = \"Model 5 (Basic+PixelNorm) R1\""
   ]
  },
  {
   "cell_type": "code",
   "execution_count": 3,
   "metadata": {},
   "outputs": [],
   "source": [
    "learning_rate = 3e-3\n",
    "momentum = 0.90\n",
    "reg = 1e-7\n",
    "\n",
    "optimizer = optim.SGD(model.parameters(), lr=learning_rate, momentum=momentum, weight_decay=reg, nesterov=True)"
   ]
  },
  {
   "cell_type": "code",
   "execution_count": 4,
   "metadata": {},
   "outputs": [
    {
     "name": "stdout",
     "output_type": "stream",
     "text": [
      "model loaded from model_checkpoints/Model 5 (Basic+PixelNorm) R1/Model 5 (Basic+PixelNorm) R1-420\n"
     ]
    }
   ],
   "source": [
    "LOAD = True\n",
    "iteration_num = 420\n",
    "\n",
    "if LOAD:\n",
    "    load(model_name, iteration_num, model, optimizer)\n",
    "    loss_history = get_loss_history(model_name)\n",
    "    model.to(device=device)\n",
    "    # I don't know why these lines are necessary\n",
    "    # or even what the hell they do\n",
    "    # but they are\n",
    "    if str(device) == 'cuda':\n",
    "        for state in optimizer.state.values():\n",
    "            for k, v in state.items():\n",
    "                state[k] = v.cuda()\n",
    "else:\n",
    "    loss_history = None"
   ]
  },
  {
   "cell_type": "code",
   "execution_count": null,
   "metadata": {},
   "outputs": [],
   "source": [
    "# If multiple GPU\n",
    "# model = nn.DataParallel(model)"
   ]
  },
  {
   "cell_type": "code",
   "execution_count": 5,
   "metadata": {},
   "outputs": [
    {
     "name": "stdout",
     "output_type": "stream",
     "text": [
      "\n",
      "Iteration 420, loss = 0.1161, corrected loss = 54.0283\n",
      "Validation loss 50.5887 over 81 frames\n",
      "model saved to model_checkpoints/Model 5 (Basic+PixelNorm) R1/Model 5 (Basic+PixelNorm) R1-420\n",
      "conv_a1.weight,   \tnorm: 4.1521e+00, \tupdate norm: 7.6968e-04 \tUpdate/norm: 1.8537e-04\n",
      "conv_a1.bias,   \tnorm: 3.9000e-01, \tupdate norm: 1.4662e-04 \tUpdate/norm: 3.7593e-04\n",
      "conv_b1.weight,   \tnorm: 4.0642e+00, \tupdate norm: 7.7102e-04 \tUpdate/norm: 1.8971e-04\n",
      "conv_b1.bias,   \tnorm: 3.2725e-01, \tupdate norm: 1.1400e-04 \tUpdate/norm: 3.4837e-04\n",
      "final.weight,   \tnorm: 7.7837e-01, \tupdate norm: 4.8138e-04 \tUpdate/norm: 6.1845e-04\n",
      "final.bias,   \tnorm: 7.1204e-02, \tupdate norm: 4.1649e-06 \tUpdate/norm: 5.8492e-05\n",
      "\n",
      "... 0.1066... 0.1053... 0.1176\n",
      "Iter 430... 0.1093... 0.1077... 0.1166\n",
      "Iter 440... 0.1196... 0.1163... 0.1226\n",
      "Iteration 450, loss = 0.1027, corrected loss = 47.7695\n",
      "Validation loss 50.0477 over 81 frames\n",
      "model saved to model_checkpoints/Model 5 (Basic+PixelNorm) R1/Model 5 (Basic+PixelNorm) R1-450\n",
      "conv_a1.weight,   \tnorm: 4.1510e+00, \tupdate norm: 7.3219e-04 \tUpdate/norm: 1.7639e-04\n",
      "conv_a1.bias,   \tnorm: 3.9253e-01, \tupdate norm: 1.3631e-04 \tUpdate/norm: 3.4726e-04\n",
      "conv_b1.weight,   \tnorm: 4.0640e+00, \tupdate norm: 7.4228e-04 \tUpdate/norm: 1.8265e-04\n",
      "conv_b1.bias,   \tnorm: 3.2633e-01, \tupdate norm: 9.3047e-05 \tUpdate/norm: 2.8513e-04\n",
      "final.weight,   \tnorm: 7.7213e-01, \tupdate norm: 4.2325e-04 \tUpdate/norm: 5.4816e-04\n",
      "final.bias,   \tnorm: 7.0558e-02, \tupdate norm: 5.0522e-05 \tUpdate/norm: 7.1604e-04\n",
      "\n",
      "... 0.1132... 0.1022... 0.1042\n",
      "Iter 460... 0.1041... 0.1155... 0.1068\n",
      "Iter 470... 0.1007... 0.1093... 0.1049\n",
      "Iteration 480, loss = 0.1104, corrected loss = 51.3920\n",
      "Validation loss 49.4993 over 81 frames\n",
      "model saved to model_checkpoints/Model 5 (Basic+PixelNorm) R1/Model 5 (Basic+PixelNorm) R1-480\n",
      "conv_a1.weight,   \tnorm: 4.1500e+00, \tupdate norm: 6.8640e-04 \tUpdate/norm: 1.6540e-04\n",
      "conv_a1.bias,   \tnorm: 3.9491e-01, \tupdate norm: 1.4401e-04 \tUpdate/norm: 3.6466e-04\n",
      "conv_b1.weight,   \tnorm: 4.0639e+00, \tupdate norm: 6.8559e-04 \tUpdate/norm: 1.6870e-04\n",
      "conv_b1.bias,   \tnorm: 3.2542e-01, \tupdate norm: 1.1755e-04 \tUpdate/norm: 3.6123e-04\n",
      "final.weight,   \tnorm: 7.6688e-01, \tupdate norm: 4.1752e-04 \tUpdate/norm: 5.4444e-04\n",
      "final.bias,   \tnorm: 7.0082e-02, \tupdate norm: 4.0807e-05 \tUpdate/norm: 5.8228e-04\n",
      "\n",
      "... 0.1099... 0.0982... 0.1002\n",
      "Iter 490"
     ]
    },
    {
     "ename": "RuntimeError",
     "evalue": "cuda runtime error (2) : out of memory at /opt/conda/conda-bld/pytorch_1524590031827/work/aten/src/THC/generic/THCStorage.cu:58",
     "output_type": "error",
     "traceback": [
      "\u001b[0;31m---------------------------------------------------------------------------\u001b[0m",
      "\u001b[0;31mRuntimeError\u001b[0m                              Traceback (most recent call last)",
      "\u001b[0;32m<ipython-input-5-84b13b03510b>\u001b[0m in \u001b[0;36m<module>\u001b[0;34m()\u001b[0m\n\u001b[1;32m      1\u001b[0m train(model, post_proc, optimizer, train_loader, val_loader, loss_fn, device, \n\u001b[1;32m      2\u001b[0m          \u001b[0mmodel_name\u001b[0m\u001b[0;34m,\u001b[0m \u001b[0mloss_history\u001b[0m\u001b[0;34m,\u001b[0m\u001b[0;34m\u001b[0m\u001b[0m\n\u001b[0;32m----> 3\u001b[0;31m           epochs=2, print_every=30, print_level=4, lr_decay=1)\n\u001b[0m",
      "\u001b[0;32m~/Project/utils/run_model.py\u001b[0m in \u001b[0;36mtrain\u001b[0;34m(model, post_proc, optimizer, train_loader, val_loader, loss_fn, device, model_name, loss_history, epochs, print_every, print_level, lr_decay)\u001b[0m\n\u001b[1;32m    121\u001b[0m             \u001b[0;31m# This is the backwards pass: compute the gradient of the loss with\u001b[0m\u001b[0;34m\u001b[0m\u001b[0;34m\u001b[0m\u001b[0m\n\u001b[1;32m    122\u001b[0m             \u001b[0;31m# respect to each  parameter of the model.\u001b[0m\u001b[0;34m\u001b[0m\u001b[0;34m\u001b[0m\u001b[0m\n\u001b[0;32m--> 123\u001b[0;31m             \u001b[0mloss\u001b[0m\u001b[0;34m.\u001b[0m\u001b[0mbackward\u001b[0m\u001b[0;34m(\u001b[0m\u001b[0;34m)\u001b[0m\u001b[0;34m\u001b[0m\u001b[0m\n\u001b[0m\u001b[1;32m    124\u001b[0m \u001b[0;34m\u001b[0m\u001b[0m\n\u001b[1;32m    125\u001b[0m             \u001b[0;31m# Print the params and grads\u001b[0m\u001b[0;34m\u001b[0m\u001b[0;34m\u001b[0m\u001b[0m\n",
      "\u001b[0;32m/home/shared/anaconda3/lib/python3.6/site-packages/torch/tensor.py\u001b[0m in \u001b[0;36mbackward\u001b[0;34m(self, gradient, retain_graph, create_graph)\u001b[0m\n\u001b[1;32m     91\u001b[0m                 \u001b[0mproducts\u001b[0m\u001b[0;34m.\u001b[0m \u001b[0mDefaults\u001b[0m \u001b[0mto\u001b[0m\u001b[0;31m \u001b[0m\u001b[0;31m`\u001b[0m\u001b[0;31m`\u001b[0m\u001b[0;32mFalse\u001b[0m\u001b[0;31m`\u001b[0m\u001b[0;31m`\u001b[0m\u001b[0;34m.\u001b[0m\u001b[0;34m\u001b[0m\u001b[0m\n\u001b[1;32m     92\u001b[0m         \"\"\"\n\u001b[0;32m---> 93\u001b[0;31m         \u001b[0mtorch\u001b[0m\u001b[0;34m.\u001b[0m\u001b[0mautograd\u001b[0m\u001b[0;34m.\u001b[0m\u001b[0mbackward\u001b[0m\u001b[0;34m(\u001b[0m\u001b[0mself\u001b[0m\u001b[0;34m,\u001b[0m \u001b[0mgradient\u001b[0m\u001b[0;34m,\u001b[0m \u001b[0mretain_graph\u001b[0m\u001b[0;34m,\u001b[0m \u001b[0mcreate_graph\u001b[0m\u001b[0;34m)\u001b[0m\u001b[0;34m\u001b[0m\u001b[0m\n\u001b[0m\u001b[1;32m     94\u001b[0m \u001b[0;34m\u001b[0m\u001b[0m\n\u001b[1;32m     95\u001b[0m     \u001b[0;32mdef\u001b[0m \u001b[0mregister_hook\u001b[0m\u001b[0;34m(\u001b[0m\u001b[0mself\u001b[0m\u001b[0;34m,\u001b[0m \u001b[0mhook\u001b[0m\u001b[0;34m)\u001b[0m\u001b[0;34m:\u001b[0m\u001b[0;34m\u001b[0m\u001b[0m\n",
      "\u001b[0;32m/home/shared/anaconda3/lib/python3.6/site-packages/torch/autograd/__init__.py\u001b[0m in \u001b[0;36mbackward\u001b[0;34m(tensors, grad_tensors, retain_graph, create_graph, grad_variables)\u001b[0m\n\u001b[1;32m     87\u001b[0m     Variable._execution_engine.run_backward(\n\u001b[1;32m     88\u001b[0m         \u001b[0mtensors\u001b[0m\u001b[0;34m,\u001b[0m \u001b[0mgrad_tensors\u001b[0m\u001b[0;34m,\u001b[0m \u001b[0mretain_graph\u001b[0m\u001b[0;34m,\u001b[0m \u001b[0mcreate_graph\u001b[0m\u001b[0;34m,\u001b[0m\u001b[0;34m\u001b[0m\u001b[0m\n\u001b[0;32m---> 89\u001b[0;31m         allow_unreachable=True)  # allow_unreachable flag\n\u001b[0m\u001b[1;32m     90\u001b[0m \u001b[0;34m\u001b[0m\u001b[0m\n\u001b[1;32m     91\u001b[0m \u001b[0;34m\u001b[0m\u001b[0m\n",
      "\u001b[0;31mRuntimeError\u001b[0m: cuda runtime error (2) : out of memory at /opt/conda/conda-bld/pytorch_1524590031827/work/aten/src/THC/generic/THCStorage.cu:58"
     ]
    }
   ],
   "source": [
    "train(model, post_proc, optimizer, train_loader, val_loader, loss_fn, device, \n",
    "         model_name, loss_history,\n",
    "          epochs=2, print_every=30, print_level=4, lr_decay=1)"
   ]
  },
  {
   "cell_type": "code",
   "execution_count": null,
   "metadata": {},
   "outputs": [],
   "source": [
    "# One last test + visualize results on 1 validation sequence\n",
    "val_seq = TAVR_Sequence(\"__valid\")\n",
    "test(model, post_proc, val_loader, loss_fn, device)\n",
    "test(ave_model, post_proc, val_loader, loss_fn, device)\n",
    "\n",
    "with torch.no_grad():\n",
    "    model.eval()\n",
    "    ave_frames = [val_seq[0][0]]\n",
    "    for i in range(2,9,2):\n",
    "        ave_frame = model((val_seq[0][i-2][None,:], val_seq[0][i][None,:]))\n",
    "        ave_frames += [ave_frame[0][0],  val_seq[0][i]]\n",
    "    ave_frames += [val_seq[0][9]]\n",
    "    ave_frames_slices = []\n",
    "    for f in ave_frames:\n",
    "        ave_frames_slices += get_central_slices(f)\n",
    "    set_figsize(6,20)\n",
    "    display_grid(10, 3, ave_frames_slices)"
   ]
  }
 ],
 "metadata": {
  "kernelspec": {
   "display_name": "Python 3",
   "language": "python",
   "name": "python3"
  },
  "language_info": {
   "codemirror_mode": {
    "name": "ipython",
    "version": 3
   },
   "file_extension": ".py",
   "mimetype": "text/x-python",
   "name": "python",
   "nbconvert_exporter": "python",
   "pygments_lexer": "ipython3",
   "version": "3.6.4"
  }
 },
 "nbformat": 4,
 "nbformat_minor": 2
}
