{
 "cells": [
  {
   "cell_type": "code",
   "execution_count": 1,
   "metadata": {},
   "outputs": [
    {
     "name": "stdout",
     "output_type": "stream",
     "text": [
      "Training directory found, 36 series\n",
      "Validation directory found, 6 series\n",
      "Testing directory found, 10 series\n"
     ]
    }
   ],
   "source": [
    "%load_ext autoreload\n",
    "%autoreload 2\n",
    "%matplotlib inline\n",
    "\n",
    "import torch\n",
    "import numpy as np\n",
    "import torch.nn as nn\n",
    "import torch.optim as optim\n",
    "import torch.nn.functional as F \n",
    "\n",
    "import utils.tavr_torch as tavr_torch\n",
    "from utils.tavr_torch import TAVR_3_Frame, TAVR_1_Frame, TAVR_Sequence, tavr_dataloader\n",
    "from utils.visualization import display_grid, z_stretch, visualize_frame, set_figsize, get_central_slices\n",
    "from utils.loss_functions import batch_l2_loss\n",
    "from utils.run_model import train, test, save, load, get_loss_history\n",
    "from Models.basic_models import average_model, two_layer_basic, post_process\n",
    "from Models.two_layer_resnet import two_layer_resnet\n",
    "\n",
    "set_figsize(20, 15)"
   ]
  },
  {
   "cell_type": "code",
   "execution_count": 2,
   "metadata": {},
   "outputs": [
    {
     "name": "stdout",
     "output_type": "stream",
     "text": [
      "using device: cuda\n"
     ]
    }
   ],
   "source": [
    "USE_GPU = True\n",
    "dtype = torch.float32 # we will be using float throughout this tutorial\n",
    "if USE_GPU and torch.cuda.is_available():\n",
    "    device = torch.device('cuda')\n",
    "else:\n",
    "    device = torch.device('cpu')\n",
    "print('using device:', device)\n",
    "\n",
    "# \"Pixl\", \"Slice\", or \"None\"\n",
    "preproc_type = \"slice\"\n",
    "\n",
    "validation = TAVR_3_Frame(\"__valid\", preproc=preproc_type, preload=False)\n",
    "val_loader = tavr_dataloader(validation, batch_size=4, shuffle=True, num_workers=2)\n",
    "training = TAVR_3_Frame(\"__train\", preproc=preproc_type, preload=False)\n",
    "train_loader = tavr_dataloader(training,batch_size=4, shuffle=True, num_workers=2)\n",
    "\n",
    "\n",
    "ave_model = average_model()\n",
    "model = two_layer_basic()\n",
    "post_proc = post_process(kind=preproc_type).to(device=device)\n",
    "loss_fn = batch_l2_loss()\n",
    "\n",
    "# CHANGE TO NAME OF JUPYTER NOTEBOOK\n",
    "model_name = \"Model 21 (2_layer_res+SliceNorm+high L2 Reg) Run 0 [V100]\""
   ]
  },
  {
   "cell_type": "code",
   "execution_count": 3,
   "metadata": {},
   "outputs": [],
   "source": [
    "learning_rate = 3e-3\n",
    "reg = 1e-3\n",
    "\n",
    "optimizer = optim.Adam(model.parameters(), lr=learning_rate, weight_decay=reg)"
   ]
  },
  {
   "cell_type": "code",
   "execution_count": 4,
   "metadata": {},
   "outputs": [],
   "source": [
    "LOAD = False\n",
    "iteration_num = -1\n",
    "\n",
    "if LOAD:\n",
    "    load(model_name, iteration_num, model, optimizer)\n",
    "    loss_history = get_loss_history(model_name)\n",
    "    model.to(device=device)\n",
    "    # I don't know why these lines are necessary\n",
    "    # or even what the hell they do\n",
    "    # but they are\n",
    "    if str(device) == 'cuda':\n",
    "        for state in optimizer.state.values():\n",
    "            for k, v in state.items():\n",
    "                state[k] = v.cuda()\n",
    "else:\n",
    "    loss_history = None"
   ]
  },
  {
   "cell_type": "code",
   "execution_count": null,
   "metadata": {},
   "outputs": [],
   "source": [
    "# If multiple GPU\n",
    "# model = nn.DataParallel(model)"
   ]
  },
  {
   "cell_type": "code",
   "execution_count": 5,
   "metadata": {},
   "outputs": [
    {
     "name": "stdout",
     "output_type": "stream",
     "text": [
      "\n",
      "Iteration 0, loss = 37.6812, corrected loss = 526.6171\n",
      "Validation loss 456.0317 over 81 frames\n",
      "model saved to model_checkpoints/Model 21 (2_layer_res+SliceNorm+high L2 Reg) Run 0 [V100]/Model 21 (2_layer_res+SliceNorm+high L2 Reg) Run 0 [V100]-0\n",
      "conv_a1.weight,   \tnorm: 4.0074e+00, \tupdate norm: 4.4091e-02 \tUpdate/norm: 1.1002e-02\n",
      "conv_a1.bias,   \tnorm: 2.9304e-01, \tupdate norm: 8.4852e-03 \tUpdate/norm: 2.8956e-02\n",
      "conv_b1.weight,   \tnorm: 4.1828e+00, \tupdate norm: 4.4091e-02 \tUpdate/norm: 1.0541e-02\n",
      "conv_b1.bias,   \tnorm: 2.0483e-01, \tupdate norm: 8.4849e-03 \tUpdate/norm: 4.1424e-02\n",
      "final.weight,   \tnorm: 1.0987e+00, \tupdate norm: 1.2000e-02 \tUpdate/norm: 1.0922e-02\n",
      "final.bias,   \tnorm: 1.0409e-01, \tupdate norm: 3.0000e-03 \tUpdate/norm: 2.8821e-02\n",
      "\n",
      "... 34.1090... 24.6889... 18.6047\n",
      "Iter 10... 12.8260... 10.0548... 11.0012\n",
      "Iter 20... 11.7923... 10.9730... 10.9396\n",
      "Iteration 30, loss = 10.1152, corrected loss = 127.3885\n",
      "Validation loss 119.2579 over 81 frames\n",
      "model saved to model_checkpoints/Model 21 (2_layer_res+SliceNorm+high L2 Reg) Run 0 [V100]/Model 21 (2_layer_res+SliceNorm+high L2 Reg) Run 0 [V100]-30\n",
      "conv_a1.weight,   \tnorm: 4.0234e+00, \tupdate norm: 1.4996e-02 \tUpdate/norm: 3.7272e-03\n",
      "conv_a1.bias,   \tnorm: 2.9212e-01, \tupdate norm: 3.0454e-03 \tUpdate/norm: 1.0425e-02\n",
      "conv_b1.weight,   \tnorm: 4.1416e+00, \tupdate norm: 1.3826e-02 \tUpdate/norm: 3.3383e-03\n",
      "conv_b1.bias,   \tnorm: 1.9155e-01, \tupdate norm: 3.4910e-03 \tUpdate/norm: 1.8225e-02\n",
      "final.weight,   \tnorm: 1.0225e+00, \tupdate norm: 5.6068e-03 \tUpdate/norm: 5.4833e-03\n",
      "final.bias,   \tnorm: 1.5950e-01, \tupdate norm: 2.5359e-04 \tUpdate/norm: 1.5899e-03\n",
      "\n",
      "... 8.6634... 7.5206... 8.9873\n",
      "Iter 40... 9.1663... 7.9487... 6.6487\n",
      "Iter 50... 7.6900... 6.4659... 8.3000\n",
      "Iteration 60, loss = 7.9657, corrected loss = 96.8312\n",
      "Validation loss 93.8717 over 81 frames\n",
      "model saved to model_checkpoints/Model 21 (2_layer_res+SliceNorm+high L2 Reg) Run 0 [V100]/Model 21 (2_layer_res+SliceNorm+high L2 Reg) Run 0 [V100]-60\n",
      "conv_a1.weight,   \tnorm: 4.0015e+00, \tupdate norm: 7.7729e-03 \tUpdate/norm: 1.9425e-03\n",
      "conv_a1.bias,   \tnorm: 2.9691e-01, \tupdate norm: 1.5514e-03 \tUpdate/norm: 5.2253e-03\n",
      "conv_b1.weight,   \tnorm: 4.1212e+00, \tupdate norm: 7.5428e-03 \tUpdate/norm: 1.8303e-03\n",
      "conv_b1.bias,   \tnorm: 2.1335e-01, \tupdate norm: 2.0244e-03 \tUpdate/norm: 9.4888e-03\n",
      "final.weight,   \tnorm: 9.4101e-01, \tupdate norm: 2.9821e-03 \tUpdate/norm: 3.1691e-03\n",
      "final.bias,   \tnorm: 1.8074e-01, \tupdate norm: 5.0925e-04 \tUpdate/norm: 2.8175e-03\n",
      "\n",
      "... 6.4827... 6.3400... 8.0337\n",
      "Iter 70... 7.3584... 7.2214... 6.7489\n",
      "Iter 80... 6.8659... 6.7076... 6.8169\n",
      "Iteration 90, loss = 7.4523, corrected loss = 87.2876\n",
      "Validation loss 77.2966 over 81 frames\n",
      "model saved to model_checkpoints/Model 21 (2_layer_res+SliceNorm+high L2 Reg) Run 0 [V100]/Model 21 (2_layer_res+SliceNorm+high L2 Reg) Run 0 [V100]-90\n",
      "conv_a1.weight,   \tnorm: 3.9902e+00, \tupdate norm: 7.0753e-03 \tUpdate/norm: 1.7732e-03\n",
      "conv_a1.bias,   \tnorm: 3.0115e-01, \tupdate norm: 1.0867e-03 \tUpdate/norm: 3.6085e-03\n",
      "conv_b1.weight,   \tnorm: 4.1167e+00, \tupdate norm: 7.2262e-03 \tUpdate/norm: 1.7553e-03\n",
      "conv_b1.bias,   \tnorm: 2.3273e-01, \tupdate norm: 9.3923e-04 \tUpdate/norm: 4.0358e-03\n",
      "final.weight,   \tnorm: 8.8500e-01, \tupdate norm: 2.7408e-03 \tUpdate/norm: 3.0969e-03\n",
      "final.bias,   \tnorm: 1.9926e-01, \tupdate norm: 5.0607e-04 \tUpdate/norm: 2.5398e-03\n",
      "\n",
      "... 5.6962... 6.8748... 5.9151\n",
      "Iter 100... 6.4253... 5.7171... 5.4822\n",
      "Iter 110... 6.7511... 6.7377... 5.4571\n",
      "Iteration 120, loss = 5.3814, corrected loss = 66.5887\n",
      "Validation loss 66.4043 over 81 frames\n",
      "model saved to model_checkpoints/Model 21 (2_layer_res+SliceNorm+high L2 Reg) Run 0 [V100]/Model 21 (2_layer_res+SliceNorm+high L2 Reg) Run 0 [V100]-120\n",
      "conv_a1.weight,   \tnorm: 3.9882e+00, \tupdate norm: 6.4363e-03 \tUpdate/norm: 1.6139e-03\n",
      "conv_a1.bias,   \tnorm: 3.0413e-01, \tupdate norm: 1.0560e-03 \tUpdate/norm: 3.4723e-03\n",
      "conv_b1.weight,   \tnorm: 4.1207e+00, \tupdate norm: 7.5660e-03 \tUpdate/norm: 1.8361e-03\n",
      "conv_b1.bias,   \tnorm: 2.4592e-01, \tupdate norm: 9.1819e-04 \tUpdate/norm: 3.7337e-03\n",
      "final.weight,   \tnorm: 8.5158e-01, \tupdate norm: 2.5098e-03 \tUpdate/norm: 2.9472e-03\n",
      "final.bias,   \tnorm: 2.1349e-01, \tupdate norm: 4.3662e-04 \tUpdate/norm: 2.0452e-03\n",
      "\n",
      "... 4.7011... 5.0120... 4.6142\n",
      "Iter 130... 5.2794... 4.7089... 5.2387\n",
      "Iter 140... 5.7512... 6.2653... 4.5868\n",
      "Iteration 150, loss = 5.8923, corrected loss = 65.1668\n",
      "Validation loss 59.3290 over 81 frames\n",
      "model saved to model_checkpoints/Model 21 (2_layer_res+SliceNorm+high L2 Reg) Run 0 [V100]/Model 21 (2_layer_res+SliceNorm+high L2 Reg) Run 0 [V100]-150\n",
      "conv_a1.weight,   \tnorm: 3.9871e+00, \tupdate norm: 4.9969e-03 \tUpdate/norm: 1.2533e-03\n",
      "conv_a1.bias,   \tnorm: 3.0122e-01, \tupdate norm: 6.5449e-04 \tUpdate/norm: 2.1728e-03\n",
      "conv_b1.weight,   \tnorm: 4.1300e+00, \tupdate norm: 8.8471e-03 \tUpdate/norm: 2.1422e-03\n",
      "conv_b1.bias,   \tnorm: 2.4997e-01, \tupdate norm: 1.2046e-03 \tUpdate/norm: 4.8192e-03\n",
      "final.weight,   \tnorm: 8.3185e-01, \tupdate norm: 1.8679e-03 \tUpdate/norm: 2.2454e-03\n",
      "final.bias,   \tnorm: 2.2121e-01, \tupdate norm: 2.0126e-04 \tUpdate/norm: 9.0981e-04\n",
      "\n",
      "... 5.5979... 4.9742... 6.8391\n",
      "Iter 160.\n",
      "model saved to model_checkpoints/Model 21 (2_layer_res+SliceNorm+high L2 Reg) Run 0 [V100]/Model 21 (2_layer_res+SliceNorm+high L2 Reg) Run 0 [V100]-162\n",
      "(Epoch time: 14.57 minutes. Total epochs: 1)\n",
      ".. 6.4404... 4.8682... 4.4057\n",
      "Iter 170... 4.0838... 4.0319... 4.2603\n",
      "Iteration 180, loss = 4.3860, corrected loss = 50.2667\n",
      "Validation loss 54.5874 over 81 frames\n",
      "model saved to model_checkpoints/Model 21 (2_layer_res+SliceNorm+high L2 Reg) Run 0 [V100]/Model 21 (2_layer_res+SliceNorm+high L2 Reg) Run 0 [V100]-180\n",
      "conv_a1.weight,   \tnorm: 3.9822e+00, \tupdate norm: 4.3972e-03 \tUpdate/norm: 1.1042e-03\n",
      "conv_a1.bias,   \tnorm: 2.9450e-01, \tupdate norm: 4.1867e-04 \tUpdate/norm: 1.4216e-03\n",
      "conv_b1.weight,   \tnorm: 4.1415e+00, \tupdate norm: 8.3658e-03 \tUpdate/norm: 2.0200e-03\n",
      "conv_b1.bias,   \tnorm: 2.4948e-01, \tupdate norm: 1.5521e-03 \tUpdate/norm: 6.2215e-03\n",
      "final.weight,   \tnorm: 8.1636e-01, \tupdate norm: 1.7534e-03 \tUpdate/norm: 2.1478e-03\n",
      "final.bias,   \tnorm: 2.2460e-01, \tupdate norm: 7.1451e-05 \tUpdate/norm: 3.1812e-04\n",
      "\n",
      "... 4.5418... 4.6636... 4.7838\n",
      "Iter 190... 5.1630... 4.3577... 3.0682\n",
      "Iter 200... 5.4154... 4.2029... 5.8199\n",
      "Iteration 210, loss = 3.4557, corrected loss = 45.9686\n",
      "Validation loss 50.4565 over 81 frames\n",
      "model saved to model_checkpoints/Model 21 (2_layer_res+SliceNorm+high L2 Reg) Run 0 [V100]/Model 21 (2_layer_res+SliceNorm+high L2 Reg) Run 0 [V100]-210\n",
      "conv_a1.weight,   \tnorm: 3.9733e+00, \tupdate norm: 4.4353e-03 \tUpdate/norm: 1.1163e-03\n",
      "conv_a1.bias,   \tnorm: 2.7917e-01, \tupdate norm: 7.1665e-04 \tUpdate/norm: 2.5671e-03\n",
      "conv_b1.weight,   \tnorm: 4.1558e+00, \tupdate norm: 1.2948e-02 \tUpdate/norm: 3.1156e-03\n",
      "conv_b1.bias,   \tnorm: 2.5078e-01, \tupdate norm: 1.9058e-03 \tUpdate/norm: 7.5995e-03\n",
      "final.weight,   \tnorm: 7.9959e-01, \tupdate norm: 1.4666e-03 \tUpdate/norm: 1.8342e-03\n",
      "final.bias,   \tnorm: 2.2215e-01, \tupdate norm: 1.7166e-04 \tUpdate/norm: 7.7271e-04\n",
      "\n",
      "... 5.6303... 3.7504... 5.3970\n",
      "Iter 220... 3.5683... 3.3749... 4.5952\n",
      "Iter 230... 4.2664... 3.3719... 3.8175\n",
      "Iteration 240, loss = 4.8701, corrected loss = 54.1895\n",
      "Validation loss 47.0620 over 81 frames\n",
      "model saved to model_checkpoints/Model 21 (2_layer_res+SliceNorm+high L2 Reg) Run 0 [V100]/Model 21 (2_layer_res+SliceNorm+high L2 Reg) Run 0 [V100]-240\n",
      "conv_a1.weight,   \tnorm: 3.9623e+00, \tupdate norm: 4.2044e-03 \tUpdate/norm: 1.0611e-03\n",
      "conv_a1.bias,   \tnorm: 2.5309e-01, \tupdate norm: 1.5003e-03 \tUpdate/norm: 5.9282e-03\n",
      "conv_b1.weight,   \tnorm: 4.1873e+00, \tupdate norm: 1.3439e-02 \tUpdate/norm: 3.2095e-03\n",
      "conv_b1.bias,   \tnorm: 2.5375e-01, \tupdate norm: 4.5719e-03 \tUpdate/norm: 1.8017e-02\n",
      "final.weight,   \tnorm: 7.8195e-01, \tupdate norm: 1.3102e-03 \tUpdate/norm: 1.6756e-03\n",
      "final.bias,   \tnorm: 2.1256e-01, \tupdate norm: 5.4125e-04 \tUpdate/norm: 2.5464e-03\n",
      "\n",
      "... 5.0745... 4.4482... 3.5432\n",
      "Iter 250... 4.1978... 5.1070... 3.5101\n",
      "Iter 260... 3.7931... 4.7890... 3.8979\n",
      "Iteration 270, loss = 3.8504, corrected loss = 45.0619\n",
      "Validation loss 44.9433 over 81 frames\n",
      "model saved to model_checkpoints/Model 21 (2_layer_res+SliceNorm+high L2 Reg) Run 0 [V100]/Model 21 (2_layer_res+SliceNorm+high L2 Reg) Run 0 [V100]-270\n",
      "conv_a1.weight,   \tnorm: 3.9529e+00, \tupdate norm: 3.4007e-03 \tUpdate/norm: 8.6030e-04\n",
      "conv_a1.bias,   \tnorm: 2.2215e-01, \tupdate norm: 1.3347e-03 \tUpdate/norm: 6.0083e-03\n",
      "conv_b1.weight,   \tnorm: 4.2020e+00, \tupdate norm: 1.0320e-02 \tUpdate/norm: 2.4559e-03\n",
      "conv_b1.bias,   \tnorm: 2.8977e-01, \tupdate norm: 3.7165e-03 \tUpdate/norm: 1.2826e-02\n",
      "final.weight,   \tnorm: 7.5989e-01, \tupdate norm: 1.1518e-03 \tUpdate/norm: 1.5157e-03\n",
      "final.bias,   \tnorm: 1.9787e-01, \tupdate norm: 4.8617e-04 \tUpdate/norm: 2.4570e-03\n",
      "\n"
     ]
    },
    {
     "name": "stdout",
     "output_type": "stream",
     "text": [
      "... 4.2020... 4.2449... 4.1145\n",
      "Iter 280... 4.0552... 4.7420... 4.7939\n",
      "Iter 290... 4.4937... 5.0245... 3.4006\n",
      "Iteration 300, loss = 2.6143, corrected loss = 33.1305\n",
      "Validation loss 43.4758 over 81 frames\n",
      "model saved to model_checkpoints/Model 21 (2_layer_res+SliceNorm+high L2 Reg) Run 0 [V100]/Model 21 (2_layer_res+SliceNorm+high L2 Reg) Run 0 [V100]-300\n",
      "conv_a1.weight,   \tnorm: 3.9456e+00, \tupdate norm: 3.9366e-03 \tUpdate/norm: 9.9772e-04\n",
      "conv_a1.bias,   \tnorm: 1.9488e-01, \tupdate norm: 1.8484e-03 \tUpdate/norm: 9.4843e-03\n",
      "conv_b1.weight,   \tnorm: 4.2126e+00, \tupdate norm: 1.0299e-02 \tUpdate/norm: 2.4448e-03\n",
      "conv_b1.bias,   \tnorm: 3.6428e-01, \tupdate norm: 5.8955e-03 \tUpdate/norm: 1.6184e-02\n",
      "final.weight,   \tnorm: 7.4149e-01, \tupdate norm: 1.1269e-03 \tUpdate/norm: 1.5197e-03\n",
      "final.bias,   \tnorm: 1.8229e-01, \tupdate norm: 7.5312e-04 \tUpdate/norm: 4.1314e-03\n",
      "\n",
      "... 3.0131... 3.8600... 4.0093\n",
      "Iter 310... 4.7811... 3.9043... 2.7458\n",
      "Iter 320... 2.4458\n",
      "model saved to model_checkpoints/Model 21 (2_layer_res+SliceNorm+high L2 Reg) Run 0 [V100]/Model 21 (2_layer_res+SliceNorm+high L2 Reg) Run 0 [V100]-324\n"
     ]
    }
   ],
   "source": [
    "train(model, post_proc, optimizer, train_loader, val_loader, loss_fn, device, \n",
    "         model_name, loss_history,\n",
    "          epochs=2, print_every=30, print_level=4, lr_decay=1)"
   ]
  },
  {
   "cell_type": "code",
   "execution_count": 11,
   "metadata": {},
   "outputs": [
    {
     "name": "stdout",
     "output_type": "stream",
     "text": [
      "Validation loss 42.7425 over 81 frames\n",
      "Validation loss 36.8181 over 81 frames\n"
     ]
    },
    {
     "data": {
      "text/plain": [
       "tensor(36.8181, device='cuda:0')"
      ]
     },
     "execution_count": 11,
     "metadata": {},
     "output_type": "execute_result"
    }
   ],
   "source": [
    "# One last test + visualize results on 1 validation sequence\n",
    "\n",
    "test(model, post_proc, val_loader, loss_fn, device)\n",
    "test(ave_model, post_proc, val_loader, loss_fn, device)"
   ]
  },
  {
   "cell_type": "code",
   "execution_count": null,
   "metadata": {},
   "outputs": [],
   "source": [
    "val_seq = TAVR_Sequence(\"__valid\", preproc=preproc_type)\n",
    "with torch.no_grad():\n",
    "    model.eval()\n",
    "    ave_frames = [post_proc(val_seq[0][0].to(device=device))]\n",
    "    for i in range(2,9,2):\n",
    "        ave_frame = model((val_seq[0][i-2][None,:].to(device=device), val_seq[0][i][None,:].to(device=device)))\n",
    "        ave_frames += [post_proc(ave_frame[0][0]),  post_proc(val_seq[0][i].to(device=device))]\n",
    "    ave_frames += [post_proc(val_seq[0][9].to(device=device))]\n",
    "    ave_frames_slices = []\n",
    "    for f in ave_frames:\n",
    "        ave_frames_slices += get_central_slices(f)\n",
    "    set_figsize(6,20)\n",
    "    display_grid(10, 3, ave_frames_slices)"
   ]
  }
 ],
 "metadata": {
  "kernelspec": {
   "display_name": "Python 3",
   "language": "python",
   "name": "python3"
  },
  "language_info": {
   "codemirror_mode": {
    "name": "ipython",
    "version": 3
   },
   "file_extension": ".py",
   "mimetype": "text/x-python",
   "name": "python",
   "nbconvert_exporter": "python",
   "pygments_lexer": "ipython3",
   "version": "3.6.4"
  }
 },
 "nbformat": 4,
 "nbformat_minor": 2
}
