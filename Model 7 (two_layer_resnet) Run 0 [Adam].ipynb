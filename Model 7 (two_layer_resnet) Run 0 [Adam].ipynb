{
 "cells": [
  {
   "cell_type": "code",
   "execution_count": 2,
   "metadata": {},
   "outputs": [
    {
     "name": "stdout",
     "output_type": "stream",
     "text": [
      "The autoreload extension is already loaded. To reload it, use:\n",
      "  %reload_ext autoreload\n"
     ]
    }
   ],
   "source": [
    "%load_ext autoreload\n",
    "%autoreload 2\n",
    "%matplotlib inline\n",
    "\n",
    "import torch\n",
    "import numpy as np\n",
    "import torch.nn as nn\n",
    "import torch.optim as optim\n",
    "import torch.nn.functional as F \n",
    "\n",
    "import utils.tavr_torch as tavr_torch\n",
    "from utils.tavr_torch import TAVR_3_Frame, TAVR_1_Frame, TAVR_Sequence, tavr_dataloader\n",
    "from utils.visualization import display_grid, z_stretch, visualize_frame, set_figsize, get_central_slices\n",
    "from utils.loss_functions import batch_l2_loss\n",
    "from utils.run_model import train, test, save, load, get_loss_history\n",
    "from Models.basic_models import average_model, post_process\n",
    "from Models.two_layer_resnet import two_layer_resnet\n",
    "\n",
    "set_figsize(20, 15)"
   ]
  },
  {
   "cell_type": "code",
   "execution_count": 3,
   "metadata": {},
   "outputs": [
    {
     "name": "stdout",
     "output_type": "stream",
     "text": [
      "using device: cpu\n"
     ]
    }
   ],
   "source": [
    "USE_GPU = True\n",
    "dtype = torch.float32 # we will be using float throughout this tutorial\n",
    "if USE_GPU and torch.cuda.is_available():\n",
    "    device = torch.device('cuda')\n",
    "else:\n",
    "    device = torch.device('cpu')\n",
    "print('using device:', device)\n",
    "\n",
    "# \"Pixl\", \"Slice\", or \"None\"\n",
    "preproc_type = \"pixel\"\n",
    "\n",
    "validation = TAVR_3_Frame(\"__valid\", preproc=preproc_type)\n",
    "val_loader = tavr_dataloader(validation, batch_size=4, shuffle=True, num_workers=2)\n",
    "training = TAVR_3_Frame(\"__train\", preproc=preproc_type)\n",
    "train_loader = tavr_dataloader(training,batch_size=8, shuffle=True, num_workers=2)\n",
    "\n",
    "\n",
    "ave_model = average_model()\n",
    "model = two_layer_resnet()\n",
    "post_proc = post_process(kind=preproc_type).to(device=device)\n",
    "loss_fn = batch_l2_loss()\n",
    "\n",
    "# CHANGE TO NAME OF JUPYTER NOTEBOOK\n",
    "model_name = \"Model 7 (two_layer_resnet) Run 0\""
   ]
  },
  {
   "cell_type": "code",
   "execution_count": 4,
   "metadata": {},
   "outputs": [],
   "source": [
    "learning_rate = 3e-3\n",
    "reg = 1e-7\n",
    "\n",
    "optimizer = optim.Adam(model.parameters(), lr=learning_rate)"
   ]
  },
  {
   "cell_type": "code",
   "execution_count": 5,
   "metadata": {},
   "outputs": [],
   "source": [
    "# Run cell to load model\n",
    "LOAD = False\n",
    "iteration_num = -1\n",
    "\n",
    "if LOAD:\n",
    "    \n",
    "    load(model_name, iteration_num, model, optimizer)\n",
    "    loss_history = get_loss_history(model_name)\n",
    "    model.to(device=device)\n",
    "else:\n",
    "    loss_history = None"
   ]
  },
  {
   "cell_type": "code",
   "execution_count": 6,
   "metadata": {
    "scrolled": true
   },
   "outputs": [
    {
     "name": "stdout",
     "output_type": "stream",
     "text": [
      "\n",
      "Iteration 0, loss = 1.4427, corrected loss = 671.3307\n",
      "Validation loss 562.7200 over 81 frames\n",
      "model saved to model_checkpoints/Model 7 (two_layer_resnet) Run 0/Model 7 (two_layer_resnet) Run 0-0\n",
      "conv_a1.weight,   \tnorm: 3.8784e+00, \tupdate norm: 4.4088e-02 \tUpdate/norm: 1.1368e-02\n",
      "conv_a1.bias,   \tnorm: 1.9853e-01, \tupdate norm: 8.4852e-03 \tUpdate/norm: 4.2740e-02\n",
      "conv_b1.weight,   \tnorm: 4.2831e+00, \tupdate norm: 4.4091e-02 \tUpdate/norm: 1.0294e-02\n",
      "conv_b1.bias,   \tnorm: 2.5258e-01, \tupdate norm: 8.4852e-03 \tUpdate/norm: 3.3594e-02\n",
      "final.weight,   \tnorm: 1.3948e+00, \tupdate norm: 1.2000e-02 \tUpdate/norm: 8.6035e-03\n",
      "final.bias,   \tnorm: 1.4754e-01, \tupdate norm: 3.0000e-03 \tUpdate/norm: 2.0334e-02\n",
      "\n",
      "... 1.0319... 0.6162... 0.6140\n",
      "Iter 10... 0.5726... 0.5383... 0.4951\n",
      "Iter 20... 0.4515... 0.4118... 0.4205\n",
      "Iteration 30, loss = 0.3845, corrected loss = 178.9088\n",
      "Validation loss 161.6488 over 81 frames\n",
      "model saved to model_checkpoints/Model 7 (two_layer_resnet) Run 0/Model 7 (two_layer_resnet) Run 0-30\n",
      "conv_a1.weight,   \tnorm: 3.8287e+00, \tupdate norm: 1.3047e-02 \tUpdate/norm: 3.4077e-03\n",
      "conv_a1.bias,   \tnorm: 1.7924e-01, \tupdate norm: 1.8902e-03 \tUpdate/norm: 1.0546e-02\n",
      "conv_b1.weight,   \tnorm: 4.2145e+00, \tupdate norm: 1.4388e-02 \tUpdate/norm: 3.4140e-03\n",
      "conv_b1.bias,   \tnorm: 3.1583e-01, \tupdate norm: 3.0357e-03 \tUpdate/norm: 9.6118e-03\n",
      "final.weight,   \tnorm: 1.2701e+00, \tupdate norm: 5.5284e-03 \tUpdate/norm: 4.3529e-03\n",
      "final.bias,   \tnorm: 1.6495e-01, \tupdate norm: 8.7604e-05 \tUpdate/norm: 5.3111e-04\n",
      "\n",
      "... 0.3583... 0.3154... 0.2793\n",
      "Iter 40... 0.2570... 0.2561... 0.2203\n",
      "Iter 50... 0.2154... 0.2078... 0.1919\n",
      "Iteration 60, loss = 0.1771, corrected loss = 82.4039\n",
      "Validation loss 80.7226 over 81 frames\n",
      "model saved to model_checkpoints/Model 7 (two_layer_resnet) Run 0/Model 7 (two_layer_resnet) Run 0-60\n",
      "conv_a1.weight,   \tnorm: 3.8519e+00, \tupdate norm: 6.8013e-03 \tUpdate/norm: 1.7657e-03\n",
      "conv_a1.bias,   \tnorm: 1.3204e-01, \tupdate norm: 2.4811e-03 \tUpdate/norm: 1.8790e-02\n",
      "conv_b1.weight,   \tnorm: 4.1740e+00, \tupdate norm: 9.8335e-03 \tUpdate/norm: 2.3559e-03\n",
      "conv_b1.bias,   \tnorm: 3.3744e-01, \tupdate norm: 2.4211e-03 \tUpdate/norm: 7.1750e-03\n",
      "final.weight,   \tnorm: 1.1922e+00, \tupdate norm: 3.8956e-03 \tUpdate/norm: 3.2677e-03\n",
      "final.bias,   \tnorm: 1.4678e-01, \tupdate norm: 4.7737e-04 \tUpdate/norm: 3.2524e-03\n",
      "\n",
      "... 0.1777... 0.1630... 0.1814\n",
      "Iter 70... 0.1596... 0.1595... 0.1473\n",
      "Iter 80\n",
      "model saved to model_checkpoints/Model 7 (two_layer_resnet) Run 0/Model 7 (two_layer_resnet) Run 0-81\n",
      "(Epoch time: 51.26 minutes. Total epochs: 1)\n",
      "... 0.1605... 0.1439... 0.1506\n",
      "Iteration 90, loss = 0.1415, corrected loss = 65.8453\n",
      "Validation loss 65.1040 over 81 frames\n",
      "model saved to model_checkpoints/Model 7 (two_layer_resnet) Run 0/Model 7 (two_layer_resnet) Run 0-90\n",
      "conv_a1.weight,   \tnorm: 3.8507e+00, \tupdate norm: 6.5662e-03 \tUpdate/norm: 1.7052e-03\n",
      "conv_a1.bias,   \tnorm: 1.2337e-01, \tupdate norm: 7.6358e-04 \tUpdate/norm: 6.1896e-03\n",
      "conv_b1.weight,   \tnorm: 4.1404e+00, \tupdate norm: 4.3940e-03 \tUpdate/norm: 1.0613e-03\n",
      "conv_b1.bias,   \tnorm: 3.5211e-01, \tupdate norm: 8.6881e-04 \tUpdate/norm: 2.4674e-03\n",
      "final.weight,   \tnorm: 1.1388e+00, \tupdate norm: 2.5527e-03 \tUpdate/norm: 2.2415e-03\n",
      "final.bias,   \tnorm: 1.3829e-01, \tupdate norm: 3.0927e-04 \tUpdate/norm: 2.2365e-03\n",
      "\n",
      "... 0.1373... 0.1402... 0.1288\n",
      "Iter 100... 0.1409... 0.1221... 0.1164\n",
      "Iter 110... 0.1343... 0.1393... 0.1380\n",
      "Iteration 120, loss = 0.1159, corrected loss = 53.9198\n",
      "Validation loss 59.1470 over 81 frames\n",
      "model saved to model_checkpoints/Model 7 (two_layer_resnet) Run 0/Model 7 (two_layer_resnet) Run 0-120\n",
      "conv_a1.weight,   \tnorm: 3.8306e+00, \tupdate norm: 4.5130e-03 \tUpdate/norm: 1.1781e-03\n",
      "conv_a1.bias,   \tnorm: 1.1799e-01, \tupdate norm: 7.1942e-04 \tUpdate/norm: 6.0976e-03\n",
      "conv_b1.weight,   \tnorm: 4.1124e+00, \tupdate norm: 3.3554e-03 \tUpdate/norm: 8.1593e-04\n",
      "conv_b1.bias,   \tnorm: 3.5701e-01, \tupdate norm: 7.0772e-04 \tUpdate/norm: 1.9824e-03\n",
      "final.weight,   \tnorm: 1.0889e+00, \tupdate norm: 2.0075e-03 \tUpdate/norm: 1.8436e-03\n",
      "final.bias,   \tnorm: 1.2775e-01, \tupdate norm: 3.1321e-04 \tUpdate/norm: 2.4518e-03\n",
      "\n",
      "... 0.1276... 0.1329... 0.1232\n",
      "Iter 130... 0.1286... 0.1271... 0.1264\n",
      "Iter 140... 0.1227... 0.1238... 0.1104\n",
      "Iteration 150, loss = 0.1175, corrected loss = 54.6946\n",
      "Validation loss 54.3806 over 81 frames\n",
      "model saved to model_checkpoints/Model 7 (two_layer_resnet) Run 0/Model 7 (two_layer_resnet) Run 0-150\n",
      "conv_a1.weight,   \tnorm: 3.8116e+00, \tupdate norm: 3.6027e-03 \tUpdate/norm: 9.4518e-04\n",
      "conv_a1.bias,   \tnorm: 1.1594e-01, \tupdate norm: 6.7797e-04 \tUpdate/norm: 5.8475e-03\n",
      "conv_b1.weight,   \tnorm: 4.0863e+00, \tupdate norm: 3.4250e-03 \tUpdate/norm: 8.3817e-04\n",
      "conv_b1.bias,   \tnorm: 3.5976e-01, \tupdate norm: 7.2676e-04 \tUpdate/norm: 2.0201e-03\n",
      "final.weight,   \tnorm: 1.0404e+00, \tupdate norm: 1.8649e-03 \tUpdate/norm: 1.7924e-03\n",
      "final.bias,   \tnorm: 1.1903e-01, \tupdate norm: 4.0093e-04 \tUpdate/norm: 3.3684e-03\n",
      "\n",
      "... 0.1290... 0.1209... 0.1171\n",
      "Iter 160.\n",
      "model saved to model_checkpoints/Model 7 (two_layer_resnet) Run 0/Model 7 (two_layer_resnet) Run 0-162\n",
      "(Epoch time: 55.87 minutes. Total epochs: 2)\n",
      ".. 0.1113... 0.1109... 0.1098\n",
      "Iter 170... 0.1228... 0.0963... 0.1214\n",
      "Iteration 180, loss = 0.1054, corrected loss = 49.0527\n",
      "Validation loss 50.7316 over 81 frames\n",
      "model saved to model_checkpoints/Model 7 (two_layer_resnet) Run 0/Model 7 (two_layer_resnet) Run 0-180\n",
      "conv_a1.weight,   \tnorm: 3.7972e+00, \tupdate norm: 3.6909e-03 \tUpdate/norm: 9.7202e-04\n",
      "conv_a1.bias,   \tnorm: 1.1875e-01, \tupdate norm: 8.1216e-04 \tUpdate/norm: 6.8392e-03\n",
      "conv_b1.weight,   \tnorm: 4.0622e+00, \tupdate norm: 3.1025e-03 \tUpdate/norm: 7.6375e-04\n",
      "conv_b1.bias,   \tnorm: 3.6426e-01, \tupdate norm: 6.2440e-04 \tUpdate/norm: 1.7141e-03\n",
      "final.weight,   \tnorm: 9.9506e-01, \tupdate norm: 1.8369e-03 \tUpdate/norm: 1.8460e-03\n",
      "final.bias,   \tnorm: 1.0961e-01, \tupdate norm: 4.3519e-04 \tUpdate/norm: 3.9702e-03\n",
      "\n",
      "... 0.0996... 0.1196... 0.1237\n",
      "Iter 190... 0.1050... 0.1044... 0.0991\n",
      "Iter 200... 0.0882... 0.1196... 0.1121\n",
      "Iteration 210, loss = 0.1174, corrected loss = 54.6489\n",
      "Validation loss 47.6374 over 81 frames\n",
      "model saved to model_checkpoints/Model 7 (two_layer_resnet) Run 0/Model 7 (two_layer_resnet) Run 0-210\n",
      "conv_a1.weight,   \tnorm: 3.7854e+00, \tupdate norm: 4.3309e-03 \tUpdate/norm: 1.1441e-03\n",
      "conv_a1.bias,   \tnorm: 1.3095e-01, \tupdate norm: 1.2125e-03 \tUpdate/norm: 9.2594e-03\n",
      "conv_b1.weight,   \tnorm: 4.0398e+00, \tupdate norm: 2.6007e-03 \tUpdate/norm: 6.4376e-04\n",
      "conv_b1.bias,   \tnorm: 3.7101e-01, \tupdate norm: 3.6730e-04 \tUpdate/norm: 9.9001e-04\n",
      "final.weight,   \tnorm: 9.5230e-01, \tupdate norm: 1.7064e-03 \tUpdate/norm: 1.7919e-03\n",
      "final.bias,   \tnorm: 9.9434e-02, \tupdate norm: 2.3142e-04 \tUpdate/norm: 2.3273e-03\n",
      "\n",
      "... 0.1102... 0.1022... 0.0895\n",
      "Iter 220... 0.0996... 0.1023... 0.0890\n",
      "Iter 230... 0.0891... 0.1074... 0.1011\n",
      "Iteration 240, loss = 0.0922, corrected loss = 42.9237\n",
      "Validation loss 45.3328 over 81 frames\n",
      "model saved to model_checkpoints/Model 7 (two_layer_resnet) Run 0/Model 7 (two_layer_resnet) Run 0-240\n",
      "conv_a1.weight,   \tnorm: 3.7757e+00, \tupdate norm: 3.1565e-03 \tUpdate/norm: 8.3602e-04\n",
      "conv_a1.bias,   \tnorm: 1.5173e-01, \tupdate norm: 1.0717e-03 \tUpdate/norm: 7.0631e-03\n",
      "conv_b1.weight,   \tnorm: 4.0197e+00, \tupdate norm: 2.4582e-03 \tUpdate/norm: 6.1154e-04\n",
      "conv_b1.bias,   \tnorm: 3.7637e-01, \tupdate norm: 4.7295e-04 \tUpdate/norm: 1.2566e-03\n",
      "final.weight,   \tnorm: 9.1363e-01, \tupdate norm: 1.5188e-03 \tUpdate/norm: 1.6624e-03\n",
      "final.bias,   \tnorm: 9.2885e-02, \tupdate norm: 2.6675e-04 \tUpdate/norm: 2.8718e-03\n",
      "\n",
      "..\n",
      "model saved to model_checkpoints/Model 7 (two_layer_resnet) Run 0/Model 7 (two_layer_resnet) Run 0-243\n"
     ]
    }
   ],
   "source": [
    "train(model, post_proc, optimizer, train_loader, val_loader, loss_fn, device, \n",
    "         model_name, loss_history, epochs=3, print_every=30, print_level=4, lr_decay=1)"
   ]
  },
  {
   "cell_type": "code",
   "execution_count": null,
   "metadata": {},
   "outputs": [],
   "source": [
    "# One last test + visualize results on 1 validation sequence\n",
    "val_seq = TAVR_Sequence(\"__valid\")\n",
    "test(model, val_loader, loss_fn, device)\n",
    "test(ave_model, val_loader, loss_fn, device)\n",
    "\n",
    "with torch.no_grad():\n",
    "    model.eval()\n",
    "    ave_frames = [post_proc(val_seq[0][0])]\n",
    "    for i in range(2,9,2):\n",
    "        ave_frame = model((val_seq[0][i-2][None,:], val_seq[0][i][None,:]))\n",
    "        ave_frames += [post_proc(ave_frame[0][0]),  val_seq[0][i]]\n",
    "    ave_frames += [val_seq[0][9]]\n",
    "    ave_frames_slices = []\n",
    "    for f in ave_frames:\n",
    "        ave_frames_slices += get_central_slices(f)\n",
    "    set_figsize(6,20)\n",
    "    display_grid(10, 3, ave_frames_slices)"
   ]
  },
  {
   "cell_type": "code",
   "execution_count": null,
   "metadata": {},
   "outputs": [],
   "source": [
    "optimizer.param_groups[0]['lr']"
   ]
  },
  {
   "cell_type": "code",
   "execution_count": null,
   "metadata": {},
   "outputs": [],
   "source": [
    "for p in model.parameters():\n",
    "    print(p.norm())"
   ]
  }
 ],
 "metadata": {
  "kernelspec": {
   "display_name": "Python 3",
   "language": "python",
   "name": "python3"
  },
  "language_info": {
   "codemirror_mode": {
    "name": "ipython",
    "version": 3
   },
   "file_extension": ".py",
   "mimetype": "text/x-python",
   "name": "python",
   "nbconvert_exporter": "python",
   "pygments_lexer": "ipython3",
   "version": "3.6.4"
  }
 },
 "nbformat": 4,
 "nbformat_minor": 2
}
