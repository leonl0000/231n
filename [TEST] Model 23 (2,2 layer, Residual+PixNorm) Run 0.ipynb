{
 "cells": [
  {
   "cell_type": "code",
   "execution_count": 1,
   "metadata": {},
   "outputs": [
    {
     "name": "stdout",
     "output_type": "stream",
     "text": [
      "Training directory found, 36 series\n",
      "Validation directory found, 6 series\n",
      "Testing directory found, 10 series\n"
     ]
    }
   ],
   "source": [
    "%load_ext autoreload\n",
    "%autoreload 2\n",
    "%matplotlib inline\n",
    "\n",
    "import torch\n",
    "import numpy as np\n",
    "import torch.nn as nn\n",
    "import torch.optim as optim\n",
    "import torch.nn.functional as F \n",
    "\n",
    "import utils.tavr_torch as tavr_torch\n",
    "from utils.tavr_torch import TAVR_3_Frame, TAVR_1_Frame, TAVR_Sequence, tavr_dataloader\n",
    "from utils.visualization import display_grid, z_stretch, visualize_frame, set_figsize, get_central_slices\n",
    "from utils.loss_functions import batch_l2_loss\n",
    "from utils.run_model import train, test, save,batch_invariant_l2_test, load, get_loss_history\n",
    "from Models.basic_models import average_model, two_layer_basic, post_process\n",
    "from Models.nm_layer import nm_layer_net\n",
    "\n",
    "set_figsize(20, 15)"
   ]
  },
  {
   "cell_type": "code",
   "execution_count": 2,
   "metadata": {},
   "outputs": [
    {
     "name": "stdout",
     "output_type": "stream",
     "text": [
      "using device: cpu\n"
     ]
    }
   ],
   "source": [
    "USE_GPU = True\n",
    "dtype = torch.float32 # we will be using float throughout this tutorial\n",
    "if USE_GPU and torch.cuda.is_available():\n",
    "    device = torch.device('cuda')\n",
    "else:\n",
    "    device = torch.device('cpu')\n",
    "print('using device:', device)\n",
    "\n",
    "# \"Pixl\", \"Slice\", or \"None\"\n",
    "preproc_type = \"pixel\"\n",
    "\n",
    "validation = TAVR_3_Frame(\"__valid\", preproc=preproc_type, preload=False)\n",
    "val_loader = tavr_dataloader(validation, batch_size=4, shuffle=True, num_workers=2)\n",
    "training = TAVR_3_Frame(\"__train\", preproc=preproc_type, preload=False)\n",
    "train_loader = tavr_dataloader(training,batch_size=4, shuffle=True, num_workers=2)\n",
    "\n",
    "\n",
    "ave_model = average_model()\n",
    "model = nm_layer_net([4,8],[4,1], True)\n",
    "post_proc = post_process(kind=preproc_type).to(device=device)\n",
    "loss_fn = batch_l2_loss()\n",
    "\n",
    "# CHANGE TO NAME OF JUPYTER NOTEBOOK\n",
    "model_name = \"Model 23 (2,2 layer, Residual+PixNorm) Run 0\""
   ]
  },
  {
   "cell_type": "code",
   "execution_count": 3,
   "metadata": {},
   "outputs": [],
   "source": [
    "learning_rate = 1e-3\n",
    "reg = 0\n",
    "\n",
    "optimizer = optim.Adam(model.parameters(), lr=learning_rate, weight_decay=reg)"
   ]
  },
  {
   "cell_type": "code",
   "execution_count": 18,
   "metadata": {},
   "outputs": [
    {
     "name": "stdout",
     "output_type": "stream",
     "text": [
      "model loaded from model_checkpoints/Model 23 (2,2 layer, Residual+PixNorm) Run 0/Model 23 (2,2 layer, Residual+PixNorm) Run 0-324\n"
     ]
    }
   ],
   "source": [
    "LOAD = True\n",
    "iteration_num = 324\n",
    "\n",
    "if LOAD:\n",
    "    load(model_name, iteration_num, model, optimizer, map_location='cpu')\n",
    "    loss_history = get_loss_history(model_name)\n",
    "    model.to(device=device)\n",
    "    # I don't know why these lines are necessary\n",
    "    # or even what the hell they do\n",
    "    # but they are\n",
    "    if str(device) == 'cuda':\n",
    "        for state in optimizer.state.values():\n",
    "            for k, v in state.items():\n",
    "                state[k] = v.cuda()\n",
    "else:\n",
    "    loss_history = None"
   ]
  },
  {
   "cell_type": "code",
   "execution_count": 35,
   "metadata": {},
   "outputs": [
    {
     "name": "stdout",
     "output_type": "stream",
     "text": [
      "Validation loss 37.8831 over 81 frames\n",
      "Validation loss 37.8815 over 81 frames\n"
     ]
    }
   ],
   "source": [
    "val_loader = tavr_dataloader(validation, batch_size=1, shuffle=True, num_workers=5)\n",
    "\n",
    "M23 = batch_invariant_l2_test(model, post_proc, val_loader, loss_fn, device)\n",
    "ave = batch_invariant_l2_test(ave_model, post_proc, val_loader, loss_fn, device)"
   ]
  },
  {
   "cell_type": "code",
   "execution_count": 36,
   "metadata": {},
   "outputs": [
    {
     "name": "stdout",
     "output_type": "stream",
     "text": [
      "Validation loss 44.6286 over 185 frames\n",
      "Validation loss 44.6268 over 185 frames\n"
     ]
    },
    {
     "data": {
      "text/plain": [
       "tensor(44.6268)"
      ]
     },
     "execution_count": 36,
     "metadata": {},
     "output_type": "execute_result"
    }
   ],
   "source": [
    "test = TAVR_3_Frame(\"__test\", preproc=preproc_type, preload=False)\n",
    "test_cons_loader = tavr_dataloader(test, batch_size=1, shuffle=True, num_workers=2)\n",
    "batch_invariant_l2_test(model, post_proc, test_cons_loader, loss_fn, device)\n",
    "batch_invariant_l2_test(ave_model, post_proc, test_cons_loader, loss_fn, device)"
   ]
  }
 ],
 "metadata": {
  "kernelspec": {
   "display_name": "Python 3",
   "language": "python",
   "name": "python3"
  },
  "language_info": {
   "codemirror_mode": {
    "name": "ipython",
    "version": 3
   },
   "file_extension": ".py",
   "mimetype": "text/x-python",
   "name": "python",
   "nbconvert_exporter": "python",
   "pygments_lexer": "ipython3",
   "version": "3.6.4"
  }
 },
 "nbformat": 4,
 "nbformat_minor": 2
}
