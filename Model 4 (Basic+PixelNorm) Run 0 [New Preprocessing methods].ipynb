{
 "cells": [
  {
   "cell_type": "code",
   "execution_count": null,
   "metadata": {},
   "outputs": [],
   "source": [
    "%load_ext autoreload\n",
    "%autoreload 2\n",
    "%matplotlib inline\n",
    "\n",
    "import torch\n",
    "import numpy as np\n",
    "import torch.nn as nn\n",
    "import torch.optim as optim\n",
    "import torch.nn.functional as F \n",
    "\n",
    "import utils.tavr_torch as tavr_torch\n",
    "from utils.tavr_torch import TAVR_3_Frame, TAVR_1_Frame, TAVR_Sequence, tavr_dataloader\n",
    "from utils.visualization import display_grid, z_stretch, visualize_frame, set_figsize, get_central_slices\n",
    "from utils.loss_functions import batch_l2_loss\n",
    "from utils.run_model import train, test\n",
    "from Models.basic_models import average_model, two_layer_basic\n",
    "\n",
    "set_figsize(20, 15)"
   ]
  },
  {
   "cell_type": "code",
   "execution_count": null,
   "metadata": {},
   "outputs": [],
   "source": [
    "USE_GPU = True\n",
    "dtype = torch.float32 # we will be using float throughout this tutorial\n",
    "if USE_GPU and torch.cuda.is_available():\n",
    "    device = torch.device('cuda')\n",
    "else:\n",
    "    device = torch.device('cpu')\n",
    "print('using device:', device)\n",
    "\n",
    "\n",
    "validation = TAVR_3_Frame(\"__valid\", preproc=\"pixel\")\n",
    "val_loader = tavr_dataloader(validation, batch_size=4, shuffle=True, num_workers=2)\n",
    "training = TAVR_3_Frame(\"__train\", preproc=\"pixel\")\n",
    "train_loader = tavr_dataloader(training,batch_size=8, shuffle=True, num_workers=2)\n",
    "\n",
    "\n",
    "ave_model = average_model()\n",
    "model = two_layer_basic(postprocessing=\"pixel\")\n",
    "loss_fn = batch_l2_loss()"
   ]
  },
  {
   "cell_type": "code",
   "execution_count": 3,
   "metadata": {},
   "outputs": [
    {
     "name": "stdout",
     "output_type": "stream",
     "text": [
      "conv_a1.weight True\n",
      "conv_a1.bias True\n",
      "conv_b1.weight True\n",
      "conv_b1.bias True\n",
      "final.weight True\n",
      "final.bias True\n"
     ]
    }
   ],
   "source": [
    "for name, p in model.named_parameters():\n",
    "    print(name, p.requires_grad)"
   ]
  },
  {
   "cell_type": "code",
   "execution_count": 4,
   "metadata": {},
   "outputs": [],
   "source": [
    "learning_rate = 3e-2\n",
    "momentum = 0.95\n",
    "reg = 1e-7\n",
    "\n",
    "optimizer = optim.SGD(model.parameters(), lr=learning_rate, momentum=momentum, weight_decay=reg, nesterov=True)"
   ]
  },
  {
   "cell_type": "code",
   "execution_count": null,
   "metadata": {},
   "outputs": [
    {
     "name": "stdout",
     "output_type": "stream",
     "text": [
      "\n",
      "****Epoch 0 Iteration 0, loss = 2.1082, corrected loss = 462.4782\n",
      "Validation loss 453.7078 over 81 frames\n",
      "conv_a1.weight,   \tnorm: 4.0584e+00, \tupdate norm: 1.4519e-01 \tUpdate/norm: 3.5775e-02\n",
      "conv_a1.bias,   \tnorm: 2.5633e-01, \tupdate norm: 2.5239e-02 \tUpdate/norm: 9.8462e-02\n",
      "conv_b1.weight,   \tnorm: 4.0513e+00, \tupdate norm: 1.4052e-01 \tUpdate/norm: 3.4685e-02\n",
      "conv_b1.bias,   \tnorm: 2.8699e-01, \tupdate norm: 2.6102e-02 \tUpdate/norm: 9.0948e-02\n",
      "final.weight,   \tnorm: 1.4505e+00, \tupdate norm: 1.6072e-01 \tUpdate/norm: 1.1080e-01\n",
      "final.bias,   \tnorm: 5.2234e-02, \tupdate norm: 5.1081e-02 \tUpdate/norm: 9.7793e-01\n",
      "\n",
      "Iter 0... ... ... \n",
      "Iter 10... ... ... \n",
      "Iter 20... ... ... \n",
      "Iteration 30, loss = 0.2015, corrected loss = 92.3315\n",
      "Validation loss 83.9300 over 81 frames\n",
      "conv_a1.weight,   \tnorm: 4.0296e+00, \tupdate norm: 2.1325e-02 \tUpdate/norm: 5.2921e-03\n",
      "conv_a1.bias,   \tnorm: 3.2680e-01, \tupdate norm: 2.2670e-03 \tUpdate/norm: 6.9369e-03\n",
      "conv_b1.weight,   \tnorm: 3.9761e+00, \tupdate norm: 2.2404e-02 \tUpdate/norm: 5.6346e-03\n",
      "conv_b1.bias,   \tnorm: 3.3957e-01, \tupdate norm: 2.4838e-03 \tUpdate/norm: 7.3146e-03\n",
      "final.weight,   \tnorm: 6.0688e-01, \tupdate norm: 7.9022e-02 \tUpdate/norm: 1.3021e-01\n",
      "final.bias,   \tnorm: 2.0847e-02, \tupdate norm: 1.9908e-02 \tUpdate/norm: 9.5495e-01\n",
      "\n",
      "Iter 30... ... ... \n",
      "Iter 40... ... ... \n",
      "Iter 50... ... ... \n",
      "Iteration 60, loss = 0.1227, corrected loss = 61.4649\n",
      "Validation loss 57.6238 over 81 frames\n",
      "conv_a1.weight,   \tnorm: 3.9649e+00, \tupdate norm: 2.5297e-02 \tUpdate/norm: 6.3803e-03\n",
      "conv_a1.bias,   \tnorm: 3.5179e-01, \tupdate norm: 3.9706e-03 \tUpdate/norm: 1.1287e-02\n",
      "conv_b1.weight,   \tnorm: 3.9928e+00, \tupdate norm: 2.5790e-02 \tUpdate/norm: 6.4592e-03\n",
      "conv_b1.bias,   \tnorm: 3.5848e-01, \tupdate norm: 4.0189e-03 \tUpdate/norm: 1.1211e-02\n",
      "final.weight,   \tnorm: 6.6523e-01, \tupdate norm: 4.0304e-02 \tUpdate/norm: 6.0586e-02\n",
      "final.bias,   \tnorm: 3.8043e-02, \tupdate norm: 1.9018e-02 \tUpdate/norm: 4.9991e-01\n",
      "\n",
      "Iter 60... ... ... \n",
      "Iter 70... ... ... \n",
      "Iter 80Epoch time: 25471917.38 minutes\n",
      "\n",
      "****Epoch 1 Iteration 0, loss = 0.1192, corrected loss = 55.3506\n",
      "Validation loss 52.6701 over 81 frames\n",
      "conv_a1.weight,   \tnorm: 3.9549e+00, \tupdate norm: 2.0861e-02 \tUpdate/norm: 5.2747e-03\n",
      "conv_a1.bias,   \tnorm: 3.2990e-01, \tupdate norm: 4.1288e-03 \tUpdate/norm: 1.2515e-02\n",
      "conv_b1.weight,   \tnorm: 4.0018e+00, \tupdate norm: 1.6891e-02 \tUpdate/norm: 4.2208e-03\n",
      "conv_b1.bias,   \tnorm: 3.5755e-01, \tupdate norm: 4.6512e-03 \tUpdate/norm: 1.3009e-02\n",
      "final.weight,   \tnorm: 5.8722e-01, \tupdate norm: 4.1859e-02 \tUpdate/norm: 7.1283e-02\n",
      "final.bias,   \tnorm: 1.2228e-02, \tupdate norm: 1.6832e-02 \tUpdate/norm: 1.3765e+00\n",
      "\n",
      "Iter 0... ... ... \n",
      "Iter 10... ... ... \n",
      "Iter 20... ... ... \n",
      "Iteration 30, loss = 0.0909, corrected loss = 43.2032\n",
      "Validation loss 46.2451 over 81 frames\n",
      "conv_a1.weight,   \tnorm: 3.9517e+00, \tupdate norm: 1.1153e-02 \tUpdate/norm: 2.8223e-03\n",
      "conv_a1.bias,   \tnorm: 3.0175e-01, \tupdate norm: 2.7234e-03 \tUpdate/norm: 9.0254e-03\n",
      "conv_b1.weight,   \tnorm: 3.9965e+00, \tupdate norm: 1.1555e-02 \tUpdate/norm: 2.8911e-03\n",
      "conv_b1.bias,   \tnorm: 3.5945e-01, \tupdate norm: 3.0084e-03 \tUpdate/norm: 8.3693e-03\n",
      "final.weight,   \tnorm: 5.5982e-01, \tupdate norm: 2.1440e-02 \tUpdate/norm: 3.8298e-02\n",
      "final.bias,   \tnorm: 2.1914e-03, \tupdate norm: 1.0463e-02 \tUpdate/norm: 4.7745e+00\n",
      "\n",
      "Iter 30... ... ... \n",
      "Iter 40... ... ... \n",
      "Iter 50... "
     ]
    }
   ],
   "source": [
    "train(model, optimizer, train_loader, val_loader, loss_fn, device, \n",
    "         epochs=3, print_every=30, print_level=3, lr_decay=0.8)"
   ]
  },
  {
   "cell_type": "code",
   "execution_count": null,
   "metadata": {},
   "outputs": [],
   "source": [
    "# One last test + visualize results on 1 validation sequence\n",
    "val_seq = TAVR_Sequence(\"__valid\")\n",
    "test(model, val_loader, loss_fn, device)\n",
    "test(ave_model, val_loader, loss_fn, device)\n",
    "\n",
    "with torch.no_grad():\n",
    "    model.eval()\n",
    "    ave_frames = [val_seq[0][0]]\n",
    "    for i in range(2,9,2):\n",
    "        ave_frame = model((val_seq[0][i-2][None,:], val_seq[0][i][None,:]))\n",
    "        ave_frames += [ave_frame[0][0],  val_seq[0][i]]\n",
    "    ave_frames += [val_seq[0][9]]\n",
    "    ave_frames_slices = []\n",
    "    for f in ave_frames:\n",
    "        ave_frames_slices += get_central_slices(f)\n",
    "    set_figsize(6,20)\n",
    "    display_grid(10, 3, ave_frames_slices)"
   ]
  },
  {
   "cell_type": "code",
   "execution_count": null,
   "metadata": {},
   "outputs": [],
   "source": [
    "optimizer.param_groups[0]['lr']"
   ]
  },
  {
   "cell_type": "code",
   "execution_count": null,
   "metadata": {},
   "outputs": [],
   "source": [
    "for p in model.parameters():\n",
    "    print(p.norm())"
   ]
  }
 ],
 "metadata": {
  "kernelspec": {
   "display_name": "Python 3",
   "language": "python",
   "name": "python3"
  },
  "language_info": {
   "codemirror_mode": {
    "name": "ipython",
    "version": 3
   },
   "file_extension": ".py",
   "mimetype": "text/x-python",
   "name": "python",
   "nbconvert_exporter": "python",
   "pygments_lexer": "ipython3",
   "version": "3.6.4"
  }
 },
 "nbformat": 4,
 "nbformat_minor": 2
}
