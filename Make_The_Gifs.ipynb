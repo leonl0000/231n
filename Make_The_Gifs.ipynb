{
 "cells": [
  {
   "cell_type": "code",
   "execution_count": 4,
   "metadata": {},
   "outputs": [
    {
     "name": "stdout",
     "output_type": "stream",
     "text": [
      "The autoreload extension is already loaded. To reload it, use:\n",
      "  %reload_ext autoreload\n"
     ]
    }
   ],
   "source": [
    "%load_ext autoreload\n",
    "%autoreload 2\n",
    "%matplotlib inline\n",
    "\n",
    "import torch\n",
    "import numpy as np\n",
    "import torch.nn as nn\n",
    "import torch.optim as optim\n",
    "import torch.nn.functional as F \n",
    "\n",
    "import utils.tavr_torch as tavr_torch\n",
    "from utils.tavr_torch import TAVR_Sequence, tavr_dataloader\n",
    "from utils.visualization import display_grid, z_stretch, visualize_frame, set_figsize, get_central_slices\n",
    "from utils.loss_functions import batch_l2_loss\n",
    "from utils.run_model import train, test, save, load, get_loss_history\n",
    "from Models.basic_models import average_model, two_layer_basic, post_process\n",
    "\n",
    "\n",
    "import os\n",
    "from os import listdir, mkdir\n",
    "from os.path import join, isdir\n",
    "set_figsize(20, 15)"
   ]
  },
  {
   "cell_type": "code",
   "execution_count": 3,
   "metadata": {},
   "outputs": [],
   "source": [
    "device = 'cpu'\n",
    "output_dir = 'generated_output'\n",
    "ave_model = average_model()"
   ]
  },
  {
   "cell_type": "code",
   "execution_count": 27,
   "metadata": {},
   "outputs": [],
   "source": [
    "def generate_evens(model, sequence, post_proc, save_dir):\n",
    "    saveto = join(output_dir, save_dir)\n",
    "    if not isdir(saveto):\n",
    "        mkdir(saveto)\n",
    "    with torch.no_grad():\n",
    "        model.eval()\n",
    "        generated = [post_proc(sequence[0])]\n",
    "        for i in range(2,len(sequence),2):\n",
    "            gen = model((sequence[i-2][None,:].to(device=device), sequence[i][None,:].to(device=device)))\n",
    "            generated += [post_proc(gen),  post_proc(sequence[i].to(device=device))]\n",
    "        for i, f in enumerate(generated):\n",
    "            name = join(saveto, '%d.npy'%i)\n",
    "            np.save(name, f)"
   ]
  },
  {
   "cell_type": "code",
   "execution_count": 35,
   "metadata": {},
   "outputs": [],
   "source": [
    "def generate_between(model, sequence, post_proc, save_dir):\n",
    "    saveto = join(output_dir, save_dir)\n",
    "    if not isdir(saveto):\n",
    "        mkdir(saveto)\n",
    "    with torch.no_grad():\n",
    "        model.eval()\n",
    "        generated = [post_proc(sequence[0])]\n",
    "        for i in range(1,len(sequence)):\n",
    "            gen = model((sequence[i-1][None,:].to(device=device), sequence[i][None,:].to(device=device)))\n",
    "            generated += [post_proc(torch.squeeze(gen)),  post_proc(sequence[i].to(device=device))]\n",
    "        for i, f in enumerate(generated):\n",
    "            name = join(saveto, '%d.npy'%i)\n",
    "            np.save(name, f)"
   ]
  },
  {
   "cell_type": "code",
   "execution_count": 7,
   "metadata": {},
   "outputs": [],
   "source": [
    "preproc_type = \"pixel\"\n",
    "post_proc = post_process(kind=preproc_type).to(device=device)\n",
    "val_seq = TAVR_Sequence(\"__valid\", preproc=preproc_type)"
   ]
  },
  {
   "cell_type": "code",
   "execution_count": 28,
   "metadata": {},
   "outputs": [],
   "source": [
    "generate_evens(ave_model, val_seq[1], post_proc, \"ave_evens\")"
   ]
  },
  {
   "cell_type": "code",
   "execution_count": 17,
   "metadata": {},
   "outputs": [
    {
     "name": "stdout",
     "output_type": "stream",
     "text": [
      "model loaded from model_checkpoints/Model 24 (Parallel Residual) Run 0/Model 24 (Parallel Residual) Run 0-646\n"
     ]
    }
   ],
   "source": [
    "from utils.run_model import load_model\n",
    "from Models.nm_layer import nm_layer_net, Parallel_Residual\n",
    "model = Parallel_Residual(2, [4,8],[4,1])\n",
    "load_model(\"Model 24 (Parallel Residual) Run 0\", 646, model)"
   ]
  },
  {
   "cell_type": "code",
   "execution_count": 31,
   "metadata": {},
   "outputs": [],
   "source": [
    "generate_evens(model, val_seq[1], post_proc, \"m24_evens\")"
   ]
  },
  {
   "cell_type": "code",
   "execution_count": 36,
   "metadata": {},
   "outputs": [],
   "source": [
    "generate_between(ave_model, val_seq[1], post_proc, \"ave_between\")"
   ]
  },
  {
   "cell_type": "code",
   "execution_count": 37,
   "metadata": {},
   "outputs": [],
   "source": [
    "generate_between(model, val_seq[1], post_proc, \"m24_between\")"
   ]
  }
 ],
 "metadata": {
  "kernelspec": {
   "display_name": "Python 3",
   "language": "python",
   "name": "python3"
  },
  "language_info": {
   "codemirror_mode": {
    "name": "ipython",
    "version": 3
   },
   "file_extension": ".py",
   "mimetype": "text/x-python",
   "name": "python",
   "nbconvert_exporter": "python",
   "pygments_lexer": "ipython3",
   "version": "3.6.4"
  }
 },
 "nbformat": 4,
 "nbformat_minor": 2
}
