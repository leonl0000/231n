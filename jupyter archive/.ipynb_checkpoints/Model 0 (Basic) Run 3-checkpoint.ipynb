{
 "cells": [
  {
   "cell_type": "code",
   "execution_count": 1,
   "metadata": {},
   "outputs": [
    {
     "name": "stdout",
     "output_type": "stream",
     "text": [
      "Training directory found, 36 series\n",
      "Validation directory found, 6 series\n",
      "Testing directory found, 10 series\n"
     ]
    }
   ],
   "source": [
    "%load_ext autoreload\n",
    "%autoreload 2\n",
    "%matplotlib inline\n",
    "\n",
    "import torch\n",
    "import numpy as np\n",
    "import torch.nn as nn\n",
    "import torch.optim as optim\n",
    "import torch.nn.functional as F \n",
    "\n",
    "import utils.tavr_torch as tavr_torch\n",
    "from utils.tavr_torch import TAVR_3_Frame, TAVR_1_Frame, TAVR_Sequence, tavr_dataloader\n",
    "from utils.visualization import display_grid, z_stretch, visualize_frame, set_figsize, get_central_slices\n",
    "from utils.loss_functions import batch_l2_loss\n",
    "from utils.run_model import train, test\n",
    "from Models.basic_models import average_model, two_layer_basic\n",
    "\n",
    "\n",
    "set_figsize(20, 15)"
   ]
  },
  {
   "cell_type": "code",
   "execution_count": 2,
   "metadata": {},
   "outputs": [
    {
     "name": "stdout",
     "output_type": "stream",
     "text": [
      "using device: cpu\n"
     ]
    }
   ],
   "source": [
    "USE_GPU = True\n",
    "dtype = torch.float32 # we will be using float throughout this tutorial\n",
    "if USE_GPU and torch.cuda.is_available():\n",
    "    device = torch.device('cuda')\n",
    "else:\n",
    "    device = torch.device('cpu')\n",
    "print('using device:', device)\n",
    "\n",
    "validation = TAVR_3_Frame(\"__valid\")\n",
    "val_loader = tavr_dataloader(validation, batch_size=16, shuffle=True, num_workers=2)\n",
    "training = TAVR_3_Frame(\"__train\")\n",
    "train_loader = tavr_dataloader(training, batch_size=8, shuffle=True, num_workers=2)\n",
    "\n",
    "ave_model = average_model()\n",
    "model = two_layer_basic()\n",
    "loss_fn = batch_l2_loss()"
   ]
  },
  {
   "cell_type": "code",
   "execution_count": null,
   "metadata": {},
   "outputs": [],
   "source": [
    "learning_rate = 3e-2\n",
    "momentum = 0.95\n",
    "reg = 1e-7\n",
    "\n",
    "optimizer = optim.SGD(model.parameters(), lr=learning_rate, momentum=momentum, weight_decay=reg, nesterov=True)"
   ]
  },
  {
   "cell_type": "code",
   "execution_count": null,
   "metadata": {},
   "outputs": [
    {
     "name": "stdout",
     "output_type": "stream",
     "text": [
      "\n",
      "Epoch 0 Iteration 0, loss = 0.4197\n",
      "Validation loss 0.3248 over 81 frames\n",
      "conv_a1.weight,   \tnorm: 3.8063e+00, \tgrad norm: 1.6329e+00 \tUpdate/norm: 4.2900e-03\n",
      "conv_a1.bias,   \tnorm: 3.7547e-01, \tgrad norm: 3.5656e-04 \tUpdate/norm: 9.4964e-06\n",
      "conv_b1.weight,   \tnorm: 4.4007e+00, \tgrad norm: 1.3982e+00 \tUpdate/norm: 3.1772e-03\n",
      "conv_b1.bias,   \tnorm: 3.0632e-01, \tgrad norm: 2.9989e-04 \tUpdate/norm: 9.7900e-06\n",
      "final.weight,   \tnorm: 1.7222e+00, \tgrad norm: 1.0150e+00 \tUpdate/norm: 5.8940e-03\n",
      "final.bias,   \tnorm: 2.7895e-02, \tgrad norm: 3.7620e-04 \tUpdate/norm: 1.3486e-04\n",
      "\n",
      "Iter 0... ... ... \n",
      "Iter 10... ... ... \n",
      "Iteration 20, loss = 0.2627\n",
      "Validation loss 0.2516 over 81 frames\n",
      "conv_a1.weight,   \tnorm: 3.8023e+00, \tgrad norm: 8.4128e-02 \tUpdate/norm: 1.8645e-04\n",
      "conv_a1.bias,   \tnorm: 3.7555e-01, \tgrad norm: 1.2088e-04 \tUpdate/norm: 2.7124e-06\n",
      "conv_b1.weight,   \tnorm: 4.3962e+00, \tgrad norm: 6.9303e-02 \tUpdate/norm: 1.3284e-04\n",
      "conv_b1.bias,   \tnorm: 3.0635e-01, \tgrad norm: 8.7576e-05 \tUpdate/norm: 2.4090e-06\n",
      "final.weight,   \tnorm: 1.6778e+00, \tgrad norm: 6.5736e-02 \tUpdate/norm: 3.3018e-04\n",
      "final.bias,   \tnorm: 2.8118e-02, \tgrad norm: 1.6904e-04 \tUpdate/norm: 5.0660e-05\n",
      "\n",
      "Iter 20... ... ... \n",
      "Iter 30... ... ... \n",
      "Iteration 40, loss = 0.2398\n",
      "Validation loss 0.2432 over 81 frames\n",
      "conv_a1.weight,   \tnorm: 3.7995e+00, \tgrad norm: 2.1726e-02 \tUpdate/norm: 4.0606e-05\n",
      "conv_a1.bias,   \tnorm: 3.7567e-01, \tgrad norm: 9.6643e-05 \tUpdate/norm: 1.8269e-06\n",
      "conv_b1.weight,   \tnorm: 4.3919e+00, \tgrad norm: 1.6717e-02 \tUpdate/norm: 2.7030e-05\n",
      "conv_b1.bias,   \tnorm: 3.0641e-01, \tgrad norm: 7.3653e-05 \tUpdate/norm: 1.7070e-06\n",
      "final.weight,   \tnorm: 1.6503e+00, \tgrad norm: 2.3073e-02 \tUpdate/norm: 9.9284e-05\n",
      "final.bias,   \tnorm: 2.8473e-02, \tgrad norm: 1.3921e-04 \tUpdate/norm: 3.4719e-05\n",
      "\n",
      "Iter 40... ... ... \n",
      "Iter 50."
     ]
    }
   ],
   "source": [
    "train(model, optimizer, train_loader, val_loader, loss_fn, device, \n",
    "         epochs=3, print_every=20, print_level=3, lr_decay=0.8)"
   ]
  },
  {
   "cell_type": "code",
   "execution_count": null,
   "metadata": {},
   "outputs": [],
   "source": [
    "# One last test + visualize results on 1 validation sequence\n",
    "val_seq = TAVR_Sequence(\"__valid\")\n",
    "test(model, val_loader, loss_fn, device)\n",
    "test(ave_model, val_loader, loss_fn, device)\n",
    "\n",
    "with torch.no_grad():\n",
    "    model.eval()\n",
    "    ave_frames = [val_seq[0][0]]\n",
    "    for i in range(2,9,2):\n",
    "        ave_frame = model((val_seq[0][i-2][None,:], val_seq[0][i][None,:]))\n",
    "        ave_frames += [ave_frame[0][0],  val_seq[0][i]]\n",
    "    ave_frames += [val_seq[0][9]]\n",
    "    ave_frames_slices = []\n",
    "    for f in ave_frames:\n",
    "        ave_frames_slices += get_central_slices(f)\n",
    "    set_figsize(6,20)\n",
    "    display_grid(10, 3, ave_frames_slices)"
   ]
  },
  {
   "cell_type": "code",
   "execution_count": null,
   "metadata": {},
   "outputs": [],
   "source": [
    "optimizer.param_groups[0]['lr']"
   ]
  },
  {
   "cell_type": "code",
   "execution_count": null,
   "metadata": {},
   "outputs": [],
   "source": [
    "for param in model.parameters():\n",
    "    print(param.size(), param.norm(), )"
   ]
  }
 ],
 "metadata": {
  "kernelspec": {
   "display_name": "Python 3",
   "language": "python",
   "name": "python3"
  },
  "language_info": {
   "codemirror_mode": {
    "name": "ipython",
    "version": 3
   },
   "file_extension": ".py",
   "mimetype": "text/x-python",
   "name": "python",
   "nbconvert_exporter": "python",
   "pygments_lexer": "ipython3",
   "version": "3.6.4"
  }
 },
 "nbformat": 4,
 "nbformat_minor": 2
}
