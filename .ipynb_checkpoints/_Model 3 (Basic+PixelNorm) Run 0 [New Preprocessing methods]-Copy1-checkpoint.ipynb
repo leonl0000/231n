{
 "cells": [
  {
   "cell_type": "code",
   "execution_count": 1,
   "metadata": {},
   "outputs": [
    {
     "name": "stdout",
     "output_type": "stream",
     "text": [
      "Training directory found, 36 series\n",
      "Validation directory found, 6 series\n",
      "Testing directory found, 10 series\n"
     ]
    }
   ],
   "source": [
    "%load_ext autoreload\n",
    "%autoreload 2\n",
    "%matplotlib inline\n",
    "\n",
    "import torch\n",
    "import numpy as np\n",
    "import torch.nn as nn\n",
    "import torch.optim as optim\n",
    "import torch.nn.functional as F \n",
    "\n",
    "import utils.tavr_torch as tavr_torch\n",
    "from utils.tavr_torch import TAVR_3_Frame, TAVR_1_Frame, TAVR_Sequence, tavr_dataloader\n",
    "from utils.visualization import display_grid, z_stretch, visualize_frame, set_figsize, get_central_slices\n",
    "from utils.loss_functions import batch_l2_loss\n",
    "from utils.run_model import train, test\n",
    "from Models.basic_models import average_model, two_layer_basic, post_processing\n",
    "\n",
    "set_figsize(20, 15)"
   ]
  },
  {
   "cell_type": "code",
   "execution_count": 2,
   "metadata": {},
   "outputs": [
    {
     "name": "stdout",
     "output_type": "stream",
     "text": [
      "using device: cuda\n"
     ]
    }
   ],
   "source": [
    "USE_GPU = True\n",
    "dtype = torch.float32 # we will be using float throughout this tutorial\n",
    "if USE_GPU and torch.cuda.is_available():\n",
    "    device = torch.device('cuda')\n",
    "else:\n",
    "    device = torch.device('cpu')\n",
    "print('using device:', device)\n",
    "\n",
    "# \"Pixl\", \"Slice\", or \"None\"\n",
    "preproc_type = \"pixel\"\n",
    "\n",
    "validation = TAVR_3_Frame(\"__valid\", preproc=preproc_type)\n",
    "val_loader = tavr_dataloader(validation, batch_size=4, shuffle=True, num_workers=2)\n",
    "training = TAVR_3_Frame(\"__train\", preproc=preproc_type)\n",
    "train_loader = tavr_dataloader(training,batch_size=8, shuffle=True, num_workers=2)\n",
    "\n",
    "\n",
    "ave_model = average_model()\n",
    "model = two_layer_basic()\n",
    "post_proc = post_processing(kind=preproc_type)\n",
    "loss_fn = batch_l2_loss()"
   ]
  },
  {
   "cell_type": "code",
   "execution_count": 3,
   "metadata": {},
   "outputs": [],
   "source": [
    "model = nn.DataParallel(model)\n",
    "model.post_proc = nn.DataParallel(model.module.post_proc)"
   ]
  },
  {
   "cell_type": "code",
   "execution_count": 4,
   "metadata": {},
   "outputs": [],
   "source": [
    "learning_rate = 3e-3\n",
    "momentum = 0.95\n",
    "reg = 1e-7\n",
    "\n",
    "optimizer = optim.SGD(model.parameters(), lr=learning_rate, momentum=momentum, weight_decay=reg, nesterov=True)"
   ]
  },
  {
   "cell_type": "code",
   "execution_count": null,
   "metadata": {},
   "outputs": [
    {
     "name": "stdout",
     "output_type": "stream",
     "text": [
      "\n",
      "****Epoch 0 Iteration 0, loss = 0.7957, corrected loss = 327.9937\n",
      "Validation loss 317.6578 over 81 frames\n",
      "module.conv_a1.weight,   \tnorm: 3.9886e+00, \tupdate norm: 1.0960e-02 \tUpdate/norm: 2.7479e-03\n",
      "module.conv_a1.bias,   \tnorm: 2.5315e-01, \tupdate norm: 2.0937e-03 \tUpdate/norm: 8.2706e-03\n",
      "module.conv_b1.weight,   \tnorm: 3.8006e+00, \tupdate norm: 1.5122e-02 \tUpdate/norm: 3.9790e-03\n",
      "module.conv_b1.bias,   \tnorm: 2.8972e-01, \tupdate norm: 2.2678e-03 \tUpdate/norm: 7.8274e-03\n",
      "module.final.weight,   \tnorm: 1.3601e+00, \tupdate norm: 1.3380e-02 \tUpdate/norm: 9.8370e-03\n",
      "module.final.bias,   \tnorm: 3.2779e-02, \tupdate norm: 6.9711e-04 \tUpdate/norm: 2.1267e-02\n",
      "\n",
      "Iter 0... ... ... \n",
      "Iter 10... ... ... \n",
      "Iter 20."
     ]
    }
   ],
   "source": [
    "train(model, optimizer, train_loader, val_loader, loss_fn, device, \n",
    "         epochs=3, print_every=30, print_level=3, lr_decay=1)"
   ]
  },
  {
   "cell_type": "code",
   "execution_count": null,
   "metadata": {},
   "outputs": [],
   "source": [
    "# One last test + visualize results on 1 validation sequence\n",
    "val_seq = TAVR_Sequence(\"__valid\")\n",
    "test(model, val_loader, loss_fn, device)\n",
    "test(ave_model, val_loader, loss_fn, device)\n",
    "\n",
    "with torch.no_grad():\n",
    "    model.eval()\n",
    "    ave_frames = [val_seq[0][0]]\n",
    "    for i in range(2,9,2):\n",
    "        ave_frame = model((val_seq[0][i-2][None,:], val_seq[0][i][None,:]))\n",
    "        ave_frames += [ave_frame[0][0],  val_seq[0][i]]\n",
    "    ave_frames += [val_seq[0][9]]\n",
    "    ave_frames_slices = []\n",
    "    for f in ave_frames:\n",
    "        ave_frames_slices += get_central_slices(f)\n",
    "    set_figsize(6,20)\n",
    "    display_grid(10, 3, ave_frames_slices)"
   ]
  },
  {
   "cell_type": "code",
   "execution_count": null,
   "metadata": {},
   "outputs": [],
   "source": [
    "optimizer.param_groups[0]['lr']"
   ]
  },
  {
   "cell_type": "code",
   "execution_count": null,
   "metadata": {},
   "outputs": [],
   "source": [
    "for p in model.parameters():\n",
    "    print(p.norm())"
   ]
  }
 ],
 "metadata": {
  "kernelspec": {
   "display_name": "Python 3",
   "language": "python",
   "name": "python3"
  },
  "language_info": {
   "codemirror_mode": {
    "name": "ipython",
    "version": 3
   },
   "file_extension": ".py",
   "mimetype": "text/x-python",
   "name": "python",
   "nbconvert_exporter": "python",
   "pygments_lexer": "ipython3",
   "version": "3.6.4"
  }
 },
 "nbformat": 4,
 "nbformat_minor": 2
}
