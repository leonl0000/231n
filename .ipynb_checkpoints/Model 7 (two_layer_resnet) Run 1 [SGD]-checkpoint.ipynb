{
 "cells": [
  {
   "cell_type": "code",
   "execution_count": 2,
   "metadata": {},
   "outputs": [
    {
     "name": "stdout",
     "output_type": "stream",
     "text": [
      "The autoreload extension is already loaded. To reload it, use:\n",
      "  %reload_ext autoreload\n"
     ]
    }
   ],
   "source": [
    "%load_ext autoreload\n",
    "%autoreload 2\n",
    "%matplotlib inline\n",
    "\n",
    "import torch\n",
    "import numpy as np\n",
    "import torch.nn as nn\n",
    "import torch.optim as optim\n",
    "import torch.nn.functional as F \n",
    "\n",
    "import utils.tavr_torch as tavr_torch\n",
    "from utils.tavr_torch import TAVR_3_Frame, TAVR_1_Frame, TAVR_Sequence, tavr_dataloader\n",
    "from utils.visualization import display_grid, z_stretch, visualize_frame, set_figsize, get_central_slices\n",
    "from utils.loss_functions import batch_l2_loss\n",
    "from utils.run_model import train, test, save, load, get_loss_history\n",
    "from Models.basic_models import average_model, post_process\n",
    "from Models.two_layer_resnet import two_layer_resnet\n",
    "\n",
    "set_figsize(20, 15)"
   ]
  },
  {
   "cell_type": "code",
   "execution_count": 3,
   "metadata": {},
   "outputs": [
    {
     "name": "stdout",
     "output_type": "stream",
     "text": [
      "using device: cpu\n"
     ]
    }
   ],
   "source": [
    "USE_GPU = True\n",
    "dtype = torch.float32 # we will be using float throughout this tutorial\n",
    "if USE_GPU and torch.cuda.is_available():\n",
    "    device = torch.device('cuda')\n",
    "else:\n",
    "    device = torch.device('cpu')\n",
    "print('using device:', device)\n",
    "\n",
    "# \"Pixl\", \"Slice\", or \"None\"\n",
    "preproc_type = \"pixel\"\n",
    "\n",
    "validation = TAVR_3_Frame(\"__valid\", preproc=preproc_type)\n",
    "val_loader = tavr_dataloader(validation, batch_size=4, shuffle=True, num_workers=2)\n",
    "training = TAVR_3_Frame(\"__train\", preproc=preproc_type)\n",
    "train_loader = tavr_dataloader(training,batch_size=8, shuffle=True, num_workers=2)\n",
    "\n",
    "\n",
    "ave_model = average_model()\n",
    "model = two_layer_resnet()\n",
    "post_proc = post_process(kind=preproc_type).to(device=device)\n",
    "loss_fn = batch_l2_loss()\n",
    "\n",
    "# CHANGE TO NAME OF JUPYTER NOTEBOOK\n",
    "model_name = \"Model 7 (two_layer_resnet) Run 0\""
   ]
  },
  {
   "cell_type": "code",
   "execution_count": 4,
   "metadata": {},
   "outputs": [],
   "source": [
    "learning_rate = 3e-3\n",
    "reg = 1e-7\n",
    "\n",
    "optimizer = optim.Adam(model.parameters(), lr=learning_rate)"
   ]
  },
  {
   "cell_type": "code",
   "execution_count": 5,
   "metadata": {},
   "outputs": [],
   "source": [
    "# Run cell to load model\n",
    "LOAD = False\n",
    "iteration_num = -1\n",
    "\n",
    "if LOAD:\n",
    "    \n",
    "    load(model_name, iteration_num, model, optimizer)\n",
    "    loss_history = get_loss_history(model_name)\n",
    "    model.to(device=device)\n",
    "else:\n",
    "    loss_history = None"
   ]
  },
  {
   "cell_type": "code",
   "execution_count": null,
   "metadata": {},
   "outputs": [
    {
     "name": "stdout",
     "output_type": "stream",
     "text": [
      "\n",
      "Iteration 0, loss = 1.4427, corrected loss = 671.3307\n",
      "Validation loss 562.7200 over 81 frames\n",
      "model saved to model_checkpoints/Model 7 (two_layer_resnet) Run 0/Model 7 (two_layer_resnet) Run 0-0\n",
      "conv_a1.weight,   \tnorm: 3.8784e+00, \tupdate norm: 4.4088e-02 \tUpdate/norm: 1.1368e-02\n",
      "conv_a1.bias,   \tnorm: 1.9853e-01, \tupdate norm: 8.4852e-03 \tUpdate/norm: 4.2740e-02\n",
      "conv_b1.weight,   \tnorm: 4.2831e+00, \tupdate norm: 4.4091e-02 \tUpdate/norm: 1.0294e-02\n",
      "conv_b1.bias,   \tnorm: 2.5258e-01, \tupdate norm: 8.4852e-03 \tUpdate/norm: 3.3594e-02\n",
      "final.weight,   \tnorm: 1.3948e+00, \tupdate norm: 1.2000e-02 \tUpdate/norm: 8.6035e-03\n",
      "final.bias,   \tnorm: 1.4754e-01, \tupdate norm: 3.0000e-03 \tUpdate/norm: 2.0334e-02\n",
      "\n",
      "... 1.0319... 0.6162... 0.6140\n",
      "Iter 10... 0.5726... 0.5383... 0.4951\n",
      "Iter 20... 0.4515... 0.4118... 0.4205\n",
      "Iteration 30, loss = 0.3845, corrected loss = 178.9088\n",
      "Validation loss 161.6488 over 81 frames\n",
      "model saved to model_checkpoints/Model 7 (two_layer_resnet) Run 0/Model 7 (two_layer_resnet) Run 0-30\n",
      "conv_a1.weight,   \tnorm: 3.8287e+00, \tupdate norm: 1.3047e-02 \tUpdate/norm: 3.4077e-03\n",
      "conv_a1.bias,   \tnorm: 1.7924e-01, \tupdate norm: 1.8902e-03 \tUpdate/norm: 1.0546e-02\n",
      "conv_b1.weight,   \tnorm: 4.2145e+00, \tupdate norm: 1.4388e-02 \tUpdate/norm: 3.4140e-03\n",
      "conv_b1.bias,   \tnorm: 3.1583e-01, \tupdate norm: 3.0357e-03 \tUpdate/norm: 9.6118e-03\n",
      "final.weight,   \tnorm: 1.2701e+00, \tupdate norm: 5.5284e-03 \tUpdate/norm: 4.3529e-03\n",
      "final.bias,   \tnorm: 1.6495e-01, \tupdate norm: 8.7604e-05 \tUpdate/norm: 5.3111e-04\n",
      "\n",
      "... 0.3583... 0.3154... 0.2793\n",
      "Iter 40... 0.2570... 0.2561... 0.2203\n",
      "Iter 50... 0.2154... 0.2078.."
     ]
    }
   ],
   "source": [
    "train(model, post_proc, optimizer, train_loader, val_loader, loss_fn, device, \n",
    "         model_name, loss_history, epochs=3, print_every=30, print_level=4, lr_decay=1)"
   ]
  },
  {
   "cell_type": "code",
   "execution_count": null,
   "metadata": {},
   "outputs": [],
   "source": [
    "# One last test + visualize results on 1 validation sequence\n",
    "val_seq = TAVR_Sequence(\"__valid\")\n",
    "test(model, val_loader, loss_fn, device)\n",
    "test(ave_model, val_loader, loss_fn, device)\n",
    "\n",
    "with torch.no_grad():\n",
    "    model.eval()\n",
    "    ave_frames = [val_seq[0][0]]\n",
    "    for i in range(2,9,2):\n",
    "        ave_frame = model((val_seq[0][i-2][None,:], val_seq[0][i][None,:]))\n",
    "        ave_frames += [ave_frame[0][0],  val_seq[0][i]]\n",
    "    ave_frames += [val_seq[0][9]]\n",
    "    ave_frames_slices = []\n",
    "    for f in ave_frames:\n",
    "        ave_frames_slices += get_central_slices(f)\n",
    "    set_figsize(6,20)\n",
    "    display_grid(10, 3, ave_frames_slices)"
   ]
  },
  {
   "cell_type": "code",
   "execution_count": null,
   "metadata": {},
   "outputs": [],
   "source": [
    "optimizer.param_groups[0]['lr']"
   ]
  },
  {
   "cell_type": "code",
   "execution_count": null,
   "metadata": {},
   "outputs": [],
   "source": [
    "for p in model.parameters():\n",
    "    print(p.norm())"
   ]
  }
 ],
 "metadata": {
  "kernelspec": {
   "display_name": "Python 3",
   "language": "python",
   "name": "python3"
  },
  "language_info": {
   "codemirror_mode": {
    "name": "ipython",
    "version": 3
   },
   "file_extension": ".py",
   "mimetype": "text/x-python",
   "name": "python",
   "nbconvert_exporter": "python",
   "pygments_lexer": "ipython3",
   "version": "3.6.4"
  }
 },
 "nbformat": 4,
 "nbformat_minor": 2
}
