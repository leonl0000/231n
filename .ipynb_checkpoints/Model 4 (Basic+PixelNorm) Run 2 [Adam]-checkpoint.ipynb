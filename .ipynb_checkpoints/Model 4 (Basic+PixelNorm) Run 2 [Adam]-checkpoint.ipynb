{
 "cells": [
  {
   "cell_type": "code",
   "execution_count": 1,
   "metadata": {},
   "outputs": [
    {
     "name": "stdout",
     "output_type": "stream",
     "text": [
      "Training directory found, 36 series\n",
      "Validation directory found, 6 series\n",
      "Testing directory found, 10 series\n"
     ]
    }
   ],
   "source": [
    "%load_ext autoreload\n",
    "%autoreload 2\n",
    "%matplotlib inline\n",
    "\n",
    "import torch\n",
    "import numpy as np\n",
    "import torch.nn as nn\n",
    "import torch.optim as optim\n",
    "import torch.nn.functional as F \n",
    "\n",
    "import utils.tavr_torch as tavr_torch\n",
    "from utils.tavr_torch import TAVR_3_Frame, TAVR_1_Frame, TAVR_Sequence, tavr_dataloader\n",
    "from utils.visualization import display_grid, z_stretch, visualize_frame, set_figsize, get_central_slices\n",
    "from utils.loss_functions import batch_l2_loss\n",
    "from utils.run_model import train, test, save, load, get_loss_history\n",
    "from Models.basic_models import average_model, two_layer_basic, post_process\n",
    "\n",
    "set_figsize(20, 15)"
   ]
  },
  {
   "cell_type": "code",
   "execution_count": 3,
   "metadata": {},
   "outputs": [
    {
     "name": "stdout",
     "output_type": "stream",
     "text": [
      "using device: cpu\n"
     ]
    }
   ],
   "source": [
    "USE_GPU = True\n",
    "dtype = torch.float32 # we will be using float throughout this tutorial\n",
    "if USE_GPU and torch.cuda.is_available():\n",
    "    device = torch.device('cuda')\n",
    "else:\n",
    "    device = torch.device('cpu')\n",
    "print('using device:', device)\n",
    "\n",
    "# \"Pixl\", \"Slice\", or \"None\"\n",
    "preproc_type = \"pixel\"\n",
    "\n",
    "validation = TAVR_3_Frame(\"__valid\", preproc=preproc_type)\n",
    "val_loader = tavr_dataloader(validation, batch_size=4, shuffle=True, num_workers=2)\n",
    "training = TAVR_3_Frame(\"__train\", preproc=preproc_type)\n",
    "train_loader = tavr_dataloader(training,batch_size=8, shuffle=True, num_workers=2)\n",
    "\n",
    "\n",
    "ave_model = average_model()\n",
    "model = two_layer_basic()\n",
    "post_proc = post_process(kind=preproc_type).to(device=device)\n",
    "loss_fn = batch_l2_loss()\n",
    "\n",
    "# CHANGE TO NAME OF JUPYTER NOTEBOOK\n",
    "model_name = \"Model 4 (Basic+PixelNorm) Run 1\""
   ]
  },
  {
   "cell_type": "code",
   "execution_count": 4,
   "metadata": {},
   "outputs": [],
   "source": [
    "learning_rate = 3e-3\n",
    "momentum = 0.90\n",
    "reg = 1e-7\n",
    "\n",
    "optimizer = optim.SGD(model.parameters(), lr=learning_rate, momentum=momentum, weight_decay=reg, nesterov=True)"
   ]
  },
  {
   "cell_type": "code",
   "execution_count": 5,
   "metadata": {},
   "outputs": [],
   "source": [
    "# Run cell to load model\n",
    "LOAD = False\n",
    "iteration_num = -1\n",
    "\n",
    "if LOAD:\n",
    "    \n",
    "    load(model_name, iteration_num, model, optimizer)\n",
    "    loss_history = get_loss_history(model_name)\n",
    "    model.to(device=device)\n",
    "else:\n",
    "    loss_history = None"
   ]
  },
  {
   "cell_type": "code",
   "execution_count": null,
   "metadata": {},
   "outputs": [
    {
     "name": "stdout",
     "output_type": "stream",
     "text": [
      "\n",
      "Iteration 0, loss = 0.7301, corrected loss = 339.7383\n",
      "Validation loss 280.8854 over 81 frames\n",
      "model saved to model_checkpoints/Model 4 (Basic+PixelNorm) Run 1/Model 4 (Basic+PixelNorm) Run 1-0\n",
      "conv_a1.weight,   \tnorm: 4.0617e+00, \tupdate norm: 5.2445e-03 \tUpdate/norm: 1.2912e-03\n",
      "conv_a1.bias,   \tnorm: 1.8938e-01, \tupdate norm: 7.5146e-04 \tUpdate/norm: 3.9679e-03\n",
      "conv_b1.weight,   \tnorm: 4.0591e+00, \tupdate norm: 2.1891e-02 \tUpdate/norm: 5.3931e-03\n",
      "conv_b1.bias,   \tnorm: 3.0069e-01, \tupdate norm: 3.0298e-03 \tUpdate/norm: 1.0076e-02\n",
      "final.weight,   \tnorm: 1.4858e+00, \tupdate norm: 1.2758e-02 \tUpdate/norm: 8.5869e-03\n",
      "final.bias,   \tnorm: 1.2451e-01, \tupdate norm: 3.3924e-03 \tUpdate/norm: 2.7246e-02\n",
      "\n",
      "... ... ... \n",
      "Iter 10... ... ... \n",
      "Iter 20... ... ... \n",
      "Iteration 30, loss = 0.2422, corrected loss = 112.6892\n",
      "Validation loss 102.5012 over 81 frames\n",
      "model saved to model_checkpoints/Model 4 (Basic+PixelNorm) Run 1/Model 4 (Basic+PixelNorm) Run 1-30\n",
      "conv_a1.weight,   \tnorm: 4.0559e+00, \tupdate norm: 2.3914e-03 \tUpdate/norm: 5.8961e-04\n",
      "conv_a1.bias,   \tnorm: 1.9539e-01, \tupdate norm: 1.4418e-03 \tUpdate/norm: 7.3791e-03\n",
      "conv_b1.weight,   \tnorm: 4.0357e+00, \tupdate norm: 7.1957e-03 \tUpdate/norm: 1.7830e-03\n",
      "conv_b1.bias,   \tnorm: 2.5977e-01, \tupdate norm: 2.5154e-03 \tUpdate/norm: 9.6829e-03\n",
      "final.weight,   \tnorm: 1.3809e+00, \tupdate norm: 5.3641e-03 \tUpdate/norm: 3.8845e-03\n",
      "final.bias,   \tnorm: 6.3516e-02, \tupdate norm: 2.9874e-03 \tUpdate/norm: 4.7034e-02\n",
      "\n",
      "... ... ... \n",
      "Iter 40... ... ... \n",
      "Iter 50... ... ... \n",
      "Iteration 60, loss = 0.1865, corrected loss = 86.7882\n",
      "Validation loss 79.8758 over 81 frames\n",
      "model saved to model_checkpoints/Model 4 (Basic+PixelNorm) Run 1/Model 4 (Basic+PixelNorm) Run 1-60\n",
      "conv_a1.weight,   \tnorm: 4.0542e+00, \tupdate norm: 1.9923e-03 \tUpdate/norm: 4.9141e-04\n",
      "conv_a1.bias,   \tnorm: 2.0564e-01, \tupdate norm: 3.9883e-04 \tUpdate/norm: 1.9394e-03\n",
      "conv_b1.weight,   \tnorm: 4.0182e+00, \tupdate norm: 4.9566e-03 \tUpdate/norm: 1.2336e-03\n",
      "conv_b1.bias,   \tnorm: 2.4234e-01, \tupdate norm: 7.3033e-04 \tUpdate/norm: 3.0136e-03\n",
      "final.weight,   \tnorm: 1.3160e+00, \tupdate norm: 3.1128e-03 \tUpdate/norm: 2.3654e-03\n",
      "final.bias,   \tnorm: 2.0579e-02, \tupdate norm: 1.5231e-04 \tUpdate/norm: 7.4014e-03\n",
      "\n",
      "... ... ... \n",
      "Iter 70... "
     ]
    }
   ],
   "source": [
    "train(model, post_proc, optimizer, train_loader, val_loader, loss_fn, device, \n",
    "         model_name, loss_history, epochs=3, print_every=30, print_level=3, lr_decay=1)"
   ]
  },
  {
   "cell_type": "code",
   "execution_count": null,
   "metadata": {},
   "outputs": [],
   "source": [
    "# One last test + visualize results on 1 validation sequence\n",
    "val_seq = TAVR_Sequence(\"__valid\")\n",
    "test(model, val_loader, loss_fn, device)\n",
    "test(ave_model, val_loader, loss_fn, device)\n",
    "\n",
    "with torch.no_grad():\n",
    "    model.eval()\n",
    "    ave_frames = [val_seq[0][0]]\n",
    "    for i in range(2,9,2):\n",
    "        ave_frame = model((val_seq[0][i-2][None,:], val_seq[0][i][None,:]))\n",
    "        ave_frames += [ave_frame[0][0],  val_seq[0][i]]\n",
    "    ave_frames += [val_seq[0][9]]\n",
    "    ave_frames_slices = []\n",
    "    for f in ave_frames:\n",
    "        ave_frames_slices += get_central_slices(f)\n",
    "    set_figsize(6,20)\n",
    "    display_grid(10, 3, ave_frames_slices)"
   ]
  },
  {
   "cell_type": "code",
   "execution_count": null,
   "metadata": {},
   "outputs": [],
   "source": [
    "optimizer.param_groups[0]['lr']"
   ]
  },
  {
   "cell_type": "code",
   "execution_count": null,
   "metadata": {},
   "outputs": [],
   "source": [
    "for p in model.parameters():\n",
    "    print(p.norm())"
   ]
  }
 ],
 "metadata": {
  "kernelspec": {
   "display_name": "Python 3",
   "language": "python",
   "name": "python3"
  },
  "language_info": {
   "codemirror_mode": {
    "name": "ipython",
    "version": 3
   },
   "file_extension": ".py",
   "mimetype": "text/x-python",
   "name": "python",
   "nbconvert_exporter": "python",
   "pygments_lexer": "ipython3",
   "version": "3.6.4"
  }
 },
 "nbformat": 4,
 "nbformat_minor": 2
}
