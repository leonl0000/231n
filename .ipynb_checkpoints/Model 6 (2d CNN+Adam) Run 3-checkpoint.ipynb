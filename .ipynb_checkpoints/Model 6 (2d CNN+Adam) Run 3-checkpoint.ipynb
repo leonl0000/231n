{
 "cells": [
  {
   "cell_type": "code",
   "execution_count": 22,
   "metadata": {},
   "outputs": [
    {
     "name": "stdout",
     "output_type": "stream",
     "text": [
      "Training directory found, 36 series\n",
      "Validation directory found, 6 series\n",
      "Testing directory found, 10 series\n",
      "The autoreload extension is already loaded. To reload it, use:\n",
      "  %reload_ext autoreload\n"
     ]
    }
   ],
   "source": [
    "%load_ext autoreload\n",
    "%autoreload 2\n",
    "%matplotlib inline\n",
    "\n",
    "import torch\n",
    "import numpy as np\n",
    "import torch.nn as nn\n",
    "import torch.optim as optim\n",
    "import torch.nn.functional as F \n",
    "\n",
    "import utils.tavr_torch as tavr_torch\n",
    "from utils.tavr_torch import TAVR_3_Frame, TAVR_1_Frame, TAVR_Sequence, tavr_dataloader\n",
    "from utils.visualization import display_grid, z_stretch, visualize_frame, set_figsize, get_central_slices\n",
    "from utils.loss_functions import batch_l2_loss\n",
    "from utils.run_model import train, test, save, load, get_loss_history\n",
    "from Models.basic_models import average_model, two_layer_basic, post_process, two_d_basic\n",
    "\n",
    "set_figsize(20, 15)"
   ]
  },
  {
   "cell_type": "code",
   "execution_count": 23,
   "metadata": {},
   "outputs": [
    {
     "name": "stdout",
     "output_type": "stream",
     "text": [
      "using device: cpu\n"
     ]
    }
   ],
   "source": [
    "USE_GPU = False\n",
    "dtype = torch.float32 # we will be using float throughout this tutorial\n",
    "if USE_GPU and torch.cuda.is_available():\n",
    "    device = torch.device('cuda')\n",
    "else:\n",
    "    device = torch.device('cpu')\n",
    "print('using device:', device)\n",
    "\n",
    "# \"Pixl\", \"Slice\", or \"None\"\n",
    "preproc_type = \"None\"\n",
    "\n",
    "validation = TAVR_3_Frame(\"__valid\", preproc=preproc_type)\n",
    "val_loader = tavr_dataloader(validation, batch_size=4, shuffle=True, num_workers=2)\n",
    "training = TAVR_3_Frame(\"__train\", preproc=preproc_type)\n",
    "train_loader = tavr_dataloader(training,batch_size=8, shuffle=True, num_workers=2)\n",
    "\n",
    "\n",
    "ave_model = average_model()\n",
    "model = two_d_basic()\n",
    "post_proc = post_process(kind=preproc_type).to(device=device)\n",
    "loss_fn = batch_l2_loss()\n",
    "\n",
    "# CHANGE TO NAME OF JUPYTER NOTEBOOK\n",
    "model_name = \"Model 6 (2d CNN+PixelNorm-Adam) Run 1\""
   ]
  },
  {
   "cell_type": "code",
   "execution_count": 24,
   "metadata": {},
   "outputs": [],
   "source": [
    "learning_rate = 3e-3\n",
    "momentum = 0.90\n",
    "reg = 1e-7\n",
    "\n",
    "optimizer = optim.Adam(model.parameters())"
   ]
  },
  {
   "cell_type": "code",
   "execution_count": 25,
   "metadata": {},
   "outputs": [],
   "source": [
    "# Run cell to load model\n",
    "LOAD = False\n",
    "iteration_num = -1\n",
    "\n",
    "if LOAD:\n",
    "    \n",
    "    load(model_name, iteration_num, model, optimizer)\n",
    "    loss_history = get_loss_history(model_name)\n",
    "    model.to(device=device)\n",
    "else:\n",
    "    loss_history = None"
   ]
  },
  {
   "cell_type": "code",
   "execution_count": 26,
   "metadata": {},
   "outputs": [
    {
     "name": "stdout",
     "output_type": "stream",
     "text": [
      "\n",
      "Iteration 0, loss = 1011.3591, corrected loss = 1011.3591\n",
      "Validation loss 906.7189 over 81 frames\n",
      "model saved to model_checkpoints/Model 6 (2d CNN+PixelNorm-Adam) Run 1/Model 6 (2d CNN+PixelNorm-Adam) Run 1-0\n",
      "conv_a1.weight,   \tnorm: 3.6404e+00, \tupdate norm: 8.2823e-03 \tUpdate/norm: 2.2751e-03\n",
      "conv_a1.bias,   \tnorm: 4.2150e-01, \tupdate norm: 2.5485e-03 \tUpdate/norm: 6.0463e-03\n",
      "conv_b1.weight,   \tnorm: 3.9919e+00, \tupdate norm: 8.4816e-03 \tUpdate/norm: 2.1247e-03\n",
      "conv_b1.bias,   \tnorm: 6.6335e-01, \tupdate norm: 2.8259e-03 \tUpdate/norm: 4.2600e-03\n",
      "final.weight,   \tnorm: 1.4660e+00, \tupdate norm: 3.9429e-03 \tUpdate/norm: 2.6895e-03\n",
      "final.bias,   \tnorm: 2.4617e-01, \tupdate norm: 1.0000e-03 \tUpdate/norm: 4.0622e-03\n",
      "\n",
      "... 865.8657... 790.7716... 659.8918\n",
      "Iter 10... 530.9134... 401.9995... 298.2964\n",
      "Iter 20... 172.8860... 132.9659... 153.1390\n",
      "Iteration 30, loss = 162.3917, corrected loss = 162.3917\n",
      "Validation loss 177.6417 over 81 frames\n",
      "model saved to model_checkpoints/Model 6 (2d CNN+PixelNorm-Adam) Run 1/Model 6 (2d CNN+PixelNorm-Adam) Run 1-30\n",
      "conv_a1.weight,   \tnorm: 3.6353e+00, \tupdate norm: 4.9391e-03 \tUpdate/norm: 1.3586e-03\n",
      "conv_a1.bias,   \tnorm: 4.6169e-01, \tupdate norm: 1.7058e-03 \tUpdate/norm: 3.6946e-03\n",
      "conv_b1.weight,   \tnorm: 4.0179e+00, \tupdate norm: 3.9494e-03 \tUpdate/norm: 9.8296e-04\n",
      "conv_b1.bias,   \tnorm: 6.7384e-01, \tupdate norm: 1.3241e-03 \tUpdate/norm: 1.9651e-03\n",
      "final.weight,   \tnorm: 1.4734e+00, \tupdate norm: 2.0924e-03 \tUpdate/norm: 1.4200e-03\n",
      "final.bias,   \tnorm: 2.7432e-01, \tupdate norm: 3.7262e-04 \tUpdate/norm: 1.3584e-03\n",
      "\n",
      "... 193.2018... 188.9179... 176.5364\n",
      "Iter 40... 149.2520... 145.6768... 132.0280\n",
      "Iter 50... 136.3601... 136.9424... 131.7708\n",
      "Iteration 60, loss = 163.7764, corrected loss = 163.7764\n",
      "Validation loss 144.3285 over 81 frames\n",
      "model saved to model_checkpoints/Model 6 (2d CNN+PixelNorm-Adam) Run 1/Model 6 (2d CNN+PixelNorm-Adam) Run 1-60\n",
      "conv_a1.weight,   \tnorm: 3.6062e+00, \tupdate norm: 6.8816e-03 \tUpdate/norm: 1.9083e-03\n",
      "conv_a1.bias,   \tnorm: 4.6603e-01, \tupdate norm: 2.1109e-03 \tUpdate/norm: 4.5295e-03\n",
      "conv_b1.weight,   \tnorm: 4.0345e+00, \tupdate norm: 3.4424e-03 \tUpdate/norm: 8.5324e-04\n",
      "conv_b1.bias,   \tnorm: 6.7955e-01, \tupdate norm: 1.1713e-03 \tUpdate/norm: 1.7237e-03\n",
      "final.weight,   \tnorm: 1.4699e+00, \tupdate norm: 2.2854e-03 \tUpdate/norm: 1.5548e-03\n",
      "final.bias,   \tnorm: 2.7265e-01, \tupdate norm: 2.0757e-04 \tUpdate/norm: 7.6131e-04\n",
      "\n",
      "... 158.0074... 146.7090... 146.7314\n",
      "Iter 70... 147.6985... 136.5796... 131.3406\n",
      "Iter 80\n",
      "model saved to model_checkpoints/Model 6 (2d CNN+PixelNorm-Adam) Run 1/Model 6 (2d CNN+PixelNorm-Adam) Run 1-81\n",
      "(Epoch time: 30.67 minutes. Total epochs: 1)\n",
      "... 120.1756... 137.1786... 142.0734\n",
      "Iteration 90, loss = 136.5225, corrected loss = 136.5225\n",
      "Validation loss 141.5105 over 81 frames\n",
      "model saved to model_checkpoints/Model 6 (2d CNN+PixelNorm-Adam) Run 1/Model 6 (2d CNN+PixelNorm-Adam) Run 1-90\n",
      "conv_a1.weight,   \tnorm: 3.5717e+00, \tupdate norm: 7.4140e-03 \tUpdate/norm: 2.0758e-03\n",
      "conv_a1.bias,   \tnorm: 4.8553e-01, \tupdate norm: 2.2787e-03 \tUpdate/norm: 4.6932e-03\n",
      "conv_b1.weight,   \tnorm: 4.0594e+00, \tupdate norm: 2.7674e-03 \tUpdate/norm: 6.8174e-04\n",
      "conv_b1.bias,   \tnorm: 6.8677e-01, \tupdate norm: 1.5281e-04 \tUpdate/norm: 2.2250e-04\n",
      "final.weight,   \tnorm: 1.4790e+00, \tupdate norm: 2.4691e-03 \tUpdate/norm: 1.6695e-03\n",
      "final.bias,   \tnorm: 2.7354e-01, \tupdate norm: 2.0355e-05 \tUpdate/norm: 7.4414e-05\n",
      "\n",
      "... 128.7366.... 150.0369... 141.6018... 139.9113\n",
      "Iter 110... 130.8281... 121.4455... 130.7828\n",
      "Iteration 120, loss = 141.7880, corrected loss = 141.7880\n",
      "Validation loss 138.1330 over 81 frames\n",
      "model saved to model_checkpoints/Model 6 (2d CNN+PixelNorm-Adam) Run 1/Model 6 (2d CNN+PixelNorm-Adam) Run 1-120\n",
      "conv_a1.weight,   \tnorm: 3.5392e+00, \tupdate norm: 6.8531e-03 \tUpdate/norm: 1.9363e-03\n",
      "conv_a1.bias,   \tnorm: 5.0744e-01, \tupdate norm: 2.4581e-03 \tUpdate/norm: 4.8441e-03\n",
      "conv_b1.weight,   \tnorm: 4.0745e+00, \tupdate norm: 1.2418e-03 \tUpdate/norm: 3.0478e-04\n",
      "conv_b1.bias,   \tnorm: 6.8230e-01, \tupdate norm: 1.4658e-04 \tUpdate/norm: 2.1483e-04\n",
      "final.weight,   \tnorm: 1.4913e+00, \tupdate norm: 2.6019e-03 \tUpdate/norm: 1.7448e-03\n",
      "final.bias,   \tnorm: 2.7392e-01, \tupdate norm: 1.5765e-05 \tUpdate/norm: 5.7554e-05\n",
      "\n",
      "... 163.3727... 131.9227... 142.6915\n",
      "Iter 130... 152.3147... 132.6240... 141.8499\n",
      "Iter 140... 125.4479... 132.1818... 119.2219\n",
      "Iteration 150, loss = 135.7392, corrected loss = 135.7392\n",
      "Validation loss 133.2366 over 81 frames\n",
      "model saved to model_checkpoints/Model 6 (2d CNN+PixelNorm-Adam) Run 1/Model 6 (2d CNN+PixelNorm-Adam) Run 1-150\n",
      "conv_a1.weight,   \tnorm: 3.5088e+00, \tupdate norm: 5.8573e-03 \tUpdate/norm: 1.6693e-03\n",
      "conv_a1.bias,   \tnorm: 5.3826e-01, \tupdate norm: 1.9618e-03 \tUpdate/norm: 3.6447e-03\n",
      "conv_b1.weight,   \tnorm: 4.0792e+00, \tupdate norm: 1.2267e-03 \tUpdate/norm: 3.0071e-04\n",
      "conv_b1.bias,   \tnorm: 6.8386e-01, \tupdate norm: 1.8440e-04 \tUpdate/norm: 2.6964e-04\n",
      "final.weight,   \tnorm: 1.5099e+00, \tupdate norm: 2.5891e-03 \tUpdate/norm: 1.7147e-03\n",
      "final.bias,   \tnorm: 2.7476e-01, \tupdate norm: 2.5690e-05 \tUpdate/norm: 9.3497e-05\n",
      "\n",
      "... 98.5643... 119.4817... 117.9355\n",
      "Iter 160.\n",
      "model saved to model_checkpoints/Model 6 (2d CNN+PixelNorm-Adam) Run 1/Model 6 (2d CNN+PixelNorm-Adam) Run 1-162\n",
      "(Epoch time: 31.11 minutes. Total epochs: 2)\n",
      ".. 124.1189... 133.4354... 112.7446\n",
      "Iter 170... 124.8595... 100.1596... 135.0896\n",
      "Iteration 180, loss = 145.6607, corrected loss = 145.6607\n",
      "Validation loss 127.9665 over 81 frames\n",
      "model saved to model_checkpoints/Model 6 (2d CNN+PixelNorm-Adam) Run 1/Model 6 (2d CNN+PixelNorm-Adam) Run 1-180\n",
      "conv_a1.weight,   \tnorm: 3.4782e+00, \tupdate norm: 6.8694e-03 \tUpdate/norm: 1.9750e-03\n",
      "conv_a1.bias,   \tnorm: 5.6680e-01, \tupdate norm: 1.8507e-03 \tUpdate/norm: 3.2652e-03\n",
      "conv_b1.weight,   \tnorm: 4.0797e+00, \tupdate norm: 2.2900e-03 \tUpdate/norm: 5.6130e-04\n",
      "conv_b1.bias,   \tnorm: 6.7569e-01, \tupdate norm: 7.3079e-04 \tUpdate/norm: 1.0816e-03\n",
      "final.weight,   \tnorm: 1.5334e+00, \tupdate norm: 2.5378e-03 \tUpdate/norm: 1.6550e-03\n",
      "final.bias,   \tnorm: 2.7534e-01, \tupdate norm: 1.8060e-05 \tUpdate/norm: 6.5593e-05\n",
      "\n",
      "... 118.7589... 118.3787... 119.9218\n",
      "Iter 190... 143.9743... 135.7136... 117.9415\n",
      "Iter 200... 99.9922... 108.4591... 102.0586\n",
      "Iteration 210, loss = 119.5856, corrected loss = 119.5856\n",
      "Validation loss 122.5864 over 81 frames\n",
      "model saved to model_checkpoints/Model 6 (2d CNN+PixelNorm-Adam) Run 1/Model 6 (2d CNN+PixelNorm-Adam) Run 1-210\n",
      "conv_a1.weight,   \tnorm: 3.4577e+00, \tupdate norm: 6.5227e-03 \tUpdate/norm: 1.8864e-03\n",
      "conv_a1.bias,   \tnorm: 5.9022e-01, \tupdate norm: 2.1916e-03 \tUpdate/norm: 3.7133e-03\n",
      "conv_b1.weight,   \tnorm: 4.0765e+00, \tupdate norm: 2.7612e-03 \tUpdate/norm: 6.7735e-04\n",
      "conv_b1.bias,   \tnorm: 6.6157e-01, \tupdate norm: 1.0478e-03 \tUpdate/norm: 1.5838e-03\n",
      "final.weight,   \tnorm: 1.5598e+00, \tupdate norm: 2.1899e-03 \tUpdate/norm: 1.4040e-03\n",
      "final.bias,   \tnorm: 2.7546e-01, \tupdate norm: 1.6391e-06 \tUpdate/norm: 5.9505e-06\n",
      "\n",
      "... 109.2982... 117.2368... 125.7550\n",
      "Iter 220... 123.6811... 114.6941... 88.1692\n",
      "Iter 230... 102.8887... 126.0124... 112.8601\n",
      "Iteration 240, loss = 111.9975, corrected loss = 111.9975\n",
      "Validation loss 116.8998 over 81 frames\n",
      "model saved to model_checkpoints/Model 6 (2d CNN+PixelNorm-Adam) Run 1/Model 6 (2d CNN+PixelNorm-Adam) Run 1-240\n",
      "conv_a1.weight,   \tnorm: 3.4364e+00, \tupdate norm: 8.9928e-03 \tUpdate/norm: 2.6169e-03\n",
      "conv_a1.bias,   \tnorm: 6.1253e-01, \tupdate norm: 3.2068e-03 \tUpdate/norm: 5.2353e-03\n",
      "conv_b1.weight,   \tnorm: 4.0726e+00, \tupdate norm: 9.7665e-04 \tUpdate/norm: 2.3981e-04\n",
      "conv_b1.bias,   \tnorm: 6.5466e-01, \tupdate norm: 1.3587e-04 \tUpdate/norm: 2.0754e-04\n",
      "final.weight,   \tnorm: 1.5905e+00, \tupdate norm: 2.9072e-03 \tUpdate/norm: 1.8278e-03\n",
      "final.bias,   \tnorm: 2.7546e-01, \tupdate norm: 1.2785e-05 \tUpdate/norm: 4.6413e-05\n",
      "\n",
      "..\n",
      "model saved to model_checkpoints/Model 6 (2d CNN+PixelNorm-Adam) Run 1/Model 6 (2d CNN+PixelNorm-Adam) Run 1-243\n"
     ]
    }
   ],
   "source": [
    "train(model, post_proc, optimizer, train_loader, val_loader, loss_fn, device, \n",
    "         model_name, loss_history, epochs=3, print_every=30, print_level=4, lr_decay=1)"
   ]
  },
  {
   "cell_type": "code",
   "execution_count": null,
   "metadata": {},
   "outputs": [],
   "source": [
    "no_post_proc = post_process(kind=\"None\").to(device=device)"
   ]
  },
  {
   "cell_type": "code",
   "execution_count": null,
   "metadata": {},
   "outputs": [],
   "source": [
    "# One last test + visualize results on 1 validation sequence\n",
    "val_seq = TAVR_Sequence(\"__valid\")\n",
    "test(ave_model, post_proc, val_loader, loss_fn, device)\n",
    "print('finished average')\n",
    "test(model, post_proc, val_loader, loss_fn, device)"
   ]
  },
  {
   "cell_type": "code",
   "execution_count": null,
   "metadata": {},
   "outputs": [],
   "source": [
    "with torch.no_grad():\n",
    "    model.eval()\n",
    "    ave_frames = [post_proc(val_seq[0][0])]\n",
    "    for i in range(2,9,2):\n",
    "        ave_frame = model((val_seq[0][i-2][None,:], val_seq[0][i][None,:]))\n",
    "        print(ave_frame.shape)\n",
    "        ave_frames += [post_proc(ave_frame[0]),  post_proc(val_seq[0][i])]\n",
    "    ave_frames += [post_proc(val_seq[0][9])]\n",
    "    ave_frames_slices = []\n",
    "    for f in ave_frames:\n",
    "        print(f.shape)\n",
    "        ave_frames_slices += get_central_slices(f)\n",
    "    set_figsize(6,20)\n",
    "    display_grid(10, 3, ave_frames_slices)"
   ]
  },
  {
   "cell_type": "code",
   "execution_count": 22,
   "metadata": {},
   "outputs": [
    {
     "name": "stdout",
     "output_type": "stream",
     "text": [
      "tensor([[ 2.6813e+09,  6.7097e+10,  1.0100e+11,  ...,  3.4032e+08,\n",
      "          3.6745e+08,  6.6007e+07],\n",
      "        [ 2.1977e+10,  1.3723e+11,  1.0480e+11,  ...,  2.4469e+08,\n",
      "          4.4533e+05,  1.0386e+06],\n",
      "        [ 4.4994e+09,  8.2882e+10,  7.1447e+10,  ...,  2.7903e+01,\n",
      "          4.9300e+05,  1.4973e+08],\n",
      "        ...,\n",
      "        [ 4.0652e+08,  5.8296e+09,  4.7927e+09,  ...,  1.6315e+11,\n",
      "          1.2084e+11,  1.9496e+11],\n",
      "        [ 5.0798e+08,  8.5010e+09,  5.7744e+09,  ...,  1.2698e+11,\n",
      "          1.1560e+11,  1.8958e+11],\n",
      "        [ 7.6339e+08,  3.0527e+09,  3.2657e+09,  ...,  7.1858e+10,\n",
      "          8.1369e+10,  8.0464e+10]])\n"
     ]
    }
   ],
   "source": [
    "print((ave_frames[0][0] - ave_frames[1][0])**2)"
   ]
  },
  {
   "cell_type": "code",
   "execution_count": null,
   "metadata": {},
   "outputs": [],
   "source": [
    "optimizer.param_groups[0]['lr']"
   ]
  },
  {
   "cell_type": "code",
   "execution_count": null,
   "metadata": {},
   "outputs": [],
   "source": [
    "for p in model.parameters():\n",
    "    print(p.norm())"
   ]
  }
 ],
 "metadata": {
  "kernelspec": {
   "display_name": "Python 3",
   "language": "python",
   "name": "python3"
  },
  "language_info": {
   "codemirror_mode": {
    "name": "ipython",
    "version": 3
   },
   "file_extension": ".py",
   "mimetype": "text/x-python",
   "name": "python",
   "nbconvert_exporter": "python",
   "pygments_lexer": "ipython3",
   "version": "3.6.4"
  }
 },
 "nbformat": 4,
 "nbformat_minor": 2
}
