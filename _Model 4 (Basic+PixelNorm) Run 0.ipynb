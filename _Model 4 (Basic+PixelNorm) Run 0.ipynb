{
 "cells": [
  {
   "cell_type": "code",
   "execution_count": 1,
   "metadata": {},
   "outputs": [
    {
     "name": "stdout",
     "output_type": "stream",
     "text": [
      "Training directory found, 36 series\n",
      "Validation directory found, 6 series\n",
      "Testing directory found, 10 series\n"
     ]
    }
   ],
   "source": [
    "%load_ext autoreload\n",
    "%autoreload 2\n",
    "%matplotlib inline\n",
    "\n",
    "import torch\n",
    "import numpy as np\n",
    "import torch.nn as nn\n",
    "import torch.optim as optim\n",
    "import torch.nn.functional as F \n",
    "\n",
    "import utils.tavr_torch as tavr_torch\n",
    "from utils.tavr_torch import TAVR_3_Frame, TAVR_1_Frame, TAVR_Sequence, tavr_dataloader\n",
    "from utils.visualization import display_grid, z_stretch, visualize_frame, set_figsize, get_central_slices\n",
    "from utils.loss_functions import batch_l2_loss\n",
    "from utils.run_model import train, test\n",
    "from Models.basic_models import average_model, two_layer_basic, post_process\n",
    "\n",
    "set_figsize(20, 15)"
   ]
  },
  {
   "cell_type": "code",
   "execution_count": 2,
   "metadata": {},
   "outputs": [
    {
     "name": "stdout",
     "output_type": "stream",
     "text": [
      "using device: cuda\n"
     ]
    }
   ],
   "source": [
    "USE_GPU = True\n",
    "dtype = torch.float32 # we will be using float throughout this tutorial\n",
    "if USE_GPU and torch.cuda.is_available():\n",
    "    device = torch.device('cuda')\n",
    "else:\n",
    "    device = torch.device('cpu')\n",
    "print('using device:', device)\n",
    "\n",
    "# \"Pixl\", \"Slice\", or \"None\"\n",
    "preproc_type = \"pixel\"\n",
    "\n",
    "validation = TAVR_3_Frame(\"__valid\", preproc=preproc_type)\n",
    "val_loader = tavr_dataloader(validation, batch_size=4, shuffle=True, num_workers=2)\n",
    "training = TAVR_3_Frame(\"__train\", preproc=preproc_type)\n",
    "train_loader = tavr_dataloader(training,batch_size=8, shuffle=True, num_workers=2)\n",
    "\n",
    "\n",
    "ave_model = average_model()\n",
    "model = two_layer_basic()\n",
    "post_proc = post_process(kind=preproc_type).to(device=device)\n",
    "loss_fn = batch_l2_loss()"
   ]
  },
  {
   "cell_type": "code",
   "execution_count": 3,
   "metadata": {},
   "outputs": [],
   "source": [
    "# If multiple GPU\n",
    "model = nn.DataParallel(model)"
   ]
  },
  {
   "cell_type": "code",
   "execution_count": null,
   "metadata": {},
   "outputs": [],
   "source": [
    "learning_rate = 3e-3\n",
    "momentum = 0.95\n",
    "reg = 1e-7\n",
    "\n",
    "optimizer = optim.SGD(model.parameters(), lr=learning_rate, momentum=momentum, weight_decay=reg, nesterov=True)"
   ]
  },
  {
   "cell_type": "code",
   "execution_count": null,
   "metadata": {},
   "outputs": [
    {
     "name": "stdout",
     "output_type": "stream",
     "text": [
      "\n",
      "****Epoch 0 Iteration 0, loss = 2.5627, corrected loss = 1143.8507\n",
      "Validation loss 1122.8934 over 81 frames\n",
      "module.conv_a1.weight,   \tnorm: 3.8570e+00, \tupdate norm: 1.5209e-02 \tUpdate/norm: 3.9431e-03\n",
      "module.conv_a1.bias,   \tnorm: 3.0593e-01, \tupdate norm: 3.0970e-03 \tUpdate/norm: 1.0123e-02\n",
      "module.conv_b1.weight,   \tnorm: 3.9936e+00, \tupdate norm: 1.0353e-02 \tUpdate/norm: 2.5923e-03\n",
      "module.conv_b1.bias,   \tnorm: 3.5212e-01, \tupdate norm: 1.6068e-03 \tUpdate/norm: 4.5631e-03\n",
      "module.final.weight,   \tnorm: 1.3503e+00, \tupdate norm: 1.6212e-02 \tUpdate/norm: 1.2007e-02\n",
      "module.final.bias,   \tnorm: 1.5182e-01, \tupdate norm: 1.0908e-03 \tUpdate/norm: 7.1846e-03\n",
      "\n",
      "Iter 0... ... ... \n",
      "Iter 10... ... ... \n",
      "Iter 20... ... ... \n",
      "Iteration 30, loss = 0.2925, corrected loss = 140.2896\n",
      "Validation loss 138.4111 over 81 frames\n",
      "module.conv_a1.weight,   \tnorm: 3.7949e+00, \tupdate norm: 1.6713e-02 \tUpdate/norm: 4.4040e-03\n",
      "module.conv_a1.bias,   \tnorm: 4.8380e-01, \tupdate norm: 5.9902e-03 \tUpdate/norm: 1.2382e-02\n",
      "module.conv_b1.weight,   \tnorm: 3.9732e+00, \tupdate norm: 1.2741e-02 \tUpdate/norm: 3.2066e-03\n",
      "module.conv_b1.bias,   \tnorm: 3.2896e-01, \tupdate norm: 2.1092e-03 \tUpdate/norm: 6.4117e-03\n",
      "module.final.weight,   \tnorm: 1.0137e+00, \tupdate norm: 1.8408e-02 \tUpdate/norm: 1.8159e-02\n",
      "module.final.bias,   \tnorm: 3.8694e-02, \tupdate norm: 3.2036e-04 \tUpdate/norm: 8.2792e-03\n",
      "\n",
      "Iter 30... ... ... \n",
      "Iter 40... ... ... \n",
      "Iter 50... ... ... \n",
      "Iteration 60, loss = 0.1966, corrected loss = 90.2941\n",
      "Validation loss 88.5525 over 81 frames\n",
      "module.conv_a1.weight,   \tnorm: 3.7873e+00, \tupdate norm: 6.6010e-03 \tUpdate/norm: 1.7429e-03\n",
      "module.conv_a1.bias,   \tnorm: 5.7588e-01, \tupdate norm: 1.5359e-03 \tUpdate/norm: 2.6670e-03\n",
      "module.conv_b1.weight,   \tnorm: 3.9473e+00, \tupdate norm: 8.2465e-03 \tUpdate/norm: 2.0891e-03\n",
      "module.conv_b1.bias,   \tnorm: 3.2965e-01, \tupdate norm: 7.6457e-04 \tUpdate/norm: 2.3193e-03\n",
      "module.final.weight,   \tnorm: 8.0236e-01, \tupdate norm: 6.4907e-03 \tUpdate/norm: 8.0895e-03\n",
      "module.final.bias,   \tnorm: 2.5267e-02, \tupdate norm: 6.7888e-04 \tUpdate/norm: 2.6868e-02\n",
      "\n",
      "Iter 60... ... ... "
     ]
    }
   ],
   "source": [
    "train(model, post_proc, optimizer, train_loader, val_loader, loss_fn, device, \n",
    "         epochs=3, print_every=30, print_level=3, lr_decay=1)"
   ]
  },
  {
   "cell_type": "code",
   "execution_count": null,
   "metadata": {},
   "outputs": [],
   "source": [
    "# One last test + visualize results on 1 validation sequence\n",
    "val_seq = TAVR_Sequence(\"__valid\")\n",
    "test(model, val_loader, loss_fn, device)\n",
    "test(ave_model, val_loader, loss_fn, device)\n",
    "\n",
    "with torch.no_grad():\n",
    "    model.eval()\n",
    "    ave_frames = [val_seq[0][0]]\n",
    "    for i in range(2,9,2):\n",
    "        ave_frame = model((val_seq[0][i-2][None,:], val_seq[0][i][None,:]))\n",
    "        ave_frames += [ave_frame[0][0],  val_seq[0][i]]\n",
    "    ave_frames += [val_seq[0][9]]\n",
    "    ave_frames_slices = []\n",
    "    for f in ave_frames:\n",
    "        ave_frames_slices += get_central_slices(f)\n",
    "    set_figsize(6,20)\n",
    "    display_grid(10, 3, ave_frames_slices)"
   ]
  }
 ],
 "metadata": {
  "kernelspec": {
   "display_name": "Python 3",
   "language": "python",
   "name": "python3"
  },
  "language_info": {
   "codemirror_mode": {
    "name": "ipython",
    "version": 3
   },
   "file_extension": ".py",
   "mimetype": "text/x-python",
   "name": "python",
   "nbconvert_exporter": "python",
   "pygments_lexer": "ipython3",
   "version": "3.6.4"
  }
 },
 "nbformat": 4,
 "nbformat_minor": 2
}
