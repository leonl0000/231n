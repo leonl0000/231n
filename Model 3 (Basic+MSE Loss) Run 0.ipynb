{
 "cells": [
  {
   "cell_type": "code",
   "execution_count": 1,
   "metadata": {},
   "outputs": [
    {
     "name": "stdout",
     "output_type": "stream",
     "text": [
      "Training directory found, 36 series\n",
      "Validation directory found, 6 series\n",
      "Testing directory found, 10 series\n"
     ]
    }
   ],
   "source": [
    "%load_ext autoreload\n",
    "%autoreload 2\n",
    "%matplotlib inline\n",
    "\n",
    "import torch\n",
    "import numpy as np\n",
    "import torch.nn as nn\n",
    "import torch.optim as optim\n",
    "import torch.nn.functional as F \n",
    "\n",
    "import utils.tavr_torch as tavr_torch\n",
    "from utils.tavr_torch import TAVR_3_Frame, TAVR_1_Frame, TAVR_Sequence, tavr_dataloader\n",
    "from utils.visualization import display_grid, z_stretch, visualize_frame, set_figsize, get_central_slices\n",
    "from utils.loss_functions import batch_l2_loss, batch_mse_loss\n",
    "from utils.run_model import train, test\n",
    "from Models.basic_models import average_model, two_layer_basic\n",
    "\n",
    "\n",
    "set_figsize(20, 15)"
   ]
  },
  {
   "cell_type": "code",
   "execution_count": 2,
   "metadata": {},
   "outputs": [
    {
     "name": "stdout",
     "output_type": "stream",
     "text": [
      "using device: cpu\n"
     ]
    }
   ],
   "source": [
    "USE_GPU = True\n",
    "dtype = torch.float32 # we will be using float throughout this tutorial\n",
    "if USE_GPU and torch.cuda.is_available():\n",
    "    device = torch.device('cuda')\n",
    "else:\n",
    "    device = torch.device('cpu')\n",
    "print('using device:', device)\n",
    "\n",
    "validation = TAVR_3_Frame(\"__valid\")\n",
    "val_loader = tavr_dataloader(validation, batch_size=4, shuffle=True, num_workers=2)\n",
    "training = TAVR_3_Frame(\"__train\")\n",
    "train_loader = tavr_dataloader(training, batch_size=8, shuffle=True, num_workers=2)\n",
    "\n",
    "ave_model = average_model()\n",
    "model = two_layer_basic()\n",
    "loss_fn = batch_mse_loss()"
   ]
  },
  {
   "cell_type": "code",
   "execution_count": null,
   "metadata": {},
   "outputs": [],
   "source": [
    "learning_rate = 1e-9\n",
    "momentum = 0.90\n",
    "reg = 1e-7\n",
    "\n",
    "optimizer = optim.SGD(model.parameters(), lr=learning_rate, momentum=momentum, weight_decay=reg, nesterov=True)"
   ]
  },
  {
   "cell_type": "code",
   "execution_count": null,
   "metadata": {},
   "outputs": [
    {
     "name": "stdout",
     "output_type": "stream",
     "text": [
      "\n",
      "****Epoch 0 Iteration 0, loss = 2867194.0000\n",
      "Validation loss 1855314.7500 over 81 frames\n",
      "conv_a1.weight,   \tnorm: 4.0547e+00, \tupdate norm: 2.0319e-02 \tUpdate/norm: 5.0113e-03\n",
      "conv_a1.bias,   \tnorm: 3.5418e-01, \tupdate norm: 3.6393e-06 \tUpdate/norm: 1.0275e-05\n",
      "conv_b1.weight,   \tnorm: 4.4036e+00, \tupdate norm: 2.2452e-02 \tUpdate/norm: 5.0986e-03\n",
      "conv_b1.bias,   \tnorm: 3.1259e-01, \tupdate norm: 3.9947e-06 \tUpdate/norm: 1.2779e-05\n",
      "final.weight,   \tnorm: 1.3378e+00, \tupdate norm: 2.3918e-02 \tUpdate/norm: 1.7878e-02\n",
      "final.bias,   \tnorm: 1.7159e-01, \tupdate norm: 5.7071e-06 \tUpdate/norm: 3.3260e-05\n",
      "\n",
      "Iter 0... ... ... \n",
      "Iter 10... ... ... \n",
      "Iter 20... ... ... \n",
      "Iteration 30, loss = 30161.8516\n",
      "Validation loss 24936.6250 over 81 frames\n",
      "conv_a1.weight,   \tnorm: 4.0332e+00, \tupdate norm: 2.9643e-03 \tUpdate/norm: 7.3497e-04\n",
      "conv_a1.bias,   \tnorm: 3.5416e-01, \tupdate norm: 6.0115e-07 \tUpdate/norm: 1.6974e-06\n",
      "conv_b1.weight,   \tnorm: 4.4112e+00, \tupdate norm: 2.9510e-03 \tUpdate/norm: 6.6898e-04\n",
      "conv_b1.bias,   \tnorm: 3.1259e-01, \tupdate norm: 6.2041e-07 \tUpdate/norm: 1.9847e-06\n",
      "final.weight,   \tnorm: 1.2765e+00, \tupdate norm: 3.5253e-03 \tUpdate/norm: 2.7616e-03\n",
      "final.bias,   \tnorm: 1.7154e-01, \tupdate norm: 1.0729e-06 \tUpdate/norm: 6.2543e-06\n",
      "\n",
      "Iter 30... ... ... \n",
      "Iter 40... ... ... \n",
      "Iter 50... ... ... \n",
      "Iteration 60, loss = 19164.6445\n",
      "Validation loss 20277.0527 over 81 frames\n",
      "conv_a1.weight,   \tnorm: 4.0312e+00, \tupdate norm: 4.6271e-04 \tUpdate/norm: 1.1478e-04\n",
      "conv_a1.bias,   \tnorm: 3.5416e-01, \tupdate norm: 1.2818e-07 \tUpdate/norm: 3.6194e-07\n",
      "conv_b1.weight,   \tnorm: 4.4105e+00, \tupdate norm: 4.1474e-04 \tUpdate/norm: 9.4033e-05\n",
      "conv_b1.bias,   \tnorm: 3.1259e-01, \tupdate norm: 1.2226e-07 \tUpdate/norm: 3.9110e-07\n",
      "final.weight,   \tnorm: 1.2661e+00, \tupdate norm: 6.5322e-04 \tUpdate/norm: 5.1591e-04\n",
      "final.bias,   \tnorm: 1.7154e-01, \tupdate norm: 2.0862e-07 \tUpdate/norm: 1.2162e-06\n",
      "\n",
      "Iter 60... ... ... \n",
      "Iter 70... ... ... \n",
      "Iter 80\n",
      "****Epoch 1 Iteration 0, loss = 18699.1074\n",
      "Validation loss 19108.0801 over 81 frames\n",
      "conv_a1.weight,   \tnorm: 4.0306e+00, \tupdate norm: 2.5468e-04 \tUpdate/norm: 6.3186e-05\n",
      "conv_a1.bias,   \tnorm: 3.5416e-01, \tupdate norm: 7.0682e-08 \tUpdate/norm: 1.9958e-07\n",
      "conv_b1.weight,   \tnorm: 4.4099e+00, \tupdate norm: 3.0395e-04 \tUpdate/norm: 6.8925e-05\n",
      "conv_b1.bias,   \tnorm: 3.1259e-01, \tupdate norm: 6.0986e-08 \tUpdate/norm: 1.9509e-07\n",
      "final.weight,   \tnorm: 1.2619e+00, \tupdate norm: 5.0336e-04 \tUpdate/norm: 3.9887e-04\n",
      "final.bias,   \tnorm: 1.7153e-01, \tupdate norm: 1.1921e-07 \tUpdate/norm: 6.9496e-07\n",
      "\n",
      "Iter 0... ... ... \n",
      "Iter 10... ... ... \n",
      "Iter 20... ... ... \n",
      "Iteration 30, loss = 20077.1797\n",
      "Validation loss 17889.6543 over 81 frames\n",
      "conv_a1.weight,   \tnorm: 4.0299e+00, \tupdate norm: 2.2583e-04 \tUpdate/norm: 5.6038e-05\n",
      "conv_a1.bias,   \tnorm: 3.5416e-01, \tupdate norm: 6.4953e-08 \tUpdate/norm: 1.8340e-07\n",
      "conv_b1.weight,   \tnorm: 4.4091e+00, \tupdate norm: 2.6689e-04 \tUpdate/norm: 6.0533e-05\n",
      "conv_b1.bias,   \tnorm: 3.1260e-01, \tupdate norm: 5.5755e-08 \tUpdate/norm: 1.7836e-07\n",
      "final.weight,   \tnorm: 1.2569e+00, \tupdate norm: 4.4743e-04 \tUpdate/norm: 3.5598e-04\n",
      "final.bias,   \tnorm: 1.7153e-01, \tupdate norm: 1.0431e-07 \tUpdate/norm: 6.0810e-07\n",
      "\n",
      "Iter 30"
     ]
    }
   ],
   "source": [
    "train(model, optimizer, train_loader, val_loader, loss_fn, device, \n",
    "         epochs=3, print_every=30, print_level=3, lr_decay=0.8)"
   ]
  },
  {
   "cell_type": "code",
   "execution_count": null,
   "metadata": {
    "scrolled": true
   },
   "outputs": [],
   "source": [
    "# One last test + visualize results on 1 validation sequence\n",
    "val_seq = TAVR_Sequence(\"__valid\")\n",
    "test(model, val_loader, loss_fn, device)\n",
    "test(ave_model, val_loader, loss_fn, device)\n",
    "\n",
    "with torch.no_grad():\n",
    "    model.eval()\n",
    "    ave_frames = [val_seq[0][0]]\n",
    "    for i in range(2,9,2):\n",
    "        ave_frame = model((val_seq[0][i-2][None,:], val_seq[0][i][None,:]))\n",
    "        ave_frames += [ave_frame[0][0],  val_seq[0][i]]\n",
    "    ave_frames += [val_seq[0][9]]\n",
    "    ave_frames_slices = []\n",
    "    for f in ave_frames:\n",
    "        ave_frames_slices += get_central_slices(f)\n",
    "    set_figsize(6,20)\n",
    "    display_grid(10, 3, ave_frames_slices)"
   ]
  },
  {
   "cell_type": "code",
   "execution_count": null,
   "metadata": {},
   "outputs": [],
   "source": [
    "l2 = batch_l2_loss()\n",
    "test(ave_model, val_loader, l2, device)"
   ]
  }
 ],
 "metadata": {
  "kernelspec": {
   "display_name": "Python 3",
   "language": "python",
   "name": "python3"
  },
  "language_info": {
   "codemirror_mode": {
    "name": "ipython",
    "version": 3
   },
   "file_extension": ".py",
   "mimetype": "text/x-python",
   "name": "python",
   "nbconvert_exporter": "python",
   "pygments_lexer": "ipython3",
   "version": "3.6.4"
  }
 },
 "nbformat": 4,
 "nbformat_minor": 2
}
