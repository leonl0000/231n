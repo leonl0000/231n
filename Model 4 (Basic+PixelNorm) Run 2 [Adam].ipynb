{
 "cells": [
  {
   "cell_type": "code",
   "execution_count": 1,
   "metadata": {},
   "outputs": [
    {
     "name": "stdout",
     "output_type": "stream",
     "text": [
      "Training directory found, 36 series\n",
      "Validation directory found, 6 series\n",
      "Testing directory found, 10 series\n"
     ]
    }
   ],
   "source": [
    "%load_ext autoreload\n",
    "%autoreload 2\n",
    "%matplotlib inline\n",
    "\n",
    "import torch\n",
    "import numpy as np\n",
    "import torch.nn as nn\n",
    "import torch.optim as optim\n",
    "import torch.nn.functional as F \n",
    "\n",
    "import utils.tavr_torch as tavr_torch\n",
    "from utils.tavr_torch import TAVR_3_Frame, TAVR_1_Frame, TAVR_Sequence, tavr_dataloader\n",
    "from utils.visualization import display_grid, z_stretch, visualize_frame, set_figsize, get_central_slices\n",
    "from utils.loss_functions import batch_l2_loss\n",
    "from utils.run_model import train, test, save, load, get_loss_history\n",
    "from Models.basic_models import average_model, two_layer_basic, post_process\n",
    "\n",
    "set_figsize(20, 15)"
   ]
  },
  {
   "cell_type": "code",
   "execution_count": 2,
   "metadata": {},
   "outputs": [
    {
     "name": "stdout",
     "output_type": "stream",
     "text": [
      "using device: cpu\n"
     ]
    }
   ],
   "source": [
    "USE_GPU = True\n",
    "dtype = torch.float32 # we will be using float throughout this tutorial\n",
    "if USE_GPU and torch.cuda.is_available():\n",
    "    device = torch.device('cuda')\n",
    "else:\n",
    "    device = torch.device('cpu')\n",
    "print('using device:', device)\n",
    "\n",
    "# \"Pixl\", \"Slice\", or \"None\"\n",
    "preproc_type = \"pixel\"\n",
    "\n",
    "validation = TAVR_3_Frame(\"__valid\", preproc=preproc_type)\n",
    "val_loader = tavr_dataloader(validation, batch_size=4, shuffle=True, num_workers=2)\n",
    "training = TAVR_3_Frame(\"__train\", preproc=preproc_type)\n",
    "train_loader = tavr_dataloader(training,batch_size=8, shuffle=True, num_workers=2)\n",
    "\n",
    "\n",
    "ave_model = average_model()\n",
    "model = two_layer_basic()\n",
    "post_proc = post_process(kind=preproc_type).to(device=device)\n",
    "loss_fn = batch_l2_loss()\n",
    "\n",
    "# CHANGE TO NAME OF JUPYTER NOTEBOOK\n",
    "model_name = \"Model 4 (Basic+PixelNorm) Run 2 [Adam]\""
   ]
  },
  {
   "cell_type": "code",
   "execution_count": 3,
   "metadata": {},
   "outputs": [],
   "source": [
    "learning_rate = 3e-3\n",
    "reg = 1e-7\n",
    "\n",
    "optimizer = optim.Adam(model.parameters(), lr=learning_rate)"
   ]
  },
  {
   "cell_type": "code",
   "execution_count": 4,
   "metadata": {},
   "outputs": [],
   "source": [
    "# Run cell to load model\n",
    "LOAD = False\n",
    "iteration_num = -1\n",
    "\n",
    "if LOAD:\n",
    "    \n",
    "    load(model_name, iteration_num, model, optimizer)\n",
    "    loss_history = get_loss_history(model_name)\n",
    "    model.to(device=device)\n",
    "else:\n",
    "    loss_history = None"
   ]
  },
  {
   "cell_type": "code",
   "execution_count": null,
   "metadata": {},
   "outputs": [
    {
     "name": "stdout",
     "output_type": "stream",
     "text": [
      "\n",
      "Iteration 0, loss = 2.6577, corrected loss = 1236.7100\n",
      "Validation loss 1089.3878 over 81 frames\n",
      "model saved to model_checkpoints/Model 4 (Basic+PixelNorm) Run 2 [Adam]/Model 4 (Basic+PixelNorm) Run 2 [Adam]-0\n",
      "conv_a1.weight,   \tnorm: 3.9195e+00, \tupdate norm: 4.4091e-02 \tUpdate/norm: 1.1249e-02\n",
      "conv_a1.bias,   \tnorm: 3.9129e-01, \tupdate norm: 8.4852e-03 \tUpdate/norm: 2.1685e-02\n",
      "conv_b1.weight,   \tnorm: 3.7989e+00, \tupdate norm: 4.4091e-02 \tUpdate/norm: 1.1606e-02\n",
      "conv_b1.bias,   \tnorm: 3.0376e-01, \tupdate norm: 8.4852e-03 \tUpdate/norm: 2.7934e-02\n",
      "final.weight,   \tnorm: 1.2531e+00, \tupdate norm: 1.2000e-02 \tUpdate/norm: 9.5766e-03\n",
      "final.bias,   \tnorm: 9.3852e-02, \tupdate norm: 3.0000e-03 \tUpdate/norm: 3.1965e-02\n",
      "\n",
      ".."
     ]
    }
   ],
   "source": [
    "train(model, post_proc, optimizer, train_loader, val_loader, loss_fn, device, \n",
    "         model_name, loss_history, epochs=3, print_every=30, print_level=4, lr_decay=1)"
   ]
  },
  {
   "cell_type": "code",
   "execution_count": null,
   "metadata": {},
   "outputs": [],
   "source": [
    "# One last test + visualize results on 1 validation sequence\n",
    "val_seq = TAVR_Sequence(\"__valid\")\n",
    "test(model, val_loader, loss_fn, device)\n",
    "test(ave_model, val_loader, loss_fn, device)\n",
    "\n",
    "with torch.no_grad():\n",
    "    model.eval()\n",
    "    ave_frames = [val_seq[0][0]]\n",
    "    for i in range(2,9,2):\n",
    "        ave_frame = model((val_seq[0][i-2][None,:], val_seq[0][i][None,:]))\n",
    "        ave_frames += [ave_frame[0][0],  val_seq[0][i]]\n",
    "    ave_frames += [val_seq[0][9]]\n",
    "    ave_frames_slices = []\n",
    "    for f in ave_frames:\n",
    "        ave_frames_slices += get_central_slices(f)\n",
    "    set_figsize(6,20)\n",
    "    display_grid(10, 3, ave_frames_slices)"
   ]
  },
  {
   "cell_type": "code",
   "execution_count": null,
   "metadata": {},
   "outputs": [],
   "source": [
    "optimizer.param_groups[0]['lr']"
   ]
  },
  {
   "cell_type": "code",
   "execution_count": null,
   "metadata": {},
   "outputs": [],
   "source": [
    "for p in model.parameters():\n",
    "    print(p.norm())"
   ]
  }
 ],
 "metadata": {
  "kernelspec": {
   "display_name": "Python 3",
   "language": "python",
   "name": "python3"
  },
  "language_info": {
   "codemirror_mode": {
    "name": "ipython",
    "version": 3
   },
   "file_extension": ".py",
   "mimetype": "text/x-python",
   "name": "python",
   "nbconvert_exporter": "python",
   "pygments_lexer": "ipython3",
   "version": "3.6.4"
  }
 },
 "nbformat": 4,
 "nbformat_minor": 2
}
