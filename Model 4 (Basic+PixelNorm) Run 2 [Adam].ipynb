{
 "cells": [
  {
   "cell_type": "code",
   "execution_count": 1,
   "metadata": {},
   "outputs": [
    {
     "name": "stdout",
     "output_type": "stream",
     "text": [
      "Training directory found, 36 series\n",
      "Validation directory found, 6 series\n",
      "Testing directory found, 10 series\n"
     ]
    }
   ],
   "source": [
    "%load_ext autoreload\n",
    "%autoreload 2\n",
    "%matplotlib inline\n",
    "\n",
    "import torch\n",
    "import numpy as np\n",
    "import torch.nn as nn\n",
    "import torch.optim as optim\n",
    "import torch.nn.functional as F \n",
    "\n",
    "import utils.tavr_torch as tavr_torch\n",
    "from utils.tavr_torch import TAVR_3_Frame, TAVR_1_Frame, TAVR_Sequence, tavr_dataloader\n",
    "from utils.visualization import display_grid, z_stretch, visualize_frame, set_figsize, get_central_slices\n",
    "from utils.loss_functions import batch_l2_loss\n",
    "from utils.run_model import train, test, save, load, get_loss_history\n",
    "from Models.basic_models import average_model, two_layer_basic, post_process\n",
    "\n",
    "set_figsize(20, 15)"
   ]
  },
  {
   "cell_type": "code",
   "execution_count": 2,
   "metadata": {},
   "outputs": [
    {
     "name": "stdout",
     "output_type": "stream",
     "text": [
      "using device: cpu\n"
     ]
    }
   ],
   "source": [
    "USE_GPU = True\n",
    "dtype = torch.float32 # we will be using float throughout this tutorial\n",
    "if USE_GPU and torch.cuda.is_available():\n",
    "    device = torch.device('cuda')\n",
    "else:\n",
    "    device = torch.device('cpu')\n",
    "print('using device:', device)\n",
    "\n",
    "# \"Pixl\", \"Slice\", or \"None\"\n",
    "preproc_type = \"pixel\"\n",
    "\n",
    "validation = TAVR_3_Frame(\"__valid\", preproc=preproc_type)\n",
    "val_loader = tavr_dataloader(validation, batch_size=4, shuffle=True, num_workers=2)\n",
    "training = TAVR_3_Frame(\"__train\", preproc=preproc_type)\n",
    "train_loader = tavr_dataloader(training,batch_size=8, shuffle=True, num_workers=2)\n",
    "\n",
    "\n",
    "ave_model = average_model()\n",
    "model = two_layer_basic()\n",
    "post_proc = post_process(kind=preproc_type).to(device=device)\n",
    "loss_fn = batch_l2_loss()\n",
    "\n",
    "# CHANGE TO NAME OF JUPYTER NOTEBOOK\n",
    "model_name = \"Model 4 (Basic+PixelNorm) Run 2 [Adam]\""
   ]
  },
  {
   "cell_type": "code",
   "execution_count": 3,
   "metadata": {},
   "outputs": [],
   "source": [
    "learning_rate = 3e-3\n",
    "reg = 1e-7\n",
    "\n",
    "optimizer = optim.Adam(model.parameters(), lr=learning_rate)"
   ]
  },
  {
   "cell_type": "code",
   "execution_count": 4,
   "metadata": {},
   "outputs": [],
   "source": [
    "# Run cell to load model\n",
    "LOAD = False\n",
    "iteration_num = -1\n",
    "\n",
    "if LOAD:\n",
    "    \n",
    "    load(model_name, iteration_num, model, optimizer)\n",
    "    loss_history = get_loss_history(model_name)\n",
    "    model.to(device=device)\n",
    "else:\n",
    "    loss_history = None"
   ]
  },
  {
   "cell_type": "code",
   "execution_count": 5,
   "metadata": {},
   "outputs": [
    {
     "name": "stdout",
     "output_type": "stream",
     "text": [
      "\n",
      "Iteration 0, loss = 2.6577, corrected loss = 1236.7100\n",
      "Validation loss 1089.3878 over 81 frames\n",
      "model saved to model_checkpoints/Model 4 (Basic+PixelNorm) Run 2 [Adam]/Model 4 (Basic+PixelNorm) Run 2 [Adam]-0\n",
      "conv_a1.weight,   \tnorm: 3.9195e+00, \tupdate norm: 4.4091e-02 \tUpdate/norm: 1.1249e-02\n",
      "conv_a1.bias,   \tnorm: 3.9129e-01, \tupdate norm: 8.4852e-03 \tUpdate/norm: 2.1685e-02\n",
      "conv_b1.weight,   \tnorm: 3.7989e+00, \tupdate norm: 4.4091e-02 \tUpdate/norm: 1.1606e-02\n",
      "conv_b1.bias,   \tnorm: 3.0376e-01, \tupdate norm: 8.4852e-03 \tUpdate/norm: 2.7934e-02\n",
      "final.weight,   \tnorm: 1.2531e+00, \tupdate norm: 1.2000e-02 \tUpdate/norm: 9.5766e-03\n",
      "final.bias,   \tnorm: 9.3852e-02, \tupdate norm: 3.0000e-03 \tUpdate/norm: 3.1965e-02\n",
      "\n",
      "... 1.8851... 1.1724... 0.6973\n",
      "Iter 10... 0.4725... 0.6116... 0.5651\n",
      "Iter 20... 0.4078... 0.4056... 0.3733\n",
      "Iteration 30, loss = 0.3826, corrected loss = 178.0363\n",
      "Validation loss 164.9099 over 81 frames\n",
      "model saved to model_checkpoints/Model 4 (Basic+PixelNorm) Run 2 [Adam]/Model 4 (Basic+PixelNorm) Run 2 [Adam]-30\n",
      "conv_a1.weight,   \tnorm: 3.9171e+00, \tupdate norm: 1.0592e-02 \tUpdate/norm: 2.7040e-03\n",
      "conv_a1.bias,   \tnorm: 3.9808e-01, \tupdate norm: 2.3001e-03 \tUpdate/norm: 5.7780e-03\n",
      "conv_b1.weight,   \tnorm: 3.7810e+00, \tupdate norm: 1.3097e-02 \tUpdate/norm: 3.4640e-03\n",
      "conv_b1.bias,   \tnorm: 2.7564e-01, \tupdate norm: 3.6501e-03 \tUpdate/norm: 1.3242e-02\n",
      "final.weight,   \tnorm: 1.1642e+00, \tupdate norm: 4.7458e-03 \tUpdate/norm: 4.0765e-03\n",
      "final.bias,   \tnorm: 7.8695e-02, \tupdate norm: 2.0764e-03 \tUpdate/norm: 2.6386e-02\n",
      "\n",
      "... 0.3318... 0.3262... 0.3239\n",
      "Iter 40... 0.2852... 0.3025... 0.2847\n",
      "Iter 50... 0.2622... 0.2686... 0.2429\n",
      "Iteration 60, loss = 0.2493, corrected loss = 115.9984\n",
      "Validation loss 111.1278 over 81 frames\n",
      "model saved to model_checkpoints/Model 4 (Basic+PixelNorm) Run 2 [Adam]/Model 4 (Basic+PixelNorm) Run 2 [Adam]-60\n",
      "conv_a1.weight,   \tnorm: 3.9110e+00, \tupdate norm: 6.7485e-03 \tUpdate/norm: 1.7255e-03\n",
      "conv_a1.bias,   \tnorm: 4.2077e-01, \tupdate norm: 1.5115e-03 \tUpdate/norm: 3.5923e-03\n",
      "conv_b1.weight,   \tnorm: 3.7650e+00, \tupdate norm: 5.3249e-03 \tUpdate/norm: 1.4143e-03\n",
      "conv_b1.bias,   \tnorm: 2.8735e-01, \tupdate norm: 1.4116e-03 \tUpdate/norm: 4.9125e-03\n",
      "final.weight,   \tnorm: 1.1062e+00, \tupdate norm: 2.7855e-03 \tUpdate/norm: 2.5182e-03\n",
      "final.bias,   \tnorm: 6.7607e-02, \tupdate norm: 1.7805e-04 \tUpdate/norm: 2.6336e-03\n",
      "\n",
      "... 0.2398... 0.2519... 0.2356\n",
      "Iter 70... 0.2326... 0.2325... 0.2180\n",
      "Iter 80\n",
      "model saved to model_checkpoints/Model 4 (Basic+PixelNorm) Run 2 [Adam]/Model 4 (Basic+PixelNorm) Run 2 [Adam]-81\n",
      "(Epoch time: 39.79 minutes. Total epochs: 1)\n",
      "... 0.2177... 0.2044... 0.2016\n",
      "Iteration 90, loss = 0.1966, corrected loss = 91.4980\n",
      "Validation loss 88.3676 over 81 frames\n",
      "model saved to model_checkpoints/Model 4 (Basic+PixelNorm) Run 2 [Adam]/Model 4 (Basic+PixelNorm) Run 2 [Adam]-90\n",
      "conv_a1.weight,   \tnorm: 3.9078e+00, \tupdate norm: 5.2037e-03 \tUpdate/norm: 1.3316e-03\n",
      "conv_a1.bias,   \tnorm: 4.4170e-01, \tupdate norm: 1.2893e-03 \tUpdate/norm: 2.9190e-03\n",
      "conv_b1.weight,   \tnorm: 3.7558e+00, \tupdate norm: 4.7740e-03 \tUpdate/norm: 1.2711e-03\n",
      "conv_b1.bias,   \tnorm: 2.9703e-01, \tupdate norm: 1.1540e-03 \tUpdate/norm: 3.8852e-03\n",
      "final.weight,   \tnorm: 1.0676e+00, \tupdate norm: 2.3279e-03 \tUpdate/norm: 2.1804e-03\n",
      "final.bias,   \tnorm: 6.4144e-02, \tupdate norm: 8.0220e-05 \tUpdate/norm: 1.2506e-03\n",
      "\n",
      "... 0.1963... 0.2016... 0.1818\n",
      "Iter 100... 0.1917... 0.1820... 0.1791\n",
      "Iter 110... 0.1779... 0.1683... 0.1715\n",
      "Iteration 120, loss = 0.1689, corrected loss = 78.6027\n",
      "Validation loss 74.2513 over 81 frames\n",
      "model saved to model_checkpoints/Model 4 (Basic+PixelNorm) Run 2 [Adam]/Model 4 (Basic+PixelNorm) Run 2 [Adam]-120\n",
      "conv_a1.weight,   \tnorm: 3.9086e+00, \tupdate norm: 5.0080e-03 \tUpdate/norm: 1.2813e-03\n",
      "conv_a1.bias,   \tnorm: 4.5601e-01, \tupdate norm: 1.0602e-03 \tUpdate/norm: 2.3249e-03\n",
      "conv_b1.weight,   \tnorm: 3.7518e+00, \tupdate norm: 4.9203e-03 \tUpdate/norm: 1.3114e-03\n",
      "conv_b1.bias,   \tnorm: 3.0167e-01, \tupdate norm: 8.2660e-04 \tUpdate/norm: 2.7401e-03\n",
      "final.weight,   \tnorm: 1.0407e+00, \tupdate norm: 2.0577e-03 \tUpdate/norm: 1.9772e-03\n",
      "final.bias,   \tnorm: 6.3651e-02, \tupdate norm: 4.1872e-06 \tUpdate/norm: 6.5784e-05\n",
      "\n",
      "... 0.1583... 0.1571... 0.1474\n",
      "Iter 130... 0.1542... 0.1566... 0.1665\n",
      "Iter 140... 0.1497... 0.1366... 0.1468\n",
      "Iteration 150, loss = 0.1403, corrected loss = 65.2996\n",
      "Validation loss 64.9931 over 81 frames\n",
      "model saved to model_checkpoints/Model 4 (Basic+PixelNorm) Run 2 [Adam]/Model 4 (Basic+PixelNorm) Run 2 [Adam]-150\n",
      "conv_a1.weight,   \tnorm: 3.9110e+00, \tupdate norm: 4.1796e-03 \tUpdate/norm: 1.0687e-03\n",
      "conv_a1.bias,   \tnorm: 4.6570e-01, \tupdate norm: 8.0643e-04 \tUpdate/norm: 1.7317e-03\n",
      "conv_b1.weight,   \tnorm: 3.7510e+00, \tupdate norm: 4.4691e-03 \tUpdate/norm: 1.1914e-03\n",
      "conv_b1.bias,   \tnorm: 3.0267e-01, \tupdate norm: 7.1291e-04 \tUpdate/norm: 2.3554e-03\n",
      "final.weight,   \tnorm: 1.0206e+00, \tupdate norm: 1.6049e-03 \tUpdate/norm: 1.5726e-03\n",
      "final.bias,   \tnorm: 6.4360e-02, \tupdate norm: 2.7329e-05 \tUpdate/norm: 4.2462e-04\n",
      "\n",
      "... 0.1414... 0.1278... 0.1476\n",
      "Iter 160.\n",
      "model saved to model_checkpoints/Model 4 (Basic+PixelNorm) Run 2 [Adam]/Model 4 (Basic+PixelNorm) Run 2 [Adam]-162\n",
      "(Epoch time: 53.11 minutes. Total epochs: 2)\n",
      ".. 0.1384... 0.1450... 0.1554\n",
      "Iter 170... 0.1303... 0.1341... 0.1309\n",
      "Iteration 180, loss = 0.1428, corrected loss = 66.4419\n",
      "Validation loss 59.6851 over 81 frames\n",
      "model saved to model_checkpoints/Model 4 (Basic+PixelNorm) Run 2 [Adam]/Model 4 (Basic+PixelNorm) Run 2 [Adam]-180\n",
      "conv_a1.weight,   \tnorm: 3.9109e+00, \tupdate norm: 3.4090e-03 \tUpdate/norm: 8.7167e-04\n",
      "conv_a1.bias,   \tnorm: 4.7167e-01, \tupdate norm: 5.7606e-04 \tUpdate/norm: 1.2213e-03\n",
      "conv_b1.weight,   \tnorm: 3.7496e+00, \tupdate norm: 3.6953e-03 \tUpdate/norm: 9.8551e-04\n",
      "conv_b1.bias,   \tnorm: 3.0325e-01, \tupdate norm: 6.2645e-04 \tUpdate/norm: 2.0658e-03\n",
      "final.weight,   \tnorm: 1.0018e+00, \tupdate norm: 1.1730e-03 \tUpdate/norm: 1.1709e-03\n",
      "final.bias,   \tnorm: 6.3845e-02, \tupdate norm: 2.7142e-05 \tUpdate/norm: 4.2513e-04\n",
      "\n",
      "... 0.1307... 0.1363... 0.1299\n",
      "Iter 190... 0.1319... 0.1225... 0.1281\n",
      "Iter 200... 0.1211... 0.1257... 0.1279\n",
      "Iteration 210, loss = 0.1266, corrected loss = 58.9296\n",
      "Validation loss 56.2980 over 81 frames\n",
      "model saved to model_checkpoints/Model 4 (Basic+PixelNorm) Run 2 [Adam]/Model 4 (Basic+PixelNorm) Run 2 [Adam]-210\n",
      "conv_a1.weight,   \tnorm: 3.9069e+00, \tupdate norm: 3.2542e-03 \tUpdate/norm: 8.3293e-04\n",
      "conv_a1.bias,   \tnorm: 4.7258e-01, \tupdate norm: 5.1225e-04 \tUpdate/norm: 1.0839e-03\n",
      "conv_b1.weight,   \tnorm: 3.7461e+00, \tupdate norm: 3.3811e-03 \tUpdate/norm: 9.0257e-04\n",
      "conv_b1.bias,   \tnorm: 3.0312e-01, \tupdate norm: 5.5999e-04 \tUpdate/norm: 1.8474e-03\n",
      "final.weight,   \tnorm: 9.8249e-01, \tupdate norm: 1.0183e-03 \tUpdate/norm: 1.0364e-03\n",
      "final.bias,   \tnorm: 6.3301e-02, \tupdate norm: 2.4669e-05 \tUpdate/norm: 3.8971e-04\n",
      "\n",
      "... 0.1301... 0.1267... 0.1218\n",
      "Iter 220... 0.1197... 0.1200... 0.1168\n",
      "Iter 230... 0.1183... 0.1154... 0.1167\n",
      "Iteration 240, loss = 0.1284, corrected loss = 59.7325\n",
      "Validation loss 53.6982 over 81 frames\n",
      "model saved to model_checkpoints/Model 4 (Basic+PixelNorm) Run 2 [Adam]/Model 4 (Basic+PixelNorm) Run 2 [Adam]-240\n",
      "conv_a1.weight,   \tnorm: 3.9010e+00, \tupdate norm: 2.9983e-03 \tUpdate/norm: 7.6860e-04\n",
      "conv_a1.bias,   \tnorm: 4.7106e-01, \tupdate norm: 4.6555e-04 \tUpdate/norm: 9.8830e-04\n",
      "conv_b1.weight,   \tnorm: 3.7406e+00, \tupdate norm: 3.0559e-03 \tUpdate/norm: 8.1695e-04\n",
      "conv_b1.bias,   \tnorm: 3.0246e-01, \tupdate norm: 6.3052e-04 \tUpdate/norm: 2.0846e-03\n",
      "final.weight,   \tnorm: 9.6296e-01, \tupdate norm: 8.9103e-04 \tUpdate/norm: 9.2530e-04\n",
      "final.bias,   \tnorm: 6.2553e-02, \tupdate norm: 6.0335e-05 \tUpdate/norm: 9.6453e-04\n",
      "\n",
      "..\n",
      "model saved to model_checkpoints/Model 4 (Basic+PixelNorm) Run 2 [Adam]/Model 4 (Basic+PixelNorm) Run 2 [Adam]-243\n"
     ]
    }
   ],
   "source": [
    "train(model, post_proc, optimizer, train_loader, val_loader, loss_fn, device, \n",
    "         model_name, loss_history, epochs=3, print_every=30, print_level=4, lr_decay=1)"
   ]
  },
  {
   "cell_type": "code",
   "execution_count": null,
   "metadata": {},
   "outputs": [],
   "source": [
    "# One last test + visualize results on 1 validation sequence\n",
    "val_seq = TAVR_Sequence(\"__valid\")\n",
    "test(model, val_loader, loss_fn, device)\n",
    "test(ave_model, val_loader, loss_fn, device)\n",
    "\n",
    "with torch.no_grad():\n",
    "    model.eval()\n",
    "    ave_frames = [val_seq[0][0]]\n",
    "    for i in range(2,9,2):\n",
    "        ave_frame = model((val_seq[0][i-2][None,:], val_seq[0][i][None,:]))\n",
    "        ave_frames += [ave_frame[0][0],  val_seq[0][i]]\n",
    "    ave_frames += [val_seq[0][9]]\n",
    "    ave_frames_slices = []\n",
    "    for f in ave_frames:\n",
    "        ave_frames_slices += get_central_slices(f)\n",
    "    set_figsize(6,20)\n",
    "    display_grid(10, 3, ave_frames_slices)"
   ]
  },
  {
   "cell_type": "code",
   "execution_count": null,
   "metadata": {},
   "outputs": [],
   "source": [
    "optimizer.param_groups[0]['lr']"
   ]
  },
  {
   "cell_type": "code",
   "execution_count": null,
   "metadata": {},
   "outputs": [],
   "source": [
    "for p in model.parameters():\n",
    "    print(p.norm())"
   ]
  }
 ],
 "metadata": {
  "kernelspec": {
   "display_name": "Python 3",
   "language": "python",
   "name": "python3"
  },
  "language_info": {
   "codemirror_mode": {
    "name": "ipython",
    "version": 3
   },
   "file_extension": ".py",
   "mimetype": "text/x-python",
   "name": "python",
   "nbconvert_exporter": "python",
   "pygments_lexer": "ipython3",
   "version": "3.6.4"
  }
 },
 "nbformat": 4,
 "nbformat_minor": 2
}
