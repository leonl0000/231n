{
 "cells": [
  {
   "cell_type": "code",
   "execution_count": 1,
   "metadata": {},
   "outputs": [
    {
     "name": "stdout",
     "output_type": "stream",
     "text": [
      "Training directory found, 36 series\n",
      "Validation directory found, 6 series\n",
      "Testing directory found, 10 series\n"
     ]
    }
   ],
   "source": [
    "%load_ext autoreload\n",
    "%autoreload 2\n",
    "%matplotlib inline\n",
    "\n",
    "import torch\n",
    "import numpy as np\n",
    "import torch.nn as nn\n",
    "import torch.optim as optim\n",
    "import torch.nn.functional as F \n",
    "\n",
    "import utils.tavr_torch as tavr_torch\n",
    "from utils.tavr_torch import TAVR_3_Frame, TAVR_1_Frame, TAVR_Sequence, tavr_dataloader\n",
    "from utils.visualization import display_grid, z_stretch, visualize_frame, set_figsize, get_central_slices\n",
    "from utils.loss_functions import batch_l2_loss\n",
    "from utils.run_model import train, test, save, load, get_loss_history\n",
    "from Models.basic_models import average_model, two_layer_basic, post_process\n",
    "\n",
    "set_figsize(20, 15)"
   ]
  },
  {
   "cell_type": "code",
   "execution_count": 3,
   "metadata": {},
   "outputs": [
    {
     "name": "stdout",
     "output_type": "stream",
     "text": [
      "using device: cuda\n"
     ]
    }
   ],
   "source": [
    "USE_GPU = True\n",
    "dtype = torch.float32 # we will be using float throughout this tutorial\n",
    "if USE_GPU and torch.cuda.is_available():\n",
    "    device = torch.device('cuda')\n",
    "else:\n",
    "    device = torch.device('cpu')\n",
    "print('using device:', device)\n",
    "\n",
    "# \"Pixl\", \"Slice\", or \"None\"\n",
    "preproc_type = \"pixel\"\n",
    "\n",
    "validation = TAVR_3_Frame(\"__valid\", preproc=preproc_type)\n",
    "val_loader = tavr_dataloader(validation, batch_size=4, shuffle=True, num_workers=2)\n",
    "training = TAVR_3_Frame(\"__train\", preproc=preproc_type)\n",
    "train_loader = tavr_dataloader(training,batch_size=6, shuffle=True, num_workers=2)\n",
    "\n",
    "\n",
    "ave_model = average_model()\n",
    "model = two_layer_basic()\n",
    "post_proc = post_process(kind=preproc_type).to(device=device)\n",
    "loss_fn = batch_l2_loss()\n",
    "\n",
    "# CHANGE TO NAME OF JUPYTER NOTEBOOK\n",
    "model_name = \"Model 5 (Basic+PixelNorm) R1\""
   ]
  },
  {
   "cell_type": "code",
   "execution_count": 4,
   "metadata": {},
   "outputs": [],
   "source": [
    "learning_rate = 3e-3\n",
    "momentum = 0.95\n",
    "reg = 1e-7\n",
    "\n",
    "optimizer = optim.SGD(model.parameters(), lr=learning_rate, momentum=momentum, weight_decay=reg, nesterov=True)"
   ]
  },
  {
   "cell_type": "code",
   "execution_count": 5,
   "metadata": {},
   "outputs": [],
   "source": [
    "LOAD = False\n",
    "iteration_num = -1\n",
    "\n",
    "if LOAD:\n",
    "    \n",
    "    load(model_name, iteration_num, model, optimizer)\n",
    "    loss_history = get_loss_history(model_name)\n",
    "    model.to(device=device)\n",
    "else:\n",
    "    loss_history = None"
   ]
  },
  {
   "cell_type": "code",
   "execution_count": null,
   "metadata": {},
   "outputs": [],
   "source": [
    "# If multiple GPU\n",
    "model = nn.DataParallel(model)"
   ]
  },
  {
   "cell_type": "code",
   "execution_count": 6,
   "metadata": {
    "scrolled": true
   },
   "outputs": [
    {
     "name": "stdout",
     "output_type": "stream",
     "text": [
      "\n",
      "Iteration 0, loss = 1.6918, corrected loss = 787.2205\n",
      "Validation loss 677.5645 over 81 frames\n",
      "model saved to model_checkpoints/Model 5 (Basic+PixelNorm) R1/Model 5 (Basic+PixelNorm) R1-0\n",
      "conv_a1.weight,   \tnorm: 4.1260e+00, \tupdate norm: 9.5863e-03 \tUpdate/norm: 2.3234e-03\n",
      "conv_a1.bias,   \tnorm: 2.5703e-01, \tupdate norm: 1.5049e-03 \tUpdate/norm: 5.8550e-03\n",
      "conv_b1.weight,   \tnorm: 3.9643e+00, \tupdate norm: 1.3078e-02 \tUpdate/norm: 3.2990e-03\n",
      "conv_b1.bias,   \tnorm: 3.1486e-01, \tupdate norm: 2.1855e-03 \tUpdate/norm: 6.9411e-03\n",
      "final.weight,   \tnorm: 1.1092e+00, \tupdate norm: 1.6640e-02 \tUpdate/norm: 1.5001e-02\n",
      "final.bias,   \tnorm: 5.9619e-02, \tupdate norm: 8.3452e-04 \tUpdate/norm: 1.3998e-02\n",
      "\n",
      "... ... ... \n",
      "Iter 10... ... ... \n",
      "Iter 20... ... ... \n",
      "Iteration 30, loss = 0.2630, corrected loss = 122.4037\n",
      "Validation loss 115.9253 over 81 frames\n",
      "model saved to model_checkpoints/Model 5 (Basic+PixelNorm) R1/Model 5 (Basic+PixelNorm) R1-30\n",
      "conv_a1.weight,   \tnorm: 4.1112e+00, \tupdate norm: 7.7069e-03 \tUpdate/norm: 1.8746e-03\n",
      "conv_a1.bias,   \tnorm: 2.7219e-01, \tupdate norm: 1.0867e-03 \tUpdate/norm: 3.9924e-03\n",
      "conv_b1.weight,   \tnorm: 3.9383e+00, \tupdate norm: 1.2874e-02 \tUpdate/norm: 3.2689e-03\n",
      "conv_b1.bias,   \tnorm: 2.7236e-01, \tupdate norm: 9.6548e-04 \tUpdate/norm: 3.5449e-03\n",
      "final.weight,   \tnorm: 8.5470e-01, \tupdate norm: 9.6128e-03 \tUpdate/norm: 1.1247e-02\n",
      "final.bias,   \tnorm: 6.5149e-02, \tupdate norm: 1.8073e-03 \tUpdate/norm: 2.7740e-02\n",
      "\n",
      "... ... ... \n",
      "Iter 40... ... ... \n",
      "Iter 50... ... ... \n",
      "Iteration 60, loss = 0.1584, corrected loss = 73.6960\n",
      "Validation loss 75.1882 over 81 frames\n",
      "model saved to model_checkpoints/Model 5 (Basic+PixelNorm) R1/Model 5 (Basic+PixelNorm) R1-60\n",
      "conv_a1.weight,   \tnorm: 4.1027e+00, \tupdate norm: 3.6129e-03 \tUpdate/norm: 8.8062e-04\n",
      "conv_a1.bias,   \tnorm: 2.7547e-01, \tupdate norm: 1.1781e-03 \tUpdate/norm: 4.2765e-03\n",
      "conv_b1.weight,   \tnorm: 3.9323e+00, \tupdate norm: 5.9252e-03 \tUpdate/norm: 1.5068e-03\n",
      "conv_b1.bias,   \tnorm: 2.7410e-01, \tupdate norm: 9.4310e-04 \tUpdate/norm: 3.4407e-03\n",
      "final.weight,   \tnorm: 7.1497e-01, \tupdate norm: 6.9691e-03 \tUpdate/norm: 9.7474e-03\n",
      "final.bias,   \tnorm: 5.0192e-02, \tupdate norm: 9.5451e-04 \tUpdate/norm: 1.9017e-02\n",
      "\n",
      "... ... ... \n",
      "Iter 70... ... ... \n",
      "Iter 80... ... ... \n",
      "Iteration 90, loss = 0.1446, corrected loss = 67.2737\n",
      "Validation loss 61.2555 over 81 frames\n",
      "model saved to model_checkpoints/Model 5 (Basic+PixelNorm) R1/Model 5 (Basic+PixelNorm) R1-90\n",
      "conv_a1.weight,   \tnorm: 4.0990e+00, \tupdate norm: 2.5063e-03 \tUpdate/norm: 6.1144e-04\n",
      "conv_a1.bias,   \tnorm: 2.7557e-01, \tupdate norm: 7.1475e-04 \tUpdate/norm: 2.5937e-03\n",
      "conv_b1.weight,   \tnorm: 3.9330e+00, \tupdate norm: 4.1307e-03 \tUpdate/norm: 1.0503e-03\n",
      "conv_b1.bias,   \tnorm: 2.8217e-01, \tupdate norm: 4.6673e-04 \tUpdate/norm: 1.6540e-03\n",
      "final.weight,   \tnorm: 6.7732e-01, \tupdate norm: 4.9976e-03 \tUpdate/norm: 7.3786e-03\n",
      "final.bias,   \tnorm: 3.5822e-02, \tupdate norm: 2.1064e-04 \tUpdate/norm: 5.8802e-03\n",
      "\n",
      "... ... ... \n",
      "Iter 100... ... .\n",
      "model saved to model_checkpoints/Model 5 (Basic+PixelNorm) R1/Model 5 (Basic+PixelNorm) R1-108\n"
     ]
    }
   ],
   "source": [
    "train(model, post_proc, optimizer, train_loader, val_loader, loss_fn, device, \n",
    "         model_name, loss_history,\n",
    "          epochs=1, print_every=30, print_level=3, lr_decay=1)"
   ]
  },
  {
   "cell_type": "code",
   "execution_count": null,
   "metadata": {},
   "outputs": [],
   "source": [
    "# One last test + visualize results on 1 validation sequence\n",
    "val_seq = TAVR_Sequence(\"__valid\")\n",
    "test(model, post_proc, val_loader, loss_fn, device)\n",
    "test(ave_model, post_proc, val_loader, loss_fn, device)\n",
    "\n",
    "with torch.no_grad():\n",
    "    model.eval()\n",
    "    ave_frames = [val_seq[0][0]]\n",
    "    for i in range(2,9,2):\n",
    "        ave_frame = model((val_seq[0][i-2][None,:], val_seq[0][i][None,:]))\n",
    "        ave_frames += [ave_frame[0][0],  val_seq[0][i]]\n",
    "    ave_frames += [val_seq[0][9]]\n",
    "    ave_frames_slices = []\n",
    "    for f in ave_frames:\n",
    "        ave_frames_slices += get_central_slices(f)\n",
    "    set_figsize(6,20)\n",
    "    display_grid(10, 3, ave_frames_slices)"
   ]
  }
 ],
 "metadata": {
  "kernelspec": {
   "display_name": "Python 3",
   "language": "python",
   "name": "python3"
  },
  "language_info": {
   "codemirror_mode": {
    "name": "ipython",
    "version": 3
   },
   "file_extension": ".py",
   "mimetype": "text/x-python",
   "name": "python",
   "nbconvert_exporter": "python",
   "pygments_lexer": "ipython3",
   "version": "3.6.4"
  }
 },
 "nbformat": 4,
 "nbformat_minor": 2
}
