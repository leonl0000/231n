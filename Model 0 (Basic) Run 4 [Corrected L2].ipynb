{
 "cells": [
  {
   "cell_type": "code",
   "execution_count": 1,
   "metadata": {},
   "outputs": [
    {
     "name": "stdout",
     "output_type": "stream",
     "text": [
      "Training directory found, 36 series\n",
      "Validation directory found, 6 series\n",
      "Testing directory found, 10 series\n"
     ]
    }
   ],
   "source": [
    "%load_ext autoreload\n",
    "%autoreload 2\n",
    "%matplotlib inline\n",
    "\n",
    "import torch\n",
    "import numpy as np\n",
    "import torch.nn as nn\n",
    "import torch.optim as optim\n",
    "import torch.nn.functional as F \n",
    "\n",
    "import utils.tavr_torch as tavr_torch\n",
    "from utils.tavr_torch import TAVR_3_Frame, TAVR_1_Frame, TAVR_Sequence, tavr_dataloader\n",
    "from utils.visualization import display_grid, z_stretch, visualize_frame, set_figsize, get_central_slices\n",
    "from utils.loss_functions import batch_l2_loss\n",
    "from utils.run_model import train, test\n",
    "from Models.basic_models import average_model, two_layer_basic\n",
    "\n",
    "\n",
    "set_figsize(20, 15)"
   ]
  },
  {
   "cell_type": "code",
   "execution_count": 2,
   "metadata": {},
   "outputs": [
    {
     "name": "stdout",
     "output_type": "stream",
     "text": [
      "using device: cpu\n"
     ]
    }
   ],
   "source": [
    "USE_GPU = True\n",
    "dtype = torch.float32 # we will be using float throughout this tutorial\n",
    "if USE_GPU and torch.cuda.is_available():\n",
    "    device = torch.device('cuda')\n",
    "else:\n",
    "    device = torch.device('cpu')\n",
    "print('using device:', device)\n",
    "\n",
    "validation = TAVR_3_Frame(\"__valid\")\n",
    "val_loader = tavr_dataloader(validation, batch_size=4, shuffle=True, num_workers=2)\n",
    "training = TAVR_3_Frame(\"__train\")\n",
    "train_loader = tavr_dataloader(training, batch_size=8, shuffle=True, num_workers=2)\n",
    "\n",
    "ave_model = average_model()\n",
    "model = two_layer_basic()\n",
    "loss_fn = batch_l2_loss()"
   ]
  },
  {
   "cell_type": "code",
   "execution_count": null,
   "metadata": {},
   "outputs": [],
   "source": [
    "learning_rate = 1e-5\n",
    "momentum = 0.90\n",
    "reg = 1e-7\n",
    "\n",
    "optimizer = optim.SGD(model.parameters(), lr=learning_rate, momentum=momentum, weight_decay=reg, nesterov=True)"
   ]
  },
  {
   "cell_type": "code",
   "execution_count": null,
   "metadata": {},
   "outputs": [
    {
     "name": "stdout",
     "output_type": "stream",
     "text": [
      "\n",
      "****Epoch 0 Iteration 0, loss = 1948.9189\n",
      "Validation loss 420.3997 over 81 frames\n",
      "conv_a1.weight,   \tnorm: 3.8977e+00, \tupdate norm: 6.3174e-02 \tUpdate/norm: 1.6208e-02\n",
      "conv_a1.bias,   \tnorm: 2.8309e-01, \tupdate norm: 1.1521e-05 \tUpdate/norm: 4.0697e-05\n",
      "conv_b1.weight,   \tnorm: 4.0839e+00, \tupdate norm: 1.3221e-01 \tUpdate/norm: 3.2373e-02\n",
      "conv_b1.bias,   \tnorm: 3.3950e-01, \tupdate norm: 2.3922e-05 \tUpdate/norm: 7.0462e-05\n",
      "final.weight,   \tnorm: 1.7279e+00, \tupdate norm: 9.5138e-02 \tUpdate/norm: 5.5060e-02\n",
      "final.bias,   \tnorm: 1.8353e-01, \tupdate norm: 1.6347e-05 \tUpdate/norm: 8.9066e-05\n",
      "\n",
      "Iter 0... ... ... \n",
      "Iter 10... ... ... \n",
      "Iter 20... ... ... \n",
      "Iteration 30, loss = 117.7154\n",
      "Validation loss 112.0503 over 81 frames\n",
      "conv_a1.weight,   \tnorm: 3.8821e+00, \tupdate norm: 2.5271e-02 \tUpdate/norm: 6.5096e-03\n",
      "conv_a1.bias,   \tnorm: 2.8309e-01, \tupdate norm: 4.8779e-06 \tUpdate/norm: 1.7231e-05\n",
      "conv_b1.weight,   \tnorm: 4.0820e+00, \tupdate norm: 1.4718e-02 \tUpdate/norm: 3.6054e-03\n",
      "conv_b1.bias,   \tnorm: 3.3942e-01, \tupdate norm: 2.8946e-06 \tUpdate/norm: 8.5280e-06\n",
      "final.weight,   \tnorm: 1.4621e+00, \tupdate norm: 3.9552e-02 \tUpdate/norm: 2.7052e-02\n",
      "final.bias,   \tnorm: 1.8353e-01, \tupdate norm: 9.8795e-06 \tUpdate/norm: 5.3830e-05\n",
      "\n",
      "Iter 30... ... ... \n",
      "Iter 40... ... ... \n",
      "Iter 50... ... ... \n",
      "Iteration 60, loss = 76.7848\n",
      "Validation loss 72.5857 over 81 frames\n",
      "conv_a1.weight,   \tnorm: 3.8777e+00, \tupdate norm: 1.4125e-02 \tUpdate/norm: 3.6426e-03\n",
      "conv_a1.bias,   \tnorm: 2.8309e-01, \tupdate norm: 3.1156e-06 \tUpdate/norm: 1.1006e-05\n",
      "conv_b1.weight,   \tnorm: 4.0669e+00, \tupdate norm: 9.7114e-03 \tUpdate/norm: 2.3879e-03\n",
      "conv_b1.bias,   \tnorm: 3.3940e-01, \tupdate norm: 2.1600e-06 \tUpdate/norm: 6.3642e-06\n",
      "final.weight,   \tnorm: 1.4286e+00, \tupdate norm: 2.3764e-02 \tUpdate/norm: 1.6634e-02\n",
      "final.bias,   \tnorm: 1.8355e-01, \tupdate norm: 8.5682e-06 \tUpdate/norm: 4.6681e-05\n",
      "\n",
      "Iter 60... ... ... \n",
      "Iter 70... ... ... \n",
      "Iter 80\n",
      "****Epoch 1 Iteration 0, loss = 63.6766\n",
      "Validation loss 63.7404 over 81 frames\n",
      "conv_a1.weight,   \tnorm: 3.8767e+00, \tupdate norm: 1.0829e-02 \tUpdate/norm: 2.7933e-03\n",
      "conv_a1.bias,   \tnorm: 2.8309e-01, \tupdate norm: 1.2758e-06 \tUpdate/norm: 4.5068e-06\n",
      "conv_b1.weight,   \tnorm: 4.0608e+00, \tupdate norm: 4.6395e-03 \tUpdate/norm: 1.1425e-03\n",
      "conv_b1.bias,   \tnorm: 3.3939e-01, \tupdate norm: 3.7424e-07 \tUpdate/norm: 1.1027e-06\n",
      "final.weight,   \tnorm: 1.4217e+00, \tupdate norm: 1.6368e-02 \tUpdate/norm: 1.1513e-02\n",
      "final.bias,   \tnorm: 1.8359e-01, \tupdate norm: 3.1739e-06 \tUpdate/norm: 1.7288e-05\n",
      "\n",
      "Iter 0... ... ... \n",
      "Iter 10... ... ... \n",
      "Iter 20... .."
     ]
    }
   ],
   "source": [
    "train(model, optimizer, train_loader, val_loader, loss_fn, device, \n",
    "         epochs=3, print_every=30, print_level=3, lr_decay=0.8)"
   ]
  },
  {
   "cell_type": "code",
   "execution_count": null,
   "metadata": {
    "scrolled": true
   },
   "outputs": [],
   "source": [
    "# One last test + visualize results on 1 validation sequence\n",
    "val_seq = TAVR_Sequence(\"__valid\")\n",
    "test(model, val_loader, loss_fn, device)\n",
    "test(ave_model, val_loader, loss_fn, device)\n",
    "\n",
    "with torch.no_grad():\n",
    "    model.eval()\n",
    "    ave_frames = [val_seq[0][0]]\n",
    "    for i in range(2,9,2):\n",
    "        ave_frame = model((val_seq[0][i-2][None,:], val_seq[0][i][None,:]))\n",
    "        ave_frames += [ave_frame[0][0],  val_seq[0][i]]\n",
    "    ave_frames += [val_seq[0][9]]\n",
    "    ave_frames_slices = []\n",
    "    for f in ave_frames:\n",
    "        ave_frames_slices += get_central_slices(f)\n",
    "    set_figsize(6,20)\n",
    "    display_grid(10, 3, ave_frames_slices)"
   ]
  }
 ],
 "metadata": {
  "kernelspec": {
   "display_name": "Python 3",
   "language": "python",
   "name": "python3"
  },
  "language_info": {
   "codemirror_mode": {
    "name": "ipython",
    "version": 3
   },
   "file_extension": ".py",
   "mimetype": "text/x-python",
   "name": "python",
   "nbconvert_exporter": "python",
   "pygments_lexer": "ipython3",
   "version": "3.6.4"
  }
 },
 "nbformat": 4,
 "nbformat_minor": 2
}
