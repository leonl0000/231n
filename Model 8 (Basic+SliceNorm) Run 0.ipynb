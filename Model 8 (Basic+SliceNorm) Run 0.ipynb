{
 "cells": [
  {
   "cell_type": "code",
   "execution_count": 1,
   "metadata": {},
   "outputs": [
    {
     "name": "stdout",
     "output_type": "stream",
     "text": [
      "Training directory found, 36 series\n",
      "Validation directory found, 6 series\n",
      "Testing directory found, 10 series\n"
     ]
    }
   ],
   "source": [
    "%load_ext autoreload\n",
    "%autoreload 2\n",
    "%matplotlib inline\n",
    "\n",
    "import torch\n",
    "import numpy as np\n",
    "import torch.nn as nn\n",
    "import torch.optim as optim\n",
    "import torch.nn.functional as F \n",
    "\n",
    "import utils.tavr_torch as tavr_torch\n",
    "from utils.tavr_torch import TAVR_3_Frame, TAVR_1_Frame, TAVR_Sequence, tavr_dataloader\n",
    "from utils.visualization import display_grid, z_stretch, visualize_frame, set_figsize, get_central_slices\n",
    "from utils.loss_functions import batch_l2_loss\n",
    "from utils.run_model import train, test, save, load, get_loss_history\n",
    "from Models.basic_models import average_model, two_layer_basic, post_process\n",
    "\n",
    "set_figsize(20, 15)"
   ]
  },
  {
   "cell_type": "code",
   "execution_count": 2,
   "metadata": {},
   "outputs": [
    {
     "name": "stdout",
     "output_type": "stream",
     "text": [
      "using device: cpu\n"
     ]
    }
   ],
   "source": [
    "USE_GPU = True\n",
    "dtype = torch.float32 # we will be using float throughout this tutorial\n",
    "if USE_GPU and torch.cuda.is_available():\n",
    "    device = torch.device('cuda')\n",
    "else:\n",
    "    device = torch.device('cpu')\n",
    "print('using device:', device)\n",
    "\n",
    "# \"Pixl\", \"Slice\", or \"None\"\n",
    "preproc_type = \"slice\"\n",
    "\n",
    "validation = TAVR_3_Frame(\"__valid\", preproc=preproc_type)\n",
    "val_loader = tavr_dataloader(validation, batch_size=4, shuffle=True, num_workers=2)\n",
    "training = TAVR_3_Frame(\"__train\", preproc=preproc_type)\n",
    "train_loader = tavr_dataloader(training,batch_size=8, shuffle=True, num_workers=2)\n",
    "\n",
    "\n",
    "ave_model = average_model()\n",
    "model = two_layer_basic()\n",
    "post_proc = post_process(kind=preproc_type).to(device=device)\n",
    "loss_fn = batch_l2_loss()\n",
    "\n",
    "# CHANGE TO NAME OF JUPYTER NOTEBOOK\n",
    "model_name = \"Model 8 (Basic+SliceNorm) Run 0\""
   ]
  },
  {
   "cell_type": "code",
   "execution_count": 3,
   "metadata": {},
   "outputs": [],
   "source": [
    "learning_rate = 3e-3\n",
    "reg = 1e-7\n",
    "\n",
    "optimizer = optim.Adam(model.parameters(), lr=learning_rate)"
   ]
  },
  {
   "cell_type": "code",
   "execution_count": 4,
   "metadata": {},
   "outputs": [],
   "source": [
    "# Run cell to load model\n",
    "LOAD = False\n",
    "iteration_num = -1\n",
    "\n",
    "if LOAD:\n",
    "    \n",
    "    load(model_name, iteration_num, model, optimizer)\n",
    "    loss_history = get_loss_history(model_name)\n",
    "    model.to(device=device)\n",
    "else:\n",
    "    loss_history = None"
   ]
  },
  {
   "cell_type": "code",
   "execution_count": 5,
   "metadata": {},
   "outputs": [
    {
     "name": "stdout",
     "output_type": "stream",
     "text": [
      "\n",
      "Iteration 0, loss = 19.9244, corrected loss = 288.7308\n",
      "Validation loss 218.9276 over 81 frames\n",
      "model saved to model_checkpoints/Model 8 (Basic+SliceNorm) Run 0/Model 8 (Basic+SliceNorm) Run 0-0\n",
      "conv_a1.weight,   \tnorm: 3.7882e+00, \tupdate norm: 4.4091e-02 \tUpdate/norm: 1.1639e-02\n",
      "conv_a1.bias,   \tnorm: 2.4464e-01, \tupdate norm: 8.4852e-03 \tUpdate/norm: 3.4684e-02\n",
      "conv_b1.weight,   \tnorm: 4.1541e+00, \tupdate norm: 4.4091e-02 \tUpdate/norm: 1.0614e-02\n",
      "conv_b1.bias,   \tnorm: 2.8355e-01, \tupdate norm: 8.4852e-03 \tUpdate/norm: 2.9925e-02\n",
      "final.weight,   \tnorm: 1.2815e+00, \tupdate norm: 1.2000e-02 \tUpdate/norm: 9.3640e-03\n",
      "final.bias,   \tnorm: 1.0899e-01, \tupdate norm: 3.0000e-03 \tUpdate/norm: 2.7525e-02\n",
      "\n",
      "... 11.9354... 9.5186... 12.1094\n",
      "Iter 10... 10.1639... 10.1178... 9.8653\n",
      "Iter 20... 9.1438... 8.3288... 8.1833\n",
      "Iteration 30, loss = 8.4203, corrected loss = 102.3970\n",
      "Validation loss 93.0913 over 81 frames\n",
      "model saved to model_checkpoints/Model 8 (Basic+SliceNorm) Run 0/Model 8 (Basic+SliceNorm) Run 0-30\n",
      "conv_a1.weight,   \tnorm: 3.7625e+00, \tupdate norm: 1.1293e-02 \tUpdate/norm: 3.0013e-03\n",
      "conv_a1.bias,   \tnorm: 2.2740e-01, \tupdate norm: 1.7713e-03 \tUpdate/norm: 7.7894e-03\n",
      "conv_b1.weight,   \tnorm: 4.1419e+00, \tupdate norm: 9.6441e-03 \tUpdate/norm: 2.3284e-03\n",
      "conv_b1.bias,   \tnorm: 3.0825e-01, \tupdate norm: 1.8449e-03 \tUpdate/norm: 5.9850e-03\n",
      "final.weight,   \tnorm: 1.2308e+00, \tupdate norm: 4.7128e-03 \tUpdate/norm: 3.8291e-03\n",
      "final.bias,   \tnorm: 1.0105e-01, \tupdate norm: 7.6894e-04 \tUpdate/norm: 7.6095e-03\n",
      "\n",
      "... 8.7461... 6.6032... 6.4885\n",
      "Iter 40... 6.2116... 6.0448... 6.0641\n",
      "Iter 50... 6.1500... 5.6100... 5.3180\n",
      "Iteration 60, loss = 6.6323, corrected loss = 76.4183\n",
      "Validation loss 68.7401 over 81 frames\n",
      "model saved to model_checkpoints/Model 8 (Basic+SliceNorm) Run 0/Model 8 (Basic+SliceNorm) Run 0-60\n",
      "conv_a1.weight,   \tnorm: 3.7611e+00, \tupdate norm: 7.2312e-03 \tUpdate/norm: 1.9226e-03\n",
      "conv_a1.bias,   \tnorm: 2.1282e-01, \tupdate norm: 1.0873e-03 \tUpdate/norm: 5.1089e-03\n",
      "conv_b1.weight,   \tnorm: 4.1293e+00, \tupdate norm: 6.3091e-03 \tUpdate/norm: 1.5279e-03\n",
      "conv_b1.bias,   \tnorm: 3.3076e-01, \tupdate norm: 1.3711e-03 \tUpdate/norm: 4.1454e-03\n",
      "final.weight,   \tnorm: 1.1740e+00, \tupdate norm: 3.1765e-03 \tUpdate/norm: 2.7056e-03\n",
      "final.bias,   \tnorm: 1.1495e-01, \tupdate norm: 4.9839e-04 \tUpdate/norm: 4.3355e-03\n",
      "\n",
      "... 6.0951... 5.5648... 5.2784\n",
      "Iter 70... 4.8406... 6.0207... 5.1747\n",
      "Iter 80\n",
      "model saved to model_checkpoints/Model 8 (Basic+SliceNorm) Run 0/Model 8 (Basic+SliceNorm) Run 0-81\n",
      "(Epoch time: 52.70 minutes. Total epochs: 1)\n",
      "... 4.0060... 5.5773... 4.7710\n",
      "Iteration 90, loss = 4.3744, corrected loss = 55.2044\n",
      "Validation loss 59.7345 over 81 frames\n",
      "model saved to model_checkpoints/Model 8 (Basic+SliceNorm) Run 0/Model 8 (Basic+SliceNorm) Run 0-90\n",
      "conv_a1.weight,   \tnorm: 3.7690e+00, \tupdate norm: 6.7114e-03 \tUpdate/norm: 1.7807e-03\n",
      "conv_a1.bias,   \tnorm: 2.1260e-01, \tupdate norm: 1.3767e-03 \tUpdate/norm: 6.4757e-03\n",
      "conv_b1.weight,   \tnorm: 4.1167e+00, \tupdate norm: 5.9362e-03 \tUpdate/norm: 1.4420e-03\n",
      "conv_b1.bias,   \tnorm: 3.3696e-01, \tupdate norm: 1.0711e-03 \tUpdate/norm: 3.1786e-03\n",
      "final.weight,   \tnorm: 1.1229e+00, \tupdate norm: 2.5964e-03 \tUpdate/norm: 2.3122e-03\n",
      "final.bias,   \tnorm: 1.2411e-01, \tupdate norm: 1.4517e-04 \tUpdate/norm: 1.1696e-03\n",
      "\n",
      "... 4.8810... 4.5552... 5.1111\n",
      "Iter 100... 4.9364... 4.3768... 5.4582\n",
      "Iter 110... 4.6981... 4.6094... 5.3555\n",
      "Iteration 120, loss = 4.7045, corrected loss = 54.3464\n",
      "Validation loss 53.8954 over 81 frames\n",
      "model saved to model_checkpoints/Model 8 (Basic+SliceNorm) Run 0/Model 8 (Basic+SliceNorm) Run 0-120\n",
      "conv_a1.weight,   \tnorm: 3.7753e+00, \tupdate norm: 6.3490e-03 \tUpdate/norm: 1.6817e-03\n",
      "conv_a1.bias,   \tnorm: 2.2955e-01, \tupdate norm: 1.7933e-03 \tUpdate/norm: 7.8124e-03\n",
      "conv_b1.weight,   \tnorm: 4.1048e+00, \tupdate norm: 5.2606e-03 \tUpdate/norm: 1.2816e-03\n",
      "conv_b1.bias,   \tnorm: 3.4058e-01, \tupdate norm: 6.3241e-04 \tUpdate/norm: 1.8569e-03\n",
      "final.weight,   \tnorm: 1.0752e+00, \tupdate norm: 2.6274e-03 \tUpdate/norm: 2.4437e-03\n",
      "final.bias,   \tnorm: 1.2735e-01, \tupdate norm: 1.0405e-04 \tUpdate/norm: 8.1710e-04\n",
      "\n",
      "... 4.7066... 4.4033... 3.9077\n",
      "Iter 130... 4.4203... 4.2555... 4.1667\n",
      "Iter 140... 4.6342... 4.4987... 4.4475\n",
      "Iteration 150, loss = 3.8156, corrected loss = 48.7766\n",
      "Validation loss 50.0998 over 81 frames\n",
      "model saved to model_checkpoints/Model 8 (Basic+SliceNorm) Run 0/Model 8 (Basic+SliceNorm) Run 0-150\n",
      "conv_a1.weight,   \tnorm: 3.7814e+00, \tupdate norm: 6.0976e-03 \tUpdate/norm: 1.6125e-03\n",
      "conv_a1.bias,   \tnorm: 2.6540e-01, \tupdate norm: 2.1923e-03 \tUpdate/norm: 8.2602e-03\n",
      "conv_b1.weight,   \tnorm: 4.0937e+00, \tupdate norm: 4.2548e-03 \tUpdate/norm: 1.0394e-03\n",
      "conv_b1.bias,   \tnorm: 3.4236e-01, \tupdate norm: 7.4136e-04 \tUpdate/norm: 2.1655e-03\n",
      "final.weight,   \tnorm: 1.0368e+00, \tupdate norm: 2.1678e-03 \tUpdate/norm: 2.0908e-03\n",
      "final.bias,   \tnorm: 1.2957e-01, \tupdate norm: 8.4594e-05 \tUpdate/norm: 6.5286e-04\n",
      "\n",
      "... 4.5229... 3.8627... 4.2890\n",
      "Iter 160.\n",
      "model saved to model_checkpoints/Model 8 (Basic+SliceNorm) Run 0/Model 8 (Basic+SliceNorm) Run 0-162\n",
      "(Epoch time: 54.07 minutes. Total epochs: 2)\n",
      ".. 4.7873... 3.8647... 4.0212\n",
      "Iter 170... 3.7021... 4.4843... 3.6762\n",
      "Iteration 180, loss = 3.9255, corrected loss = 47.8770\n",
      "Validation loss 47.4597 over 81 frames\n",
      "model saved to model_checkpoints/Model 8 (Basic+SliceNorm) Run 0/Model 8 (Basic+SliceNorm) Run 0-180\n",
      "conv_a1.weight,   \tnorm: 3.7866e+00, \tupdate norm: 6.0143e-03 \tUpdate/norm: 1.5883e-03\n",
      "conv_a1.bias,   \tnorm: 3.1784e-01, \tupdate norm: 2.4819e-03 \tUpdate/norm: 7.8087e-03\n",
      "conv_b1.weight,   \tnorm: 4.0846e+00, \tupdate norm: 3.7759e-03 \tUpdate/norm: 9.2443e-04\n",
      "conv_b1.bias,   \tnorm: 3.4311e-01, \tupdate norm: 5.5437e-04 \tUpdate/norm: 1.6157e-03\n",
      "final.weight,   \tnorm: 1.0081e+00, \tupdate norm: 1.7688e-03 \tUpdate/norm: 1.7546e-03\n",
      "final.bias,   \tnorm: 1.3086e-01, \tupdate norm: 3.6955e-06 \tUpdate/norm: 2.8240e-05\n",
      "\n",
      "... 4.9541... 3.6064... 3.2693\n",
      "Iter 190... 4.1985... 4.2431... 3.6355\n",
      "Iter 200... 4.8441... 3.2958... 4.2149\n",
      "Iteration 210, loss = 3.4509, corrected loss = 40.4299\n",
      "Validation loss 45.7162 over 81 frames\n",
      "model saved to model_checkpoints/Model 8 (Basic+SliceNorm) Run 0/Model 8 (Basic+SliceNorm) Run 0-210\n",
      "conv_a1.weight,   \tnorm: 3.7871e+00, \tupdate norm: 5.1040e-03 \tUpdate/norm: 1.3477e-03\n",
      "conv_a1.bias,   \tnorm: 3.7484e-01, \tupdate norm: 1.9637e-03 \tUpdate/norm: 5.2387e-03\n",
      "conv_b1.weight,   \tnorm: 4.0765e+00, \tupdate norm: 3.3433e-03 \tUpdate/norm: 8.2013e-04\n",
      "conv_b1.bias,   \tnorm: 3.4284e-01, \tupdate norm: 5.9205e-04 \tUpdate/norm: 1.7269e-03\n",
      "final.weight,   \tnorm: 9.8606e-01, \tupdate norm: 1.5331e-03 \tUpdate/norm: 1.5548e-03\n",
      "final.bias,   \tnorm: 1.3076e-01, \tupdate norm: 8.1837e-05 \tUpdate/norm: 6.2584e-04\n",
      "\n",
      "... 3.7361... 3.8334... 3.0299\n",
      "Iter 220... 3.1197... 3.4842... 3.4687\n",
      "Iter 230... 3.6585... 3.8278... 4.4069\n",
      "Iteration 240, loss = 3.6957, corrected loss = 43.8158\n",
      "Validation loss 44.4408 over 81 frames\n",
      "model saved to model_checkpoints/Model 8 (Basic+SliceNorm) Run 0/Model 8 (Basic+SliceNorm) Run 0-240\n",
      "conv_a1.weight,   \tnorm: 3.7842e+00, \tupdate norm: 4.2908e-03 \tUpdate/norm: 1.1339e-03\n",
      "conv_a1.bias,   \tnorm: 4.2910e-01, \tupdate norm: 1.5280e-03 \tUpdate/norm: 3.5609e-03\n",
      "conv_b1.weight,   \tnorm: 4.0698e+00, \tupdate norm: 3.4214e-03 \tUpdate/norm: 8.4068e-04\n",
      "conv_b1.bias,   \tnorm: 3.4323e-01, \tupdate norm: 5.2782e-04 \tUpdate/norm: 1.5378e-03\n",
      "final.weight,   \tnorm: 9.6773e-01, \tupdate norm: 1.1293e-03 \tUpdate/norm: 1.1670e-03\n",
      "final.bias,   \tnorm: 1.3124e-01, \tupdate norm: 5.2914e-05 \tUpdate/norm: 4.0320e-04\n",
      "\n",
      "..\n",
      "model saved to model_checkpoints/Model 8 (Basic+SliceNorm) Run 0/Model 8 (Basic+SliceNorm) Run 0-243\n"
     ]
    }
   ],
   "source": [
    "train(model, post_proc, optimizer, train_loader, val_loader, loss_fn, device, \n",
    "         model_name, loss_history, epochs=3, print_every=30, print_level=4, lr_decay=1)"
   ]
  },
  {
   "cell_type": "code",
   "execution_count": null,
   "metadata": {},
   "outputs": [],
   "source": [
    "# One last test + visualize results on 1 validation sequence\n",
    "val_seq = TAVR_Sequence(\"__valid\")\n",
    "test(model, val_loader, loss_fn, device)\n",
    "test(ave_model, val_loader, loss_fn, device)\n",
    "\n",
    "with torch.no_grad():\n",
    "    model.eval()\n",
    "    ave_frames = [val_seq[0][0]]\n",
    "    for i in range(2,9,2):\n",
    "        ave_frame = model((val_seq[0][i-2][None,:], val_seq[0][i][None,:]))\n",
    "        ave_frames += [ave_frame[0][0],  val_seq[0][i]]\n",
    "    ave_frames += [val_seq[0][9]]\n",
    "    ave_frames_slices = []\n",
    "    for f in ave_frames:\n",
    "        ave_frames_slices += get_central_slices(f)\n",
    "    set_figsize(6,20)\n",
    "    display_grid(10, 3, ave_frames_slices)"
   ]
  },
  {
   "cell_type": "code",
   "execution_count": null,
   "metadata": {},
   "outputs": [],
   "source": [
    "optimizer.param_groups[0]['lr']"
   ]
  },
  {
   "cell_type": "code",
   "execution_count": null,
   "metadata": {},
   "outputs": [],
   "source": [
    "for p in model.parameters():\n",
    "    print(p.norm())"
   ]
  }
 ],
 "metadata": {
  "kernelspec": {
   "display_name": "Python 3",
   "language": "python",
   "name": "python3"
  },
  "language_info": {
   "codemirror_mode": {
    "name": "ipython",
    "version": 3
   },
   "file_extension": ".py",
   "mimetype": "text/x-python",
   "name": "python",
   "nbconvert_exporter": "python",
   "pygments_lexer": "ipython3",
   "version": "3.6.4"
  }
 },
 "nbformat": 4,
 "nbformat_minor": 2
}
